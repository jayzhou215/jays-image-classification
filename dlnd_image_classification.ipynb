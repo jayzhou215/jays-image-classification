{
 "cells": [
  {
   "cell_type": "markdown",
   "metadata": {
    "collapsed": true
   },
   "source": [
    "# Image Classification\n",
    "In this project, you'll classify images from the [CIFAR-10 dataset](https://www.cs.toronto.edu/~kriz/cifar.html).  The dataset consists of airplanes, dogs, cats, and other objects. You'll preprocess the images, then train a convolutional neural network on all the samples. The images need to be normalized and the labels need to be one-hot encoded.  You'll get to apply what you learned and build a convolutional, max pooling, dropout, and fully connected layers.  At the end, you'll get to see your neural network's predictions on the sample images.\n",
    "## Get the Data\n",
    "Run the following cell to download the [CIFAR-10 dataset for python](https://www.cs.toronto.edu/~kriz/cifar-10-python.tar.gz)."
   ]
  },
  {
   "cell_type": "code",
   "execution_count": 1,
   "metadata": {},
   "outputs": [
    {
     "name": "stdout",
     "output_type": "stream",
     "text": [
      "All files found!\n"
     ]
    }
   ],
   "source": [
    "\"\"\"\n",
    "DON'T MODIFY ANYTHING IN THIS CELL THAT IS BELOW THIS LINE\n",
    "\"\"\"\n",
    "from urllib.request import urlretrieve\n",
    "from os.path import isfile, isdir\n",
    "from tqdm import tqdm\n",
    "import problem_unittests as tests\n",
    "import tarfile\n",
    "\n",
    "cifar10_dataset_folder_path = 'cifar-10-batches-py'\n",
    "\n",
    "# Use Floyd's cifar-10 dataset if present\n",
    "floyd_cifar10_location = '/input/cifar-10/python.tar.gz'\n",
    "if isfile(floyd_cifar10_location):\n",
    "    tar_gz_path = floyd_cifar10_location\n",
    "else:\n",
    "    tar_gz_path = 'cifar-10-python.tar.gz'\n",
    "\n",
    "class DLProgress(tqdm):\n",
    "    last_block = 0\n",
    "\n",
    "    def hook(self, block_num=1, block_size=1, total_size=None):\n",
    "        self.total = total_size\n",
    "        self.update((block_num - self.last_block) * block_size)\n",
    "        self.last_block = block_num\n",
    "\n",
    "if not isfile(tar_gz_path):\n",
    "    with DLProgress(unit='B', unit_scale=True, miniters=1, desc='CIFAR-10 Dataset') as pbar:\n",
    "        urlretrieve(\n",
    "            'https://www.cs.toronto.edu/~kriz/cifar-10-python.tar.gz',\n",
    "            tar_gz_path,\n",
    "            pbar.hook)\n",
    "\n",
    "if not isdir(cifar10_dataset_folder_path):\n",
    "    with tarfile.open(tar_gz_path) as tar:\n",
    "        tar.extractall()\n",
    "        tar.close()\n",
    "\n",
    "\n",
    "tests.test_folder_path(cifar10_dataset_folder_path)"
   ]
  },
  {
   "cell_type": "markdown",
   "metadata": {},
   "source": [
    "## Explore the Data\n",
    "The dataset is broken into batches to prevent your machine from running out of memory.  The CIFAR-10 dataset consists of 5 batches, named `data_batch_1`, `data_batch_2`, etc.. Each batch contains the labels and images that are one of the following:\n",
    "* airplane\n",
    "* automobile\n",
    "* bird\n",
    "* cat\n",
    "* deer\n",
    "* dog\n",
    "* frog\n",
    "* horse\n",
    "* ship\n",
    "* truck\n",
    "\n",
    "Understanding a dataset is part of making predictions on the data.  Play around with the code cell below by changing the `batch_id` and `sample_id`. The `batch_id` is the id for a batch (1-5). The `sample_id` is the id for a image and label pair in the batch.\n",
    "\n",
    "Ask yourself \"What are all possible labels?\", \"What is the range of values for the image data?\", \"Are the labels in order or random?\".  Answers to questions like these will help you preprocess the data and end up with better predictions."
   ]
  },
  {
   "cell_type": "code",
   "execution_count": 2,
   "metadata": {},
   "outputs": [
    {
     "name": "stderr",
     "output_type": "stream",
     "text": [
      "/usr/local/lib/python3.5/site-packages/matplotlib/font_manager.py:280: UserWarning: Matplotlib is building the font cache using fc-list. This may take a moment.\n",
      "  'Matplotlib is building the font cache using fc-list. '\n"
     ]
    },
    {
     "name": "stdout",
     "output_type": "stream",
     "text": [
      "\n",
      "Stats of batch 1:\n",
      "Samples: 10000\n",
      "Label Counts: {0: 1005, 1: 974, 2: 1032, 3: 1016, 4: 999, 5: 937, 6: 1030, 7: 1001, 8: 1025, 9: 981}\n",
      "First 20 Labels: [6, 9, 9, 4, 1, 1, 2, 7, 8, 3, 4, 7, 7, 2, 9, 9, 9, 3, 2, 6]\n",
      "\n",
      "Example of Image 6:\n",
      "Image - Min Value: 7 Max Value: 249\n",
      "Image - Shape: (32, 32, 3)\n",
      "Label - Label Id: 2 Name: bird\n"
     ]
    },
    {
     "data": {
      "image/png": "[encoded data removed]",
      "text/plain": [
       "<matplotlib.figure.Figure at 0x7f673f2b1d30>"
      ]
     },
     "metadata": {
      "image/png": {
       "height": 250,
       "width": 253
      }
     },
     "output_type": "display_data"
    }
   ],
   "source": [
    "%matplotlib inline\n",
    "%config InlineBackend.figure_format = 'retina'\n",
    "\n",
    "import helper\n",
    "import numpy as np\n",
    "\n",
    "# Explore the dataset\n",
    "batch_id = 1\n",
    "sample_id = 6\n",
    "helper.display_stats(cifar10_dataset_folder_path, batch_id, sample_id)"
   ]
  },
  {
   "cell_type": "markdown",
   "metadata": {},
   "source": [
    "## Implement Preprocess Functions\n",
    "### Normalize\n",
    "In the cell below, implement the `normalize` function to take in image data, `x`, and return it as a normalized Numpy array. The values should be in the range of 0 to 1, inclusive.  The return object should be the same shape as `x`."
   ]
  },
  {
   "cell_type": "code",
   "execution_count": 3,
   "metadata": {},
   "outputs": [
    {
     "name": "stdout",
     "output_type": "stream",
     "text": [
      "Tests Passed\n"
     ]
    }
   ],
   "source": [
    "def normalize(x):\n",
    "    \"\"\"\n",
    "    Normalize a list of sample image data in the range of 0 to 1\n",
    "    : x: List of image data.  The image shape is (32, 32, 3)\n",
    "    : return: Numpy array of normalize data\n",
    "    \"\"\"\n",
    "    # TODO: Implement Function\n",
    "    if len(x) == 0:\n",
    "        return np.array()\n",
    "    first_image = x[0]\n",
    "    n_images = len(x)\n",
    "    height = first_image.shape[0]\n",
    "    width = first_image.shape[1]\n",
    "    deepth = first_image.shape[2]\n",
    "    images = np.zeros((n_images, height, width, deepth))\n",
    "    for index,image in enumerate(x):\n",
    "        images[index] = np.divide(np.array(image), 256)\n",
    "    return images\n",
    "\n",
    "\n",
    "\"\"\"\n",
    "DON'T MODIFY ANYTHING IN THIS CELL THAT IS BELOW THIS LINE\n",
    "\"\"\"\n",
    "tests.test_normalize(normalize)"
   ]
  },
  {
   "cell_type": "markdown",
   "metadata": {},
   "source": [
    "### One-hot encode\n",
    "Just like the previous code cell, you'll be implementing a function for preprocessing.  This time, you'll implement the `one_hot_encode` function. The input, `x`, are a list of labels.  Implement the function to return the list of labels as One-Hot encoded Numpy array.  The possible values for labels are 0 to 9. The one-hot encoding function should return the same encoding for each value between each call to `one_hot_encode`.  Make sure to save the map of encodings outside the function.\n",
    "\n",
    "Hint: Don't reinvent the wheel."
   ]
  },
  {
   "cell_type": "code",
   "execution_count": 4,
   "metadata": {},
   "outputs": [
    {
     "name": "stdout",
     "output_type": "stream",
     "text": [
      "Tests Passed\n"
     ]
    }
   ],
   "source": [
    "def one_hot_encode(x):\n",
    "    \"\"\"\n",
    "    One hot encode a list of sample labels. Return a one-hot encoded vector for each label.\n",
    "    : x: List of sample Labels\n",
    "    : return: Numpy array of one-hot encoded labels\n",
    "    \"\"\"\n",
    "    return np.eye(10)[x]\n",
    "\n",
    "\"\"\"\n",
    "DON'T MODIFY ANYTHING IN THIS CELL THAT IS BELOW THIS LINE\n",
    "\"\"\"\n",
    "tests.test_one_hot_encode(one_hot_encode)"
   ]
  },
  {
   "cell_type": "markdown",
   "metadata": {},
   "source": [
    "### Randomize Data\n",
    "As you saw from exploring the data above, the order of the samples are randomized.  It doesn't hurt to randomize it again, but you don't need to for this dataset."
   ]
  },
  {
   "cell_type": "markdown",
   "metadata": {},
   "source": [
    "## Preprocess all the data and save it\n",
    "Running the code cell below will preprocess all the CIFAR-10 data and save it to file. The code below also uses 10% of the training data for validation."
   ]
  },
  {
   "cell_type": "code",
   "execution_count": 5,
   "metadata": {
    "collapsed": true
   },
   "outputs": [],
   "source": [
    "\"\"\"\n",
    "DON'T MODIFY ANYTHING IN THIS CELL\n",
    "\"\"\"\n",
    "# Preprocess Training, Validation, and Testing Data\n",
    "helper.preprocess_and_save_data(cifar10_dataset_folder_path, normalize, one_hot_encode)"
   ]
  },
  {
   "cell_type": "markdown",
   "metadata": {},
   "source": [
    "# Check Point\n",
    "This is your first checkpoint.  If you ever decide to come back to this notebook or have to restart the notebook, you can start from here.  The preprocessed data has been saved to disk."
   ]
  },
  {
   "cell_type": "code",
   "execution_count": 6,
   "metadata": {
    "collapsed": true
   },
   "outputs": [],
   "source": [
    "\"\"\"\n",
    "DON'T MODIFY ANYTHING IN THIS CELL\n",
    "\"\"\"\n",
    "import pickle\n",
    "import problem_unittests as tests\n",
    "import helper\n",
    "import numpy as np\n",
    "\n",
    "# Load the Preprocessed Validation data\n",
    "valid_features, valid_labels = pickle.load(open('preprocess_validation.p', mode='rb'))"
   ]
  },
  {
   "cell_type": "markdown",
   "metadata": {},
   "source": [
    "## Build the network\n",
    "For the neural network, you'll build each layer into a function.  Most of the code you've seen has been outside of functions. To test your code more thoroughly, we require that you put each layer in a function.  This allows us to give you better feedback and test for simple mistakes using our unittests before you submit your project.\n",
    "\n",
    ">**Note:** If you're finding it hard to dedicate enough time for this course each week, we've provided a small shortcut to this part of the project. In the next couple of problems, you'll have the option to use classes from the [TensorFlow Layers](https://www.tensorflow.org/api_docs/python/tf/layers) or [TensorFlow Layers (contrib)](https://www.tensorflow.org/api_guides/python/contrib.layers) packages to build each layer, except the layers you build in the \"Convolutional and Max Pooling Layer\" section.  TF Layers is similar to Keras's and TFLearn's abstraction to layers, so it's easy to pickup.\n",
    "\n",
    ">However, if you would like to get the most out of this course, try to solve all the problems _without_ using anything from the TF Layers packages. You **can** still use classes from other packages that happen to have the same name as ones you find in TF Layers! For example, instead of using the TF Layers version of the `conv2d` class, [tf.layers.conv2d](https://www.tensorflow.org/api_docs/python/tf/layers/conv2d), you would want to use the TF Neural Network version of `conv2d`, [tf.nn.conv2d](https://www.tensorflow.org/api_docs/python/tf/nn/conv2d). \n",
    "\n",
    "Let's begin!\n",
    "\n",
    "### Input\n",
    "The neural network needs to read the image data, one-hot encoded labels, and dropout keep probability. Implement the following functions\n",
    "* Implement `neural_net_image_input`\n",
    " * Return a [TF Placeholder](https://www.tensorflow.org/api_docs/python/tf/placeholder)\n",
    " * Set the shape using `image_shape` with batch size set to `None`.\n",
    " * Name the TensorFlow placeholder \"x\" using the TensorFlow `name` parameter in the [TF Placeholder](https://www.tensorflow.org/api_docs/python/tf/placeholder).\n",
    "* Implement `neural_net_label_input`\n",
    " * Return a [TF Placeholder](https://www.tensorflow.org/api_docs/python/tf/placeholder)\n",
    " * Set the shape using `n_classes` with batch size set to `None`.\n",
    " * Name the TensorFlow placeholder \"y\" using the TensorFlow `name` parameter in the [TF Placeholder](https://www.tensorflow.org/api_docs/python/tf/placeholder).\n",
    "* Implement `neural_net_keep_prob_input`\n",
    " * Return a [TF Placeholder](https://www.tensorflow.org/api_docs/python/tf/placeholder) for dropout keep probability.\n",
    " * Name the TensorFlow placeholder \"keep_prob\" using the TensorFlow `name` parameter in the [TF Placeholder](https://www.tensorflow.org/api_docs/python/tf/placeholder).\n",
    "\n",
    "These names will be used at the end of the project to load your saved model.\n",
    "\n",
    "Note: `None` for shapes in TensorFlow allow for a dynamic size."
   ]
  },
  {
   "cell_type": "code",
   "execution_count": 7,
   "metadata": {},
   "outputs": [
    {
     "name": "stdout",
     "output_type": "stream",
     "text": [
      "Image Input Tests Passed.\n",
      "Label Input Tests Passed.\n",
      "Keep Prob Tests Passed.\n"
     ]
    }
   ],
   "source": [
    "import tensorflow as tf\n",
    "\n",
    "def neural_net_image_input(image_shape):\n",
    "    \"\"\"\n",
    "    Return a Tensor for a batch of image input\n",
    "    : image_shape: Shape of the images\n",
    "    : return: Tensor for image input.\n",
    "    \"\"\"\n",
    "    return tf.placeholder(dtype=tf.float32, shape=(None, image_shape[0], image_shape[1], image_shape[2]), name=\"x\")\n",
    "\n",
    "\n",
    "def neural_net_label_input(n_classes):\n",
    "    \"\"\"\n",
    "    Return a Tensor for a batch of label input\n",
    "    : n_classes: Number of classes\n",
    "    : return: Tensor for label input.\n",
    "    \"\"\"\n",
    "    return tf.placeholder(dtype=tf.float32, shape=(None, n_classes), name=\"y\")\n",
    "\n",
    "\n",
    "def neural_net_keep_prob_input():\n",
    "    \"\"\"\n",
    "    Return a Tensor for keep probability\n",
    "    : return: Tensor for keep probability.\n",
    "    \"\"\"\n",
    "    return tf.placeholder(dtype=tf.float32, name=\"keep_prob\")\n",
    "\n",
    "\n",
    "\"\"\"\n",
    "DON'T MODIFY ANYTHING IN THIS CELL THAT IS BELOW THIS LINE\n",
    "\"\"\"\n",
    "tf.reset_default_graph()\n",
    "tests.test_nn_image_inputs(neural_net_image_input)\n",
    "tests.test_nn_label_inputs(neural_net_label_input)\n",
    "tests.test_nn_keep_prob_inputs(neural_net_keep_prob_input)"
   ]
  },
  {
   "cell_type": "markdown",
   "metadata": {},
   "source": [
    "### Convolution and Max Pooling Layer\n",
    "Convolution layers have a lot of success with images. For this code cell, you should implement the function `conv2d_maxpool` to apply convolution then max pooling:\n",
    "* Create the weight and bias using `conv_ksize`, `conv_num_outputs` and the shape of `x_tensor`.\n",
    "* Apply a convolution to `x_tensor` using weight and `conv_strides`.\n",
    " * We recommend you use same padding, but you're welcome to use any padding.\n",
    "* Add bias\n",
    "* Add a nonlinear activation to the convolution.\n",
    "* Apply Max Pooling using `pool_ksize` and `pool_strides`.\n",
    " * We recommend you use same padding, but you're welcome to use any padding.\n",
    "\n",
    "**Note:** You **can't** use [TensorFlow Layers](https://www.tensorflow.org/api_docs/python/tf/layers) or [TensorFlow Layers (contrib)](https://www.tensorflow.org/api_guides/python/contrib.layers) for **this** layer, but you can still use TensorFlow's [Neural Network](https://www.tensorflow.org/api_docs/python/tf/nn) package. You may still use the shortcut option for all the **other** layers."
   ]
  },
  {
   "cell_type": "code",
   "execution_count": 8,
   "metadata": {},
   "outputs": [
    {
     "name": "stdout",
     "output_type": "stream",
     "text": [
      "Tests Passed\n"
     ]
    }
   ],
   "source": [
    "def conv2d_maxpool(x_tensor, conv_num_outputs, conv_ksize, conv_strides, pool_ksize, pool_strides):\n",
    "    \"\"\"\n",
    "    Apply convolution then max pooling to x_tensor\n",
    "    :param x_tensor: TensorFlow Tensor\n",
    "    :param conv_num_outputs: Number of outputs for the convolutional layer\n",
    "    :param conv_ksize: kernal size 2-D Tuple for the convolutional layer\n",
    "    :param conv_strides: Stride 2-D Tuple for convolution\n",
    "    :param pool_ksize: kernal size 2-D Tuple for pool\n",
    "    :param pool_strides: Stride 2-D Tuple for pool\n",
    "    : return: A tensor that represents convolution and max pooling of x_tensor\n",
    "    \"\"\"\n",
    "    filter_size_height = conv_ksize[0]\n",
    "    filter_size_width = conv_ksize[1]\n",
    "    channels = int(x_tensor.shape[3])\n",
    "\n",
    "    weight = tf.Variable(tf.truncated_normal([filter_size_height, filter_size_width, channels, conv_num_outputs]))\n",
    "    bias = tf.Variable(tf.zeros(conv_num_outputs))\n",
    "    conv_layer = tf.nn.conv2d(x_tensor, weight, [1, conv_strides[0], conv_strides[1], 1], 'SAME')\n",
    "    conv_layer = tf.nn.bias_add(conv_layer, bias)\n",
    "    conv_layer = tf.nn.relu(conv_layer)\n",
    "    max_pooling = tf.nn.max_pool(conv_layer, [1, pool_ksize[0], pool_ksize[1], 1], [1, pool_strides[0], pool_strides[1], 1], 'SAME')\n",
    "    return max_pooling\n",
    "\n",
    "\n",
    "\"\"\"\n",
    "DON'T MODIFY ANYTHING IN THIS CELL THAT IS BELOW THIS LINE\n",
    "\"\"\"\n",
    "tf.reset_default_graph()\n",
    "tests.test_con_pool(conv2d_maxpool)"
   ]
  },
  {
   "cell_type": "markdown",
   "metadata": {},
   "source": [
    "### Flatten Layer\n",
    "Implement the `flatten` function to change the dimension of `x_tensor` from a 4-D tensor to a 2-D tensor.  The output should be the shape (*Batch Size*, *Flattened Image Size*). Shortcut option: you can use classes from the [TensorFlow Layers](https://www.tensorflow.org/api_docs/python/tf/layers) or [TensorFlow Layers (contrib)](https://www.tensorflow.org/api_guides/python/contrib.layers) packages for this layer. For more of a challenge, only use other TensorFlow packages."
   ]
  },
  {
   "cell_type": "code",
   "execution_count": 9,
   "metadata": {},
   "outputs": [
    {
     "name": "stdout",
     "output_type": "stream",
     "text": [
      "Tests Passed\n"
     ]
    }
   ],
   "source": [
    "def flatten(x_tensor):\n",
    "    \"\"\"\n",
    "    Flatten x_tensor to (Batch Size, Flattened Image Size)\n",
    "    : x_tensor: A tensor of size (Batch Size, ...), where ... are the image dimensions.\n",
    "    : return: A tensor of size (Batch Size, Flattened Image Size).\n",
    "    \"\"\"\n",
    "    return tf.reshape(x_tensor, [-1, int(np.prod(x_tensor.shape[1:]))])\n",
    "\n",
    "\n",
    "\"\"\"\n",
    "DON'T MODIFY ANYTHING IN THIS CELL THAT IS BELOW THIS LINE\n",
    "\"\"\"\n",
    "tests.test_flatten(flatten)"
   ]
  },
  {
   "cell_type": "markdown",
   "metadata": {},
   "source": [
    "### Fully-Connected Layer\n",
    "Implement the `fully_conn` function to apply a fully connected layer to `x_tensor` with the shape (*Batch Size*, *num_outputs*). Shortcut option: you can use classes from the [TensorFlow Layers](https://www.tensorflow.org/api_docs/python/tf/layers) or [TensorFlow Layers (contrib)](https://www.tensorflow.org/api_guides/python/contrib.layers) packages for this layer. For more of a challenge, only use other TensorFlow packages."
   ]
  },
  {
   "cell_type": "code",
   "execution_count": 97,
   "metadata": {},
   "outputs": [
    {
     "name": "stdout",
     "output_type": "stream",
     "text": [
      "Tests Passed\n"
     ]
    }
   ],
   "source": [
    "def fully_conn(x_tensor, num_outputs):\n",
    "    \"\"\"\n",
    "    Apply a fully connected layer to x_tensor using weight and bias\n",
    "    : x_tensor: A 2-D tensor where the first dimension is batch size.\n",
    "    : num_outputs: The number of output that the new tensor should be.\n",
    "    : return: A 2-D tensor where the second dimension is num_outputs.\n",
    "    \"\"\"\n",
    "    channels = int(x_tensor.shape[1])\n",
    "    weight = tf.Variable(tf.truncated_normal([channels, num_outputs], stddev=0.008))\n",
    "    bias = tf.Variable(tf.zeros(num_outputs))\n",
    "    output = tf.nn.bias_add(tf.matmul(x_tensor, weight), bias)\n",
    "    return tf.nn.relu(output)\n",
    "#     return tf.contrib.layers.fully_connected(x_tensor,num_outputs)\n",
    "\n",
    "\n",
    "\"\"\"\n",
    "DON'T MODIFY ANYTHING IN THIS CELL THAT IS BELOW THIS LINE\n",
    "\"\"\"\n",
    "tests.test_fully_conn(fully_conn)"
   ]
  },
  {
   "cell_type": "markdown",
   "metadata": {},
   "source": [
    "### Output Layer\n",
    "Implement the `output` function to apply a fully connected layer to `x_tensor` with the shape (*Batch Size*, *num_outputs*). Shortcut option: you can use classes from the [TensorFlow Layers](https://www.tensorflow.org/api_docs/python/tf/layers) or [TensorFlow Layers (contrib)](https://www.tensorflow.org/api_guides/python/contrib.layers) packages for this layer. For more of a challenge, only use other TensorFlow packages.\n",
    "\n",
    "**Note:** Activation, softmax, or cross entropy should **not** be applied to this."
   ]
  },
  {
   "cell_type": "code",
   "execution_count": 98,
   "metadata": {},
   "outputs": [
    {
     "name": "stdout",
     "output_type": "stream",
     "text": [
      "Tests Passed\n"
     ]
    }
   ],
   "source": [
    "def output(x_tensor, num_outputs):\n",
    "    \"\"\"\n",
    "    Apply a output layer to x_tensor using weight and bias\n",
    "    : x_tensor: A 2-D tensor where the first dimension is batch size.\n",
    "    : num_outputs: The number of output that the new tensor should be.\n",
    "    : return: A 2-D tensor where the second dimension is num_outputs.\n",
    "    \"\"\"\n",
    "    channels = int(x_tensor.shape[1])\n",
    "    weight = tf.Variable(tf.truncated_normal([channels, num_outputs], stddev=0.008))\n",
    "    bias = tf.Variable(tf.zeros(num_outputs))\n",
    "    output = tf.nn.bias_add(tf.matmul(x_tensor, weight), bias)\n",
    "    return output\n",
    "#     return tf.matmul(x_tensor, weight)\n",
    "#     return tf.layers.dense(x_tensor,num_outputs)\n",
    "\n",
    "\n",
    "\"\"\"\n",
    "DON'T MODIFY ANYTHING IN THIS CELL THAT IS BELOW THIS LINE\n",
    "\"\"\"\n",
    "tests.test_output(output)"
   ]
  },
  {
   "cell_type": "markdown",
   "metadata": {},
   "source": [
    "### Create Convolutional Model\n",
    "Implement the function `conv_net` to create a convolutional neural network model. The function takes in a batch of images, `x`, and outputs logits.  Use the layers you created above to create this model:\n",
    "\n",
    "* Apply 1, 2, or 3 Convolution and Max Pool layers\n",
    "* Apply a Flatten Layer\n",
    "* Apply 1, 2, or 3 Fully Connected Layers\n",
    "* Apply an Output Layer\n",
    "* Return the output\n",
    "* Apply [TensorFlow's Dropout](https://www.tensorflow.org/api_docs/python/tf/nn/dropout) to one or more layers in the model using `keep_prob`. "
   ]
  },
  {
   "cell_type": "code",
   "execution_count": 99,
   "metadata": {},
   "outputs": [
    {
     "name": "stdout",
     "output_type": "stream",
     "text": [
      "Neural Network Built!\n"
     ]
    }
   ],
   "source": [
    "def conv_net(x, keep_prob):\n",
    "    \"\"\"\n",
    "    Create a convolutional neural network model\n",
    "    : x: Placeholder tensor that holds image data.\n",
    "    : keep_prob: Placeholder tensor that hold dropout keep probability.\n",
    "    : return: Tensor that represents logits\n",
    "    \"\"\"\n",
    "    # TODO: Apply 1, 2, or 3 Convolution and Max Pool layers\n",
    "    #    Play around with different number of outputs, kernel size and stride\n",
    "    # Function Definition from Above:\n",
    "    #    conv2d_maxpool(x_tensor, conv_num_outputs, conv_ksize, conv_strides, pool_ksize, pool_strides)\n",
    "    conv1_num_outputs = 32\n",
    "    conv1_ksize = (3, 3)\n",
    "    conv1_strides = (1, 1)\n",
    "    pool_ksize = (2, 2)\n",
    "    pool_strides = (2, 2)\n",
    "    conv_layer1 = conv2d_maxpool(x, conv1_num_outputs, conv1_ksize, conv1_strides, pool_ksize, pool_strides)\n",
    "\n",
    "\n",
    "    conv2_num_outputs = 64\n",
    "    conv2_ksize = (3, 3)\n",
    "    conv2_strides = (1, 1)\n",
    "    conv_layer2 = conv2d_maxpool(conv_layer1, conv2_num_outputs, conv2_ksize, conv2_strides, pool_ksize, pool_strides)\n",
    "\n",
    "#     conv3_num_outputs = 96\n",
    "#     conv3_ksize = (3, 3)  \n",
    "#     conv3_strides = (1, 1)\n",
    "#     conv_layer3 = conv2d_maxpool(conv_layer2, conv3_num_outputs, conv3_ksize, conv3_strides, pool_ksize, pool_strides)\n",
    "    \n",
    "    \n",
    "    # TODO: Apply a Flatten Layer\n",
    "    # Function Definition from Above:\n",
    "    #   flatten(x_tensor)\n",
    "    flatten_layer = flatten(conv_layer2)\n",
    "\n",
    "    # TODO: Apply 1, 2, or 3 Fully Connected Layers\n",
    "    #    Play around with different number of outputs\n",
    "    # Function Definition from Above:\n",
    "    #   fully_conn(x_tensor, num_outputs)\n",
    "\n",
    "    fully_num_outputs = int(flatten_layer.shape[1])\n",
    "    fully_layer = fully_conn(flatten_layer, fully_num_outputs)\n",
    "#     fully_layer2 = fully_conn(fully_layer, fully_num_outputs)\n",
    "    dropout_layer = tf.nn.dropout(fully_layer, keep_prob)\n",
    "    \n",
    "    # TODO: Apply an Output Layer\n",
    "    #    Set this to the number of classes\n",
    "    # Function Definition from Above:\n",
    "    #   output(x_tensor, num_outputs)\n",
    "    output_result = output(dropout_layer, 10)\n",
    "\n",
    "    # TODO: return output\n",
    "    return output_result\n",
    "\n",
    "\n",
    "\"\"\"\n",
    "DON'T MODIFY ANYTHING IN THIS CELL THAT IS BELOW THIS LINE\n",
    "\"\"\"\n",
    "\n",
    "##############################\n",
    "## Build the Neural Network ##\n",
    "##############################\n",
    "\n",
    "# Remove previous weights, bias, inputs, etc..\n",
    "tf.reset_default_graph()\n",
    "\n",
    "# Inputs\n",
    "x = neural_net_image_input((32, 32, 3))\n",
    "y = neural_net_label_input(10)\n",
    "keep_prob = neural_net_keep_prob_input()\n",
    "\n",
    "# Model\n",
    "logits = conv_net(x, keep_prob)\n",
    "\n",
    "# Name logits Tensor, so that is can be loaded from disk after training\n",
    "logits = tf.identity(logits, name='logits')\n",
    "\n",
    "# Loss and Optimizer\n",
    "cost = tf.reduce_mean(tf.nn.softmax_cross_entropy_with_logits(logits=logits, labels=y))\n",
    "optimizer = tf.train.AdamOptimizer().minimize(cost)\n",
    "\n",
    "# Accuracy\n",
    "correct_pred = tf.equal(tf.argmax(logits, 1), tf.argmax(y, 1))\n",
    "accuracy = tf.reduce_mean(tf.cast(correct_pred, tf.float32), name='accuracy')\n",
    "\n",
    "tests.test_conv_net(conv_net)"
   ]
  },
  {
   "cell_type": "markdown",
   "metadata": {},
   "source": [
    "## Train the Neural Network\n",
    "### Single Optimization\n",
    "Implement the function `train_neural_network` to do a single optimization.  The optimization should use `optimizer` to optimize in `session` with a `feed_dict` of the following:\n",
    "* `x` for image input\n",
    "* `y` for labels\n",
    "* `keep_prob` for keep probability for dropout\n",
    "\n",
    "This function will be called for each batch, so `tf.global_variables_initializer()` has already been called.\n",
    "\n",
    "Note: Nothing needs to be returned. This function is only optimizing the neural network."
   ]
  },
  {
   "cell_type": "code",
   "execution_count": 60,
   "metadata": {},
   "outputs": [
    {
     "name": "stdout",
     "output_type": "stream",
     "text": [
      "Tests Passed\n"
     ]
    }
   ],
   "source": [
    "def train_neural_network(session, optimizer, keep_probability, feature_batch, label_batch):\n",
    "    \"\"\"\n",
    "    Optimize the session on a batch of images and labels\n",
    "    : session: Current TensorFlow session\n",
    "    : optimizer: TensorFlow optimizer function\n",
    "    : keep_probability: keep probability\n",
    "    : feature_batch: Batch of Numpy image data\n",
    "    : label_batch: Batch of Numpy label data\n",
    "    \"\"\"\n",
    "    session.run(optimizer,{keep_prob : keep_probability, x:feature_batch, y:label_batch})\n",
    "\n",
    "\n",
    "\"\"\"\n",
    "DON'T MODIFY ANYTHING IN THIS CELL THAT IS BELOW THIS LINE\n",
    "\"\"\"\n",
    "tests.test_train_nn(train_neural_network)"
   ]
  },
  {
   "cell_type": "markdown",
   "metadata": {},
   "source": [
    "### Show Stats\n",
    "Implement the function `print_stats` to print loss and validation accuracy.  Use the global variables `valid_features` and `valid_labels` to calculate validation accuracy.  Use a keep probability of `1.0` to calculate the loss and validation accuracy."
   ]
  },
  {
   "cell_type": "code",
   "execution_count": 17,
   "metadata": {
    "collapsed": true
   },
   "outputs": [],
   "source": [
    "def print_stats(session, feature_batch, label_batch, cost, accuracy):\n",
    "    \"\"\"\n",
    "    Print information about loss and validation accuracy\n",
    "    : session: Current TensorFlow session\n",
    "    : feature_batch: Batch of Numpy image data\n",
    "    : label_batch: Batch of Numpy label data\n",
    "    : cost: TensorFlow cost function\n",
    "    : accuracy: TensorFlow accuracy function\n",
    "    \"\"\"\n",
    "    valid_accuracy = session.run(accuracy, {x : valid_features, y : valid_labels, keep_prob : 1.0})\n",
    "    accuracy_result = session.run(accuracy, {x : feature_batch, y : label_batch, keep_prob : 1.0})\n",
    "    cost_result = session.run(cost, {x : feature_batch, y : label_batch, keep_prob : 1.0})\n",
    "    print(\"valid_accuracy : \", valid_accuracy, \", accuracy : \",accuracy_result, \", cost : \",cost_result)\n",
    "    "
   ]
  },
  {
   "cell_type": "markdown",
   "metadata": {},
   "source": [
    "### Hyperparameters\n",
    "Tune the following parameters:\n",
    "* Set `epochs` to the number of iterations until the network stops learning or start overfitting\n",
    "* Set `batch_size` to the highest number that your machine has memory for.  Most people set them to common sizes of memory:\n",
    " * 64\n",
    " * 128\n",
    " * 256\n",
    " * ...\n",
    "* Set `keep_probability` to the probability of keeping a node using dropout"
   ]
  },
  {
   "cell_type": "code",
   "execution_count": 61,
   "metadata": {
    "collapsed": true
   },
   "outputs": [],
   "source": [
    "# TODO: Tune Parameters\n",
    "epochs = 50\n",
    "batch_size = 256\n",
    "keep_probability = 0.5"
   ]
  },
  {
   "cell_type": "markdown",
   "metadata": {},
   "source": [
    "### Train on a Single CIFAR-10 Batch\n",
    "Instead of training the neural network on all the CIFAR-10 batches of data, let's use a single batch. This should save time while you iterate on the model to get a better accuracy.  Once the final validation accuracy is 50% or greater, run the model on all the data in the next section."
   ]
  },
  {
   "cell_type": "code",
   "execution_count": 100,
   "metadata": {},
   "outputs": [
    {
     "name": "stdout",
     "output_type": "stream",
     "text": [
      "Checking the Training on a Single Batch...\n",
      " Epoch  1, CIFAR-10 Batch 1:  valid_accuracy :  0.2404 , accuracy :  0.325 , cost :  2.13214\n",
      " Epoch  2, CIFAR-10 Batch 1:  valid_accuracy :  0.3448 , accuracy :  0.325 , cost :  1.97082\n",
      " Epoch  3, CIFAR-10 Batch 1:  valid_accuracy :  0.3842 , accuracy :  0.425 , cost :  1.86432\n",
      " Epoch  4, CIFAR-10 Batch 1:  valid_accuracy :  0.4106 , accuracy :  0.4 , cost :  1.7205\n",
      " Epoch  5, CIFAR-10 Batch 1:  valid_accuracy :  0.4492 , accuracy :  0.575 , cost :  1.57198\n",
      " Epoch  6, CIFAR-10 Batch 1:  valid_accuracy :  0.4418 , accuracy :  0.6 , cost :  1.42572\n",
      " Epoch  7, CIFAR-10 Batch 1:  valid_accuracy :  0.489 , accuracy :  0.7 , cost :  1.24917\n",
      " Epoch  8, CIFAR-10 Batch 1:  valid_accuracy :  0.4816 , accuracy :  0.75 , cost :  1.10076\n",
      " Epoch  9, CIFAR-10 Batch 1:  valid_accuracy :  0.4964 , accuracy :  0.775 , cost :  1.00935\n",
      " Epoch 10, CIFAR-10 Batch 1:  valid_accuracy :  0.499 , accuracy :  0.75 , cost :  0.967994\n",
      " Epoch 11, CIFAR-10 Batch 1:  valid_accuracy :  0.5014 , accuracy :  0.75 , cost :  0.853127\n",
      " Epoch 12, CIFAR-10 Batch 1:  valid_accuracy :  0.5064 , accuracy :  0.775 , cost :  0.812758\n",
      " Epoch 13, CIFAR-10 Batch 1:  valid_accuracy :  0.5108 , accuracy :  0.725 , cost :  0.817211\n",
      " Epoch 14, CIFAR-10 Batch 1:  valid_accuracy :  0.5174 , accuracy :  0.775 , cost :  0.710958\n",
      " Epoch 15, CIFAR-10 Batch 1:  valid_accuracy :  0.5278 , accuracy :  0.8 , cost :  0.597664\n",
      " Epoch 16, CIFAR-10 Batch 1:  valid_accuracy :  0.5338 , accuracy :  0.775 , cost :  0.595807\n",
      " Epoch 17, CIFAR-10 Batch 1:  valid_accuracy :  0.5302 , accuracy :  0.8 , cost :  0.604259\n",
      " Epoch 18, CIFAR-10 Batch 1:  valid_accuracy :  0.533 , accuracy :  0.9 , cost :  0.564042\n",
      " Epoch 19, CIFAR-10 Batch 1:  valid_accuracy :  0.539 , accuracy :  0.875 , cost :  0.57786\n",
      " Epoch 20, CIFAR-10 Batch 1:  valid_accuracy :  0.5344 , accuracy :  0.875 , cost :  0.51038\n",
      " Epoch 21, CIFAR-10 Batch 1:  valid_accuracy :  0.5292 , accuracy :  0.9 , cost :  0.448935\n",
      " Epoch 22, CIFAR-10 Batch 1:  valid_accuracy :  0.5294 , accuracy :  0.9 , cost :  0.508501\n",
      " Epoch 23, CIFAR-10 Batch 1:  valid_accuracy :  0.5378 , accuracy :  0.9 , cost :  0.482214\n",
      " Epoch 24, CIFAR-10 Batch 1:  valid_accuracy :  0.5414 , accuracy :  0.9 , cost :  0.427755\n",
      " Epoch 25, CIFAR-10 Batch 1:  valid_accuracy :  0.5564 , accuracy :  0.95 , cost :  0.461271\n",
      " Epoch 26, CIFAR-10 Batch 1:  valid_accuracy :  0.535 , accuracy :  0.9 , cost :  0.399728\n",
      " Epoch 27, CIFAR-10 Batch 1:  valid_accuracy :  0.5438 , accuracy :  0.95 , cost :  0.451082\n",
      " Epoch 28, CIFAR-10 Batch 1:  valid_accuracy :  0.5392 , accuracy :  0.95 , cost :  0.399538\n",
      " Epoch 29, CIFAR-10 Batch 1:  valid_accuracy :  0.537 , accuracy :  0.925 , cost :  0.409819\n",
      " Epoch 30, CIFAR-10 Batch 1:  valid_accuracy :  0.5418 , accuracy :  0.95 , cost :  0.336924\n",
      " Epoch 31, CIFAR-10 Batch 1:  valid_accuracy :  0.5398 , accuracy :  0.875 , cost :  0.375744\n",
      " Epoch 32, CIFAR-10 Batch 1:  valid_accuracy :  0.5526 , accuracy :  0.95 , cost :  0.342471\n",
      " Epoch 33, CIFAR-10 Batch 1:  valid_accuracy :  0.5352 , accuracy :  0.9 , cost :  0.31498\n",
      " Epoch 34, CIFAR-10 Batch 1:  valid_accuracy :  0.5482 , accuracy :  1.0 , cost :  0.27253\n",
      " Epoch 35, CIFAR-10 Batch 1:  valid_accuracy :  0.5498 , accuracy :  0.975 , cost :  0.306009\n",
      " Epoch 36, CIFAR-10 Batch 1:  valid_accuracy :  0.5526 , accuracy :  0.975 , cost :  0.314201\n",
      " Epoch 37, CIFAR-10 Batch 1:  valid_accuracy :  0.5474 , accuracy :  0.95 , cost :  0.323218\n",
      " Epoch 38, CIFAR-10 Batch 1:  valid_accuracy :  0.555 , accuracy :  0.95 , cost :  0.285496\n",
      " Epoch 39, CIFAR-10 Batch 1:  valid_accuracy :  0.5504 , accuracy :  1.0 , cost :  0.271208\n",
      " Epoch 40, CIFAR-10 Batch 1:  valid_accuracy :  0.5534 , accuracy :  0.975 , cost :  0.277563\n",
      " Epoch 41, CIFAR-10 Batch 1:  valid_accuracy :  0.555 , accuracy :  0.95 , cost :  0.254134\n",
      " Epoch 42, CIFAR-10 Batch 1:  valid_accuracy :  0.5442 , accuracy :  1.0 , cost :  0.207268\n",
      " Epoch 43, CIFAR-10 Batch 1:  valid_accuracy :  0.558 , accuracy :  1.0 , cost :  0.200305\n",
      " Epoch 44, CIFAR-10 Batch 1:  valid_accuracy :  0.5452 , accuracy :  1.0 , cost :  0.191002\n",
      " Epoch 45, CIFAR-10 Batch 1:  valid_accuracy :  0.5644 , accuracy :  1.0 , cost :  0.143286\n",
      " Epoch 46, CIFAR-10 Batch 1:  valid_accuracy :  0.564 , accuracy :  1.0 , cost :  0.137256\n",
      " Epoch 47, CIFAR-10 Batch 1:  valid_accuracy :  0.5682 , accuracy :  0.975 , cost :  0.14537\n",
      " Epoch 48, CIFAR-10 Batch 1:  valid_accuracy :  0.5518 , accuracy :  1.0 , cost :  0.157851\n",
      " Epoch 49, CIFAR-10 Batch 1:  valid_accuracy :  0.5608 , accuracy :  1.0 , cost :  0.118334\n",
      " Epoch 50, CIFAR-10 Batch 1:  valid_accuracy :  0.5436 , accuracy :  0.975 , cost :  0.155474\n"
     ]
    }
   ],
   "source": [
    "\"\"\"\n",
    "DON'T MODIFY ANYTHING IN THIS CELL\n",
    "\"\"\"\n",
    "tf.reset_default_graph\n",
    "print('Checking the Training on a Single Batch...')\n",
    "with tf.Session() as sess:\n",
    "    # Initializing the variables\n",
    "    sess.run(tf.global_variables_initializer())\n",
    "    \n",
    "    # Training cycle\n",
    "    for epoch in range(epochs):\n",
    "        batch_id = 1\n",
    "        for batch_features, batch_labels in helper.load_preprocess_training_batch(batch_id, batch_size):\n",
    "            train_neural_network(sess, optimizer, keep_probability, batch_features, batch_labels)\n",
    "        print(' Epoch {:>2}, CIFAR-10 Batch {}:  '.format(epoch + 1, batch_id), end='')\n",
    "        print_stats(sess, batch_features, batch_labels, cost, accuracy)"
   ]
  },
  {
   "cell_type": "markdown",
   "metadata": {},
   "source": [
    "### Fully Train the Model\n",
    "Now that you got a good accuracy with a single CIFAR-10 batch, try it with all five batches."
   ]
  },
  {
   "cell_type": "code",
   "execution_count": 101,
   "metadata": {},
   "outputs": [
    {
     "name": "stdout",
     "output_type": "stream",
     "text": [
      "Training...\n",
      "Epoch  1, CIFAR-10 Batch 1:  valid_accuracy :  0.2314 , accuracy :  0.225 , cost :  2.2096\n",
      "Epoch  1, CIFAR-10 Batch 2:  valid_accuracy :  0.2594 , accuracy :  0.275 , cost :  2.09822\n",
      "Epoch  1, CIFAR-10 Batch 3:  valid_accuracy :  0.3454 , accuracy :  0.4 , cost :  1.85551\n",
      "Epoch  1, CIFAR-10 Batch 4:  valid_accuracy :  0.3512 , accuracy :  0.3 , cost :  1.78138\n",
      "Epoch  1, CIFAR-10 Batch 5:  valid_accuracy :  0.377 , accuracy :  0.4 , cost :  1.83215\n",
      "Epoch  2, CIFAR-10 Batch 1:  valid_accuracy :  0.385 , accuracy :  0.375 , cost :  1.96886\n",
      "Epoch  2, CIFAR-10 Batch 2:  valid_accuracy :  0.394 , accuracy :  0.425 , cost :  1.64315\n",
      "Epoch  2, CIFAR-10 Batch 3:  valid_accuracy :  0.4212 , accuracy :  0.475 , cost :  1.55603\n",
      "Epoch  2, CIFAR-10 Batch 4:  valid_accuracy :  0.443 , accuracy :  0.5 , cost :  1.50487\n",
      "Epoch  2, CIFAR-10 Batch 5:  valid_accuracy :  0.4436 , accuracy :  0.45 , cost :  1.59956\n",
      "Epoch  3, CIFAR-10 Batch 1:  valid_accuracy :  0.4552 , accuracy :  0.475 , cost :  1.71459\n",
      "Epoch  3, CIFAR-10 Batch 2:  valid_accuracy :  0.4588 , accuracy :  0.5 , cost :  1.47372\n",
      "Epoch  3, CIFAR-10 Batch 3:  valid_accuracy :  0.4728 , accuracy :  0.575 , cost :  1.44457\n",
      "Epoch  3, CIFAR-10 Batch 4:  valid_accuracy :  0.4718 , accuracy :  0.55 , cost :  1.45031\n",
      "Epoch  3, CIFAR-10 Batch 5:  valid_accuracy :  0.484 , accuracy :  0.525 , cost :  1.40798\n",
      "Epoch  4, CIFAR-10 Batch 1:  valid_accuracy :  0.4794 , accuracy :  0.575 , cost :  1.48753\n",
      "Epoch  4, CIFAR-10 Batch 2:  valid_accuracy :  0.4584 , accuracy :  0.5 , cost :  1.27265\n",
      "Epoch  4, CIFAR-10 Batch 3:  valid_accuracy :  0.4706 , accuracy :  0.625 , cost :  1.24465\n",
      "Epoch  4, CIFAR-10 Batch 4:  valid_accuracy :  0.4894 , accuracy :  0.475 , cost :  1.30207\n",
      "Epoch  4, CIFAR-10 Batch 5:  valid_accuracy :  0.511 , accuracy :  0.575 , cost :  1.35544\n",
      "Epoch  5, CIFAR-10 Batch 1:  valid_accuracy :  0.4822 , accuracy :  0.55 , cost :  1.46202\n",
      "Epoch  5, CIFAR-10 Batch 2:  valid_accuracy :  0.4878 , accuracy :  0.6 , cost :  1.26051\n",
      "Epoch  5, CIFAR-10 Batch 3:  valid_accuracy :  0.4812 , accuracy :  0.725 , cost :  1.10392\n",
      "Epoch  5, CIFAR-10 Batch 4:  valid_accuracy :  0.501 , accuracy :  0.525 , cost :  1.25829\n",
      "Epoch  5, CIFAR-10 Batch 5:  valid_accuracy :  0.5292 , accuracy :  0.6 , cost :  1.31325\n",
      "Epoch  6, CIFAR-10 Batch 1:  valid_accuracy :  0.5236 , accuracy :  0.55 , cost :  1.36356\n",
      "Epoch  6, CIFAR-10 Batch 2:  valid_accuracy :  0.511 , accuracy :  0.575 , cost :  1.13894\n",
      "Epoch  6, CIFAR-10 Batch 3:  valid_accuracy :  0.5278 , accuracy :  0.675 , cost :  1.00595\n",
      "Epoch  6, CIFAR-10 Batch 4:  valid_accuracy :  0.5222 , accuracy :  0.55 , cost :  1.11834\n",
      "Epoch  6, CIFAR-10 Batch 5:  valid_accuracy :  0.5336 , accuracy :  0.725 , cost :  1.15622\n",
      "Epoch  7, CIFAR-10 Batch 1:  valid_accuracy :  0.5458 , accuracy :  0.575 , cost :  1.28107\n",
      "Epoch  7, CIFAR-10 Batch 2:  valid_accuracy :  0.5568 , accuracy :  0.775 , cost :  0.943671\n",
      "Epoch  7, CIFAR-10 Batch 3:  valid_accuracy :  0.554 , accuracy :  0.775 , cost :  0.860775\n",
      "Epoch  7, CIFAR-10 Batch 4:  valid_accuracy :  0.5366 , accuracy :  0.55 , cost :  1.04438\n",
      "Epoch  7, CIFAR-10 Batch 5:  valid_accuracy :  0.5526 , accuracy :  0.65 , cost :  1.08579\n",
      "Epoch  8, CIFAR-10 Batch 1:  valid_accuracy :  0.5606 , accuracy :  0.7 , cost :  1.07615\n",
      "Epoch  8, CIFAR-10 Batch 2:  valid_accuracy :  0.5668 , accuracy :  0.85 , cost :  0.868598\n",
      "Epoch  8, CIFAR-10 Batch 3:  valid_accuracy :  0.559 , accuracy :  0.825 , cost :  0.779341\n",
      "Epoch  8, CIFAR-10 Batch 4:  valid_accuracy :  0.5444 , accuracy :  0.55 , cost :  0.954936\n",
      "Epoch  8, CIFAR-10 Batch 5:  valid_accuracy :  0.5712 , accuracy :  0.75 , cost :  1.00123\n",
      "Epoch  9, CIFAR-10 Batch 1:  valid_accuracy :  0.588 , accuracy :  0.675 , cost :  0.981252\n",
      "Epoch  9, CIFAR-10 Batch 2:  valid_accuracy :  0.5592 , accuracy :  0.75 , cost :  0.781745\n",
      "Epoch  9, CIFAR-10 Batch 3:  valid_accuracy :  0.5698 , accuracy :  0.775 , cost :  0.70526\n",
      "Epoch  9, CIFAR-10 Batch 4:  valid_accuracy :  0.5796 , accuracy :  0.725 , cost :  0.94713\n",
      "Epoch  9, CIFAR-10 Batch 5:  valid_accuracy :  0.5778 , accuracy :  0.75 , cost :  0.903152\n",
      "Epoch 10, CIFAR-10 Batch 1:  valid_accuracy :  0.5804 , accuracy :  0.725 , cost :  0.924663\n",
      "Epoch 10, CIFAR-10 Batch 2:  valid_accuracy :  0.568 , accuracy :  0.725 , cost :  0.746235\n",
      "Epoch 10, CIFAR-10 Batch 3:  valid_accuracy :  0.584 , accuracy :  0.8 , cost :  0.658816\n",
      "Epoch 10, CIFAR-10 Batch 4:  valid_accuracy :  0.5908 , accuracy :  0.725 , cost :  0.908038\n",
      "Epoch 10, CIFAR-10 Batch 5:  valid_accuracy :  0.594 , accuracy :  0.775 , cost :  0.838185\n",
      "Epoch 11, CIFAR-10 Batch 1:  valid_accuracy :  0.5858 , accuracy :  0.675 , cost :  0.887738\n",
      "Epoch 11, CIFAR-10 Batch 2:  valid_accuracy :  0.5712 , accuracy :  0.775 , cost :  0.667293\n",
      "Epoch 11, CIFAR-10 Batch 3:  valid_accuracy :  0.585 , accuracy :  0.875 , cost :  0.557814\n",
      "Epoch 11, CIFAR-10 Batch 4:  valid_accuracy :  0.5962 , accuracy :  0.7 , cost :  0.747277\n",
      "Epoch 11, CIFAR-10 Batch 5:  valid_accuracy :  0.6006 , accuracy :  0.825 , cost :  0.789532\n",
      "Epoch 12, CIFAR-10 Batch 1:  valid_accuracy :  0.604 , accuracy :  0.7 , cost :  0.792275\n",
      "Epoch 12, CIFAR-10 Batch 2:  valid_accuracy :  0.5998 , accuracy :  0.9 , cost :  0.591983\n",
      "Epoch 12, CIFAR-10 Batch 3:  valid_accuracy :  0.6012 , accuracy :  0.8 , cost :  0.556525\n",
      "Epoch 12, CIFAR-10 Batch 4:  valid_accuracy :  0.6102 , accuracy :  0.725 , cost :  0.71258\n",
      "Epoch 12, CIFAR-10 Batch 5:  valid_accuracy :  0.6076 , accuracy :  0.825 , cost :  0.728611\n",
      "Epoch 13, CIFAR-10 Batch 1:  valid_accuracy :  0.6076 , accuracy :  0.725 , cost :  0.761069\n",
      "Epoch 13, CIFAR-10 Batch 2:  valid_accuracy :  0.6042 , accuracy :  0.9 , cost :  0.575781\n",
      "Epoch 13, CIFAR-10 Batch 3:  valid_accuracy :  0.5972 , accuracy :  0.85 , cost :  0.493854\n",
      "Epoch 13, CIFAR-10 Batch 4:  valid_accuracy :  0.6152 , accuracy :  0.8 , cost :  0.694164\n",
      "Epoch 13, CIFAR-10 Batch 5:  valid_accuracy :  0.6106 , accuracy :  0.85 , cost :  0.69497\n",
      "Epoch 14, CIFAR-10 Batch 1:  valid_accuracy :  0.6302 , accuracy :  0.775 , cost :  0.690548\n",
      "Epoch 14, CIFAR-10 Batch 2:  valid_accuracy :  0.618 , accuracy :  0.925 , cost :  0.538857\n",
      "Epoch 14, CIFAR-10 Batch 3:  valid_accuracy :  0.6174 , accuracy :  0.9 , cost :  0.507694\n",
      "Epoch 14, CIFAR-10 Batch 4:  valid_accuracy :  0.623 , accuracy :  0.85 , cost :  0.644341\n",
      "Epoch 14, CIFAR-10 Batch 5:  valid_accuracy :  0.619 , accuracy :  0.85 , cost :  0.584339\n",
      "Epoch 15, CIFAR-10 Batch 1:  valid_accuracy :  0.63 , accuracy :  0.8 , cost :  0.639664\n",
      "Epoch 15, CIFAR-10 Batch 2:  valid_accuracy :  0.6256 , accuracy :  0.9 , cost :  0.503144\n",
      "Epoch 15, CIFAR-10 Batch 3:  valid_accuracy :  0.6252 , accuracy :  0.9 , cost :  0.398741\n",
      "Epoch 15, CIFAR-10 Batch 4:  valid_accuracy :  0.6244 , accuracy :  0.825 , cost :  0.573069\n",
      "Epoch 15, CIFAR-10 Batch 5:  valid_accuracy :  0.6228 , accuracy :  0.875 , cost :  0.608763\n",
      "Epoch 16, CIFAR-10 Batch 1:  valid_accuracy :  0.628 , accuracy :  0.8 , cost :  0.573243\n",
      "Epoch 16, CIFAR-10 Batch 2:  valid_accuracy :  0.618 , accuracy :  0.875 , cost :  0.470195\n",
      "Epoch 16, CIFAR-10 Batch 3:  valid_accuracy :  0.6266 , accuracy :  0.925 , cost :  0.374789\n",
      "Epoch 16, CIFAR-10 Batch 4:  valid_accuracy :  0.6272 , accuracy :  0.9 , cost :  0.485915\n",
      "Epoch 16, CIFAR-10 Batch 5:  valid_accuracy :  0.6268 , accuracy :  0.9 , cost :  0.552613\n",
      "Epoch 17, CIFAR-10 Batch 1:  valid_accuracy :  0.6334 , accuracy :  0.8 , cost :  0.586017\n",
      "Epoch 17, CIFAR-10 Batch 2:  valid_accuracy :  0.6268 , accuracy :  0.9 , cost :  0.387932\n",
      "Epoch 17, CIFAR-10 Batch 3:  valid_accuracy :  0.63 , accuracy :  0.925 , cost :  0.370214\n",
      "Epoch 17, CIFAR-10 Batch 4:  valid_accuracy :  0.6268 , accuracy :  0.95 , cost :  0.460405\n",
      "Epoch 17, CIFAR-10 Batch 5:  valid_accuracy :  0.6224 , accuracy :  0.95 , cost :  0.48895\n",
      "Epoch 18, CIFAR-10 Batch 1:  valid_accuracy :  0.6302 , accuracy :  0.85 , cost :  0.52263\n",
      "Epoch 18, CIFAR-10 Batch 2:  valid_accuracy :  0.6274 , accuracy :  0.9 , cost :  0.404363\n",
      "Epoch 18, CIFAR-10 Batch 3:  valid_accuracy :  0.6276 , accuracy :  0.925 , cost :  0.331465\n",
      "Epoch 18, CIFAR-10 Batch 4:  valid_accuracy :  0.6404 , accuracy :  0.95 , cost :  0.428025\n",
      "Epoch 18, CIFAR-10 Batch 5:  valid_accuracy :  0.6252 , accuracy :  0.975 , cost :  0.477137\n"
     ]
    },
    {
     "name": "stdout",
     "output_type": "stream",
     "text": [
      "Epoch 19, CIFAR-10 Batch 1:  valid_accuracy :  0.635 , accuracy :  0.9 , cost :  0.455291\n",
      "Epoch 19, CIFAR-10 Batch 2:  valid_accuracy :  0.6176 , accuracy :  0.875 , cost :  0.404874\n",
      "Epoch 19, CIFAR-10 Batch 3:  valid_accuracy :  0.6284 , accuracy :  0.95 , cost :  0.334926\n",
      "Epoch 19, CIFAR-10 Batch 4:  valid_accuracy :  0.6388 , accuracy :  0.975 , cost :  0.436311\n",
      "Epoch 19, CIFAR-10 Batch 5:  valid_accuracy :  0.6304 , accuracy :  0.95 , cost :  0.417004\n",
      "Epoch 20, CIFAR-10 Batch 1:  valid_accuracy :  0.6342 , accuracy :  0.9 , cost :  0.459982\n",
      "Epoch 20, CIFAR-10 Batch 2:  valid_accuracy :  0.621 , accuracy :  0.9 , cost :  0.35826\n",
      "Epoch 20, CIFAR-10 Batch 3:  valid_accuracy :  0.6286 , accuracy :  0.875 , cost :  0.297087\n",
      "Epoch 20, CIFAR-10 Batch 4:  valid_accuracy :  0.6392 , accuracy :  0.975 , cost :  0.436461\n",
      "Epoch 20, CIFAR-10 Batch 5:  valid_accuracy :  0.643 , accuracy :  0.95 , cost :  0.382337\n",
      "Epoch 21, CIFAR-10 Batch 1:  valid_accuracy :  0.6408 , accuracy :  0.9 , cost :  0.445788\n",
      "Epoch 21, CIFAR-10 Batch 2:  valid_accuracy :  0.6314 , accuracy :  0.9 , cost :  0.295244\n",
      "Epoch 21, CIFAR-10 Batch 3:  valid_accuracy :  0.6392 , accuracy :  0.95 , cost :  0.261\n",
      "Epoch 21, CIFAR-10 Batch 4:  valid_accuracy :  0.6424 , accuracy :  0.95 , cost :  0.324716\n",
      "Epoch 21, CIFAR-10 Batch 5:  valid_accuracy :  0.6328 , accuracy :  0.95 , cost :  0.375395\n",
      "Epoch 22, CIFAR-10 Batch 1:  valid_accuracy :  0.6468 , accuracy :  0.85 , cost :  0.443909\n",
      "Epoch 22, CIFAR-10 Batch 2:  valid_accuracy :  0.6294 , accuracy :  0.95 , cost :  0.266403\n",
      "Epoch 22, CIFAR-10 Batch 3:  valid_accuracy :  0.6384 , accuracy :  0.925 , cost :  0.275853\n",
      "Epoch 22, CIFAR-10 Batch 4:  valid_accuracy :  0.6424 , accuracy :  0.95 , cost :  0.317384\n",
      "Epoch 22, CIFAR-10 Batch 5:  valid_accuracy :  0.6346 , accuracy :  0.975 , cost :  0.369612\n",
      "Epoch 23, CIFAR-10 Batch 1:  valid_accuracy :  0.6396 , accuracy :  0.875 , cost :  0.428911\n",
      "Epoch 23, CIFAR-10 Batch 2:  valid_accuracy :  0.6304 , accuracy :  0.925 , cost :  0.262596\n",
      "Epoch 23, CIFAR-10 Batch 3:  valid_accuracy :  0.6398 , accuracy :  0.975 , cost :  0.224645\n",
      "Epoch 23, CIFAR-10 Batch 4:  valid_accuracy :  0.644 , accuracy :  0.975 , cost :  0.269349\n",
      "Epoch 23, CIFAR-10 Batch 5:  valid_accuracy :  0.6406 , accuracy :  1.0 , cost :  0.356672\n",
      "Epoch 24, CIFAR-10 Batch 1:  valid_accuracy :  0.6452 , accuracy :  0.925 , cost :  0.378855\n",
      "Epoch 24, CIFAR-10 Batch 2:  valid_accuracy :  0.6458 , accuracy :  0.925 , cost :  0.205434\n",
      "Epoch 24, CIFAR-10 Batch 3:  valid_accuracy :  0.642 , accuracy :  0.975 , cost :  0.270527\n",
      "Epoch 24, CIFAR-10 Batch 4:  valid_accuracy :  0.6498 , accuracy :  0.975 , cost :  0.282362\n",
      "Epoch 24, CIFAR-10 Batch 5:  valid_accuracy :  0.65 , accuracy :  0.975 , cost :  0.316117\n",
      "Epoch 25, CIFAR-10 Batch 1:  valid_accuracy :  0.648 , accuracy :  0.925 , cost :  0.352163\n",
      "Epoch 25, CIFAR-10 Batch 2:  valid_accuracy :  0.6264 , accuracy :  0.95 , cost :  0.219914\n",
      "Epoch 25, CIFAR-10 Batch 3:  valid_accuracy :  0.6404 , accuracy :  0.925 , cost :  0.215098\n",
      "Epoch 25, CIFAR-10 Batch 4:  valid_accuracy :  0.6524 , accuracy :  0.975 , cost :  0.210206\n",
      "Epoch 25, CIFAR-10 Batch 5:  valid_accuracy :  0.6462 , accuracy :  0.975 , cost :  0.292049\n",
      "Epoch 26, CIFAR-10 Batch 1:  valid_accuracy :  0.6446 , accuracy :  0.925 , cost :  0.343523\n",
      "Epoch 26, CIFAR-10 Batch 2:  valid_accuracy :  0.6414 , accuracy :  0.95 , cost :  0.199438\n",
      "Epoch 26, CIFAR-10 Batch 3:  valid_accuracy :  0.6414 , accuracy :  0.975 , cost :  0.181354\n",
      "Epoch 26, CIFAR-10 Batch 4:  valid_accuracy :  0.6462 , accuracy :  0.975 , cost :  0.226234\n",
      "Epoch 26, CIFAR-10 Batch 5:  valid_accuracy :  0.6512 , accuracy :  1.0 , cost :  0.233347\n",
      "Epoch 27, CIFAR-10 Batch 1:  valid_accuracy :  0.6426 , accuracy :  0.925 , cost :  0.335596\n",
      "Epoch 27, CIFAR-10 Batch 2:  valid_accuracy :  0.6342 , accuracy :  0.975 , cost :  0.16858\n",
      "Epoch 27, CIFAR-10 Batch 3:  valid_accuracy :  0.642 , accuracy :  0.975 , cost :  0.198399\n",
      "Epoch 27, CIFAR-10 Batch 4:  valid_accuracy :  0.6484 , accuracy :  1.0 , cost :  0.18901\n",
      "Epoch 27, CIFAR-10 Batch 5:  valid_accuracy :  0.649 , accuracy :  0.975 , cost :  0.222941\n",
      "Epoch 28, CIFAR-10 Batch 1:  valid_accuracy :  0.6506 , accuracy :  0.925 , cost :  0.296506\n",
      "Epoch 28, CIFAR-10 Batch 2:  valid_accuracy :  0.6252 , accuracy :  1.0 , cost :  0.177338\n",
      "Epoch 28, CIFAR-10 Batch 3:  valid_accuracy :  0.6504 , accuracy :  0.95 , cost :  0.202495\n",
      "Epoch 28, CIFAR-10 Batch 4:  valid_accuracy :  0.65 , accuracy :  1.0 , cost :  0.176719\n",
      "Epoch 28, CIFAR-10 Batch 5:  valid_accuracy :  0.655 , accuracy :  0.975 , cost :  0.203303\n",
      "Epoch 29, CIFAR-10 Batch 1:  valid_accuracy :  0.6524 , accuracy :  0.925 , cost :  0.289091\n",
      "Epoch 29, CIFAR-10 Batch 2:  valid_accuracy :  0.6378 , accuracy :  0.975 , cost :  0.131042\n",
      "Epoch 29, CIFAR-10 Batch 3:  valid_accuracy :  0.6468 , accuracy :  0.95 , cost :  0.170565\n",
      "Epoch 29, CIFAR-10 Batch 4:  valid_accuracy :  0.6586 , accuracy :  1.0 , cost :  0.169685\n",
      "Epoch 29, CIFAR-10 Batch 5:  valid_accuracy :  0.6586 , accuracy :  1.0 , cost :  0.180767\n",
      "Epoch 30, CIFAR-10 Batch 1:  valid_accuracy :  0.6522 , accuracy :  0.975 , cost :  0.277611\n",
      "Epoch 30, CIFAR-10 Batch 2:  valid_accuracy :  0.6414 , accuracy :  0.975 , cost :  0.122237\n",
      "Epoch 30, CIFAR-10 Batch 3:  valid_accuracy :  0.6462 , accuracy :  0.975 , cost :  0.165829\n",
      "Epoch 30, CIFAR-10 Batch 4:  valid_accuracy :  0.6538 , accuracy :  1.0 , cost :  0.153918\n",
      "Epoch 30, CIFAR-10 Batch 5:  valid_accuracy :  0.6486 , accuracy :  0.975 , cost :  0.221825\n",
      "Epoch 31, CIFAR-10 Batch 1:  valid_accuracy :  0.65 , accuracy :  0.95 , cost :  0.25127\n",
      "Epoch 31, CIFAR-10 Batch 2:  valid_accuracy :  0.6476 , accuracy :  0.975 , cost :  0.131824\n",
      "Epoch 31, CIFAR-10 Batch 3:  valid_accuracy :  0.6364 , accuracy :  1.0 , cost :  0.120082\n",
      "Epoch 31, CIFAR-10 Batch 4:  valid_accuracy :  0.6466 , accuracy :  1.0 , cost :  0.129565\n",
      "Epoch 31, CIFAR-10 Batch 5:  valid_accuracy :  0.6548 , accuracy :  0.975 , cost :  0.189791\n",
      "Epoch 32, CIFAR-10 Batch 1:  valid_accuracy :  0.6458 , accuracy :  0.95 , cost :  0.252359\n",
      "Epoch 32, CIFAR-10 Batch 2:  valid_accuracy :  0.6496 , accuracy :  1.0 , cost :  0.122413\n",
      "Epoch 32, CIFAR-10 Batch 3:  valid_accuracy :  0.6522 , accuracy :  1.0 , cost :  0.126864\n",
      "Epoch 32, CIFAR-10 Batch 4:  valid_accuracy :  0.6504 , accuracy :  1.0 , cost :  0.142698\n",
      "Epoch 32, CIFAR-10 Batch 5:  valid_accuracy :  0.6588 , accuracy :  1.0 , cost :  0.145781\n",
      "Epoch 33, CIFAR-10 Batch 1:  valid_accuracy :  0.656 , accuracy :  0.975 , cost :  0.216664\n",
      "Epoch 33, CIFAR-10 Batch 2:  valid_accuracy :  0.6396 , accuracy :  0.975 , cost :  0.115954\n",
      "Epoch 33, CIFAR-10 Batch 3:  valid_accuracy :  0.6448 , accuracy :  1.0 , cost :  0.137088\n",
      "Epoch 33, CIFAR-10 Batch 4:  valid_accuracy :  0.6604 , accuracy :  1.0 , cost :  0.113587\n",
      "Epoch 33, CIFAR-10 Batch 5:  valid_accuracy :  0.6558 , accuracy :  0.975 , cost :  0.144685\n",
      "Epoch 34, CIFAR-10 Batch 1:  valid_accuracy :  0.6534 , accuracy :  0.975 , cost :  0.215762\n",
      "Epoch 34, CIFAR-10 Batch 2:  valid_accuracy :  0.6518 , accuracy :  0.975 , cost :  0.115462\n",
      "Epoch 34, CIFAR-10 Batch 3:  valid_accuracy :  0.6514 , accuracy :  1.0 , cost :  0.130239\n",
      "Epoch 34, CIFAR-10 Batch 4:  valid_accuracy :  0.6536 , accuracy :  1.0 , cost :  0.114454\n",
      "Epoch 34, CIFAR-10 Batch 5:  valid_accuracy :  0.6646 , accuracy :  1.0 , cost :  0.141003\n",
      "Epoch 35, CIFAR-10 Batch 1:  valid_accuracy :  0.6588 , accuracy :  0.975 , cost :  0.213117\n",
      "Epoch 35, CIFAR-10 Batch 2:  valid_accuracy :  0.6576 , accuracy :  0.975 , cost :  0.12508\n",
      "Epoch 35, CIFAR-10 Batch 3:  valid_accuracy :  0.6546 , accuracy :  1.0 , cost :  0.0844902\n",
      "Epoch 35, CIFAR-10 Batch 4:  valid_accuracy :  0.6578 , accuracy :  1.0 , cost :  0.112049\n",
      "Epoch 35, CIFAR-10 Batch 5:  valid_accuracy :  0.6592 , accuracy :  0.975 , cost :  0.119074\n",
      "Epoch 36, CIFAR-10 Batch 1:  valid_accuracy :  0.651 , accuracy :  0.95 , cost :  0.207027\n",
      "Epoch 36, CIFAR-10 Batch 2:  valid_accuracy :  0.651 , accuracy :  1.0 , cost :  0.107096\n",
      "Epoch 36, CIFAR-10 Batch 3:  valid_accuracy :  0.6556 , accuracy :  1.0 , cost :  0.0759153\n",
      "Epoch 36, CIFAR-10 Batch 4:  valid_accuracy :  0.6546 , accuracy :  1.0 , cost :  0.0828267\n"
     ]
    },
    {
     "name": "stdout",
     "output_type": "stream",
     "text": [
      "Epoch 36, CIFAR-10 Batch 5:  valid_accuracy :  0.6562 , accuracy :  1.0 , cost :  0.110398\n",
      "Epoch 37, CIFAR-10 Batch 1:  valid_accuracy :  0.6502 , accuracy :  0.95 , cost :  0.192371\n",
      "Epoch 37, CIFAR-10 Batch 2:  valid_accuracy :  0.663 , accuracy :  0.975 , cost :  0.0842692\n",
      "Epoch 37, CIFAR-10 Batch 3:  valid_accuracy :  0.6542 , accuracy :  1.0 , cost :  0.0723827\n",
      "Epoch 37, CIFAR-10 Batch 4:  valid_accuracy :  0.6546 , accuracy :  1.0 , cost :  0.0586177\n",
      "Epoch 37, CIFAR-10 Batch 5:  valid_accuracy :  0.6578 , accuracy :  1.0 , cost :  0.0889199\n",
      "Epoch 38, CIFAR-10 Batch 1:  valid_accuracy :  0.6516 , accuracy :  0.975 , cost :  0.180446\n",
      "Epoch 38, CIFAR-10 Batch 2:  valid_accuracy :  0.6614 , accuracy :  1.0 , cost :  0.105285\n",
      "Epoch 38, CIFAR-10 Batch 3:  valid_accuracy :  0.649 , accuracy :  1.0 , cost :  0.0640434\n",
      "Epoch 38, CIFAR-10 Batch 4:  valid_accuracy :  0.6536 , accuracy :  1.0 , cost :  0.0594207\n",
      "Epoch 38, CIFAR-10 Batch 5:  valid_accuracy :  0.6582 , accuracy :  1.0 , cost :  0.0845737\n",
      "Epoch 39, CIFAR-10 Batch 1:  valid_accuracy :  0.6452 , accuracy :  0.975 , cost :  0.179962\n",
      "Epoch 39, CIFAR-10 Batch 2:  valid_accuracy :  0.6494 , accuracy :  1.0 , cost :  0.10715\n",
      "Epoch 39, CIFAR-10 Batch 3:  valid_accuracy :  0.6548 , accuracy :  1.0 , cost :  0.0601391\n",
      "Epoch 39, CIFAR-10 Batch 4:  valid_accuracy :  0.6512 , accuracy :  1.0 , cost :  0.0832039\n",
      "Epoch 39, CIFAR-10 Batch 5:  valid_accuracy :  0.6504 , accuracy :  0.975 , cost :  0.109677\n",
      "Epoch 40, CIFAR-10 Batch 1:  valid_accuracy :  0.6516 , accuracy :  0.975 , cost :  0.177646\n",
      "Epoch 40, CIFAR-10 Batch 2:  valid_accuracy :  0.6592 , accuracy :  1.0 , cost :  0.0963543\n",
      "Epoch 40, CIFAR-10 Batch 3:  valid_accuracy :  0.6506 , accuracy :  1.0 , cost :  0.0718045\n",
      "Epoch 40, CIFAR-10 Batch 4:  valid_accuracy :  0.6534 , accuracy :  1.0 , cost :  0.0863783\n",
      "Epoch 40, CIFAR-10 Batch 5:  valid_accuracy :  0.658 , accuracy :  0.975 , cost :  0.0948888\n",
      "Epoch 41, CIFAR-10 Batch 1:  valid_accuracy :  0.6388 , accuracy :  0.975 , cost :  0.133409\n",
      "Epoch 41, CIFAR-10 Batch 2:  valid_accuracy :  0.6584 , accuracy :  0.975 , cost :  0.0841763\n",
      "Epoch 41, CIFAR-10 Batch 3:  valid_accuracy :  0.6504 , accuracy :  1.0 , cost :  0.0523692\n",
      "Epoch 41, CIFAR-10 Batch 4:  valid_accuracy :  0.6542 , accuracy :  1.0 , cost :  0.0741616\n",
      "Epoch 41, CIFAR-10 Batch 5:  valid_accuracy :  0.6572 , accuracy :  0.975 , cost :  0.0958111\n",
      "Epoch 42, CIFAR-10 Batch 1:  valid_accuracy :  0.65 , accuracy :  0.975 , cost :  0.135308\n",
      "Epoch 42, CIFAR-10 Batch 2:  valid_accuracy :  0.6546 , accuracy :  1.0 , cost :  0.071584\n",
      "Epoch 42, CIFAR-10 Batch 3:  valid_accuracy :  0.6542 , accuracy :  1.0 , cost :  0.0554607\n",
      "Epoch 42, CIFAR-10 Batch 4:  valid_accuracy :  0.6512 , accuracy :  1.0 , cost :  0.0664863\n",
      "Epoch 42, CIFAR-10 Batch 5:  valid_accuracy :  0.6562 , accuracy :  0.975 , cost :  0.101091\n",
      "Epoch 43, CIFAR-10 Batch 1:  valid_accuracy :  0.6484 , accuracy :  1.0 , cost :  0.127109\n",
      "Epoch 43, CIFAR-10 Batch 2:  valid_accuracy :  0.6578 , accuracy :  1.0 , cost :  0.0901443\n",
      "Epoch 43, CIFAR-10 Batch 3:  valid_accuracy :  0.6522 , accuracy :  1.0 , cost :  0.0414751\n",
      "Epoch 43, CIFAR-10 Batch 4:  valid_accuracy :  0.6548 , accuracy :  1.0 , cost :  0.0495101\n",
      "Epoch 43, CIFAR-10 Batch 5:  valid_accuracy :  0.6496 , accuracy :  0.975 , cost :  0.0792504\n",
      "Epoch 44, CIFAR-10 Batch 1:  valid_accuracy :  0.6366 , accuracy :  0.975 , cost :  0.120904\n",
      "Epoch 44, CIFAR-10 Batch 2:  valid_accuracy :  0.6498 , accuracy :  0.975 , cost :  0.0604931\n",
      "Epoch 44, CIFAR-10 Batch 3:  valid_accuracy :  0.6526 , accuracy :  1.0 , cost :  0.0358616\n",
      "Epoch 44, CIFAR-10 Batch 4:  valid_accuracy :  0.6532 , accuracy :  1.0 , cost :  0.0572695\n",
      "Epoch 44, CIFAR-10 Batch 5:  valid_accuracy :  0.647 , accuracy :  1.0 , cost :  0.0631859\n",
      "Epoch 45, CIFAR-10 Batch 1:  valid_accuracy :  0.6434 , accuracy :  1.0 , cost :  0.120794\n",
      "Epoch 45, CIFAR-10 Batch 2:  valid_accuracy :  0.6432 , accuracy :  1.0 , cost :  0.0463785\n",
      "Epoch 45, CIFAR-10 Batch 3:  valid_accuracy :  0.6542 , accuracy :  1.0 , cost :  0.0314504\n",
      "Epoch 45, CIFAR-10 Batch 4:  valid_accuracy :  0.6566 , accuracy :  1.0 , cost :  0.0434274\n",
      "Epoch 45, CIFAR-10 Batch 5:  valid_accuracy :  0.6524 , accuracy :  1.0 , cost :  0.0516618\n",
      "Epoch 46, CIFAR-10 Batch 1:  valid_accuracy :  0.647 , accuracy :  1.0 , cost :  0.105778\n",
      "Epoch 46, CIFAR-10 Batch 2:  valid_accuracy :  0.6518 , accuracy :  1.0 , cost :  0.0666545\n",
      "Epoch 46, CIFAR-10 Batch 3:  valid_accuracy :  0.6496 , accuracy :  1.0 , cost :  0.0310572\n",
      "Epoch 46, CIFAR-10 Batch 4:  valid_accuracy :  0.6486 , accuracy :  1.0 , cost :  0.0653706\n",
      "Epoch 46, CIFAR-10 Batch 5:  valid_accuracy :  0.6496 , accuracy :  1.0 , cost :  0.0431278\n",
      "Epoch 47, CIFAR-10 Batch 1:  valid_accuracy :  0.6458 , accuracy :  0.975 , cost :  0.0949408\n",
      "Epoch 47, CIFAR-10 Batch 2:  valid_accuracy :  0.6504 , accuracy :  1.0 , cost :  0.0436393\n",
      "Epoch 47, CIFAR-10 Batch 3:  valid_accuracy :  0.6488 , accuracy :  1.0 , cost :  0.0333149\n",
      "Epoch 47, CIFAR-10 Batch 4:  valid_accuracy :  0.6422 , accuracy :  1.0 , cost :  0.0440738\n",
      "Epoch 47, CIFAR-10 Batch 5:  valid_accuracy :  0.655 , accuracy :  1.0 , cost :  0.0520862\n",
      "Epoch 48, CIFAR-10 Batch 1:  valid_accuracy :  0.6458 , accuracy :  1.0 , cost :  0.118093\n",
      "Epoch 48, CIFAR-10 Batch 2:  valid_accuracy :  0.648 , accuracy :  1.0 , cost :  0.0357111\n",
      "Epoch 48, CIFAR-10 Batch 3:  valid_accuracy :  0.6472 , accuracy :  1.0 , cost :  0.0331363\n",
      "Epoch 48, CIFAR-10 Batch 4:  valid_accuracy :  0.6476 , accuracy :  1.0 , cost :  0.0474555\n",
      "Epoch 48, CIFAR-10 Batch 5:  valid_accuracy :  0.6598 , accuracy :  1.0 , cost :  0.0430368\n",
      "Epoch 49, CIFAR-10 Batch 1:  valid_accuracy :  0.6516 , accuracy :  1.0 , cost :  0.0863243\n",
      "Epoch 49, CIFAR-10 Batch 2:  valid_accuracy :  0.656 , accuracy :  1.0 , cost :  0.0358546\n",
      "Epoch 49, CIFAR-10 Batch 3:  valid_accuracy :  0.6504 , accuracy :  1.0 , cost :  0.030568\n",
      "Epoch 49, CIFAR-10 Batch 4:  valid_accuracy :  0.651 , accuracy :  1.0 , cost :  0.0341194\n",
      "Epoch 49, CIFAR-10 Batch 5:  valid_accuracy :  0.656 , accuracy :  1.0 , cost :  0.0341044\n",
      "Epoch 50, CIFAR-10 Batch 1:  valid_accuracy :  0.6554 , accuracy :  0.975 , cost :  0.0950111\n",
      "Epoch 50, CIFAR-10 Batch 2:  valid_accuracy :  0.6548 , accuracy :  1.0 , cost :  0.0317968\n",
      "Epoch 50, CIFAR-10 Batch 3:  valid_accuracy :  0.6466 , accuracy :  1.0 , cost :  0.0219079\n",
      "Epoch 50, CIFAR-10 Batch 4:  valid_accuracy :  0.646 , accuracy :  1.0 , cost :  0.0482156\n",
      "Epoch 50, CIFAR-10 Batch 5:  valid_accuracy :  0.6572 , accuracy :  1.0 , cost :  0.0419504\n"
     ]
    }
   ],
   "source": [
    "\"\"\"\n",
    "DON'T MODIFY ANYTHING IN THIS CELL\n",
    "\"\"\"\n",
    "save_model_path = './image_classification'\n",
    "\n",
    "print('Training...')\n",
    "with tf.Session() as sess:\n",
    "    # Initializing the variables\n",
    "    sess.run(tf.global_variables_initializer())\n",
    "    \n",
    "    # Training cycle\n",
    "    for epoch in range(epochs):\n",
    "        # Loop over all batches\n",
    "        n_batches = 5\n",
    "        for batch_i in range(1, n_batches + 1):\n",
    "            for batch_features, batch_labels in helper.load_preprocess_training_batch(batch_i, batch_size):\n",
    "                train_neural_network(sess, optimizer, keep_probability, batch_features, batch_labels)\n",
    "            print('Epoch {:>2}, CIFAR-10 Batch {}:  '.format(epoch + 1, batch_i), end='')\n",
    "            print_stats(sess, batch_features, batch_labels, cost, accuracy)\n",
    "            \n",
    "    # Save Model\n",
    "    saver = tf.train.Saver()\n",
    "    save_path = saver.save(sess, save_model_path)"
   ]
  },
  {
   "cell_type": "markdown",
   "metadata": {},
   "source": [
    "# Checkpoint\n",
    "The model has been saved to disk.\n",
    "## Test Model\n",
    "Test your model against the test dataset.  This will be your final accuracy. You should have an accuracy greater than 50%. If you don't, keep tweaking the model architecture and parameters."
   ]
  },
  {
   "cell_type": "code",
   "execution_count": 102,
   "metadata": {},
   "outputs": [
    {
     "name": "stdout",
     "output_type": "stream",
     "text": [
      "INFO:tensorflow:Restoring parameters from ./image_classification\n",
      "Testing Accuracy: 0.65107421875\n",
      "\n"
     ]
    },
    {
     "data": {
      "image/png": "[encoded data removed]",
      "text/plain": [
       "<matplotlib.figure.Figure at 0x7f66c81afdd8>"
      ]
     },
     "metadata": {
      "image/png": {
       "height": 319,
       "width": 355
      }
     },
     "output_type": "display_data"
    }
   ],
   "source": [
    "\"\"\"\n",
    "DON'T MODIFY ANYTHING IN THIS CELL\n",
    "\"\"\"\n",
    "%matplotlib inline\n",
    "%config InlineBackend.figure_format = 'retina'\n",
    "\n",
    "import tensorflow as tf\n",
    "import pickle\n",
    "import helper\n",
    "import random\n",
    "\n",
    "# Set batch size if not already set\n",
    "try:\n",
    "    if batch_size:\n",
    "        pass\n",
    "except NameError:\n",
    "    batch_size = 64\n",
    "\n",
    "save_model_path = './image_classification'\n",
    "n_samples = 4\n",
    "top_n_predictions = 3\n",
    "\n",
    "def test_model():\n",
    "    \"\"\"\n",
    "    Test the saved model against the test dataset\n",
    "    \"\"\"\n",
    "\n",
    "    test_features, test_labels = pickle.load(open('preprocess_test.p', mode='rb'))\n",
    "    loaded_graph = tf.Graph()\n",
    "\n",
    "    with tf.Session(graph=loaded_graph) as sess:\n",
    "        # Load model\n",
    "        loader = tf.train.import_meta_graph(save_model_path + '.meta')\n",
    "        loader.restore(sess, save_model_path)\n",
    "\n",
    "        # Get Tensors from loaded model\n",
    "        loaded_x = loaded_graph.get_tensor_by_name('x:0')\n",
    "        loaded_y = loaded_graph.get_tensor_by_name('y:0')\n",
    "        loaded_keep_prob = loaded_graph.get_tensor_by_name('keep_prob:0')\n",
    "        loaded_logits = loaded_graph.get_tensor_by_name('logits:0')\n",
    "        loaded_acc = loaded_graph.get_tensor_by_name('accuracy:0')\n",
    "        \n",
    "        # Get accuracy in batches for memory limitations\n",
    "        test_batch_acc_total = 0\n",
    "        test_batch_count = 0\n",
    "        \n",
    "        for test_feature_batch, test_label_batch in helper.batch_features_labels(test_features, test_labels, batch_size):\n",
    "            test_batch_acc_total += sess.run(\n",
    "                loaded_acc,\n",
    "                feed_dict={loaded_x: test_feature_batch, loaded_y: test_label_batch, loaded_keep_prob: 1.0})\n",
    "            test_batch_count += 1\n",
    "\n",
    "        print('Testing Accuracy: {}\\n'.format(test_batch_acc_total/test_batch_count))\n",
    "\n",
    "        # Print Random Samples\n",
    "        random_test_features, random_test_labels = tuple(zip(*random.sample(list(zip(test_features, test_labels)), n_samples)))\n",
    "        random_test_predictions = sess.run(\n",
    "            tf.nn.top_k(tf.nn.softmax(loaded_logits), top_n_predictions),\n",
    "            feed_dict={loaded_x: random_test_features, loaded_y: random_test_labels, loaded_keep_prob: 1.0})\n",
    "        helper.display_image_predictions(random_test_features, random_test_labels, random_test_predictions)\n",
    "\n",
    "\n",
    "test_model()"
   ]
  },
  {
   "cell_type": "markdown",
   "metadata": {},
   "source": [
    "## Why 50-80% Accuracy?\n",
    "You might be wondering why you can't get an accuracy any higher. First things first, 50% isn't bad for a simple CNN.  Pure guessing would get you 10% accuracy. However, you might notice people are getting scores [well above 80%](http://rodrigob.github.io/are_we_there_yet/build/classification_datasets_results.html#43494641522d3130).  That's because we haven't taught you all there is to know about neural networks. We still need to cover a few more techniques.\n",
    "## Submitting This Project\n",
    "When submitting this project, make sure to run all the cells before saving the notebook.  Save the notebook file as \"dlnd_image_classification.ipynb\" and save it as a HTML file under \"File\" -> \"Download as\".  Include the \"helper.py\" and \"problem_unittests.py\" files in your submission."
   ]
  }
 ],
 "metadata": {
  "kernelspec": {
   "display_name": "Python 3",
   "language": "python",
   "name": "python3"
  },
  "language_info": {
   "codemirror_mode": {
    "name": "ipython",
    "version": 3
   },
   "file_extension": ".py",
   "mimetype": "text/x-python",
   "name": "python",
   "nbconvert_exporter": "python",
   "pygments_lexer": "ipython3",
   "version": "3.5.3"
  }
 },
 "nbformat": 4,
 "nbformat_minor": 1
}
