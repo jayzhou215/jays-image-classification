{
 "cells": [
  {
   "cell_type": "markdown",
   "metadata": {
    "collapsed": true
   },
   "source": [
    "# Image Classification\n",
    "In this project, you'll classify images from the [CIFAR-10 dataset](https://www.cs.toronto.edu/~kriz/cifar.html).  The dataset consists of airplanes, dogs, cats, and other objects. You'll preprocess the images, then train a convolutional neural network on all the samples. The images need to be normalized and the labels need to be one-hot encoded.  You'll get to apply what you learned and build a convolutional, max pooling, dropout, and fully connected layers.  At the end, you'll get to see your neural network's predictions on the sample images.\n",
    "## Get the Data\n",
    "Run the following cell to download the [CIFAR-10 dataset for python](https://www.cs.toronto.edu/~kriz/cifar-10-python.tar.gz)."
   ]
  },
  {
   "cell_type": "code",
   "execution_count": 1,
   "metadata": {
    "collapsed": false
   },
   "outputs": [
    {
     "name": "stdout",
     "output_type": "stream",
     "text": [
      "All files found!\n"
     ]
    }
   ],
   "source": [
    "\"\"\"\n",
    "DON'T MODIFY ANYTHING IN THIS CELL THAT IS BELOW THIS LINE\n",
    "\"\"\"\n",
    "from urllib.request import urlretrieve\n",
    "from os.path import isfile, isdir\n",
    "from tqdm import tqdm\n",
    "import problem_unittests as tests\n",
    "import tarfile\n",
    "\n",
    "cifar10_dataset_folder_path = 'cifar-10-batches-py'\n",
    "\n",
    "# Use Floyd's cifar-10 dataset if present\n",
    "floyd_cifar10_location = '/input/cifar-10/python.tar.gz'\n",
    "if isfile(floyd_cifar10_location):\n",
    "    tar_gz_path = floyd_cifar10_location\n",
    "else:\n",
    "    tar_gz_path = 'cifar-10-python.tar.gz'\n",
    "\n",
    "class DLProgress(tqdm):\n",
    "    last_block = 0\n",
    "\n",
    "    def hook(self, block_num=1, block_size=1, total_size=None):\n",
    "        self.total = total_size\n",
    "        self.update((block_num - self.last_block) * block_size)\n",
    "        self.last_block = block_num\n",
    "\n",
    "if not isfile(tar_gz_path):\n",
    "    with DLProgress(unit='B', unit_scale=True, miniters=1, desc='CIFAR-10 Dataset') as pbar:\n",
    "        urlretrieve(\n",
    "            'https://www.cs.toronto.edu/~kriz/cifar-10-python.tar.gz',\n",
    "            tar_gz_path,\n",
    "            pbar.hook)\n",
    "\n",
    "if not isdir(cifar10_dataset_folder_path):\n",
    "    with tarfile.open(tar_gz_path) as tar:\n",
    "        tar.extractall()\n",
    "        tar.close()\n",
    "\n",
    "\n",
    "tests.test_folder_path(cifar10_dataset_folder_path)"
   ]
  },
  {
   "cell_type": "markdown",
   "metadata": {},
   "source": [
    "## Explore the Data\n",
    "The dataset is broken into batches to prevent your machine from running out of memory.  The CIFAR-10 dataset consists of 5 batches, named `data_batch_1`, `data_batch_2`, etc.. Each batch contains the labels and images that are one of the following:\n",
    "* airplane\n",
    "* automobile\n",
    "* bird\n",
    "* cat\n",
    "* deer\n",
    "* dog\n",
    "* frog\n",
    "* horse\n",
    "* ship\n",
    "* truck\n",
    "\n",
    "Understanding a dataset is part of making predictions on the data.  Play around with the code cell below by changing the `batch_id` and `sample_id`. The `batch_id` is the id for a batch (1-5). The `sample_id` is the id for a image and label pair in the batch.\n",
    "\n",
    "Ask yourself \"What are all possible labels?\", \"What is the range of values for the image data?\", \"Are the labels in order or random?\".  Answers to questions like these will help you preprocess the data and end up with better predictions."
   ]
  },
  {
   "cell_type": "code",
   "execution_count": 3,
   "metadata": {
    "collapsed": false
   },
   "outputs": [
    {
     "name": "stdout",
     "output_type": "stream",
     "text": [
      "\n",
      "Stats of batch 1:\n",
      "Samples: 10000\n",
      "Label Counts: {0: 1005, 1: 974, 2: 1032, 3: 1016, 4: 999, 5: 937, 6: 1030, 7: 1001, 8: 1025, 9: 981}\n",
      "First 20 Labels: [6, 9, 9, 4, 1, 1, 2, 7, 8, 3, 4, 7, 7, 2, 9, 9, 9, 3, 2, 6]\n",
      "\n",
      "Example of Image 6:\n",
      "Image - Min Value: 7 Max Value: 249\n",
      "Image - Shape: (32, 32, 3)\n",
      "Label - Label Id: 2 Name: bird\n"
     ]
    },
    {
     "data": {
      "image/png": "[encoded data removed]",
      "text/plain": [
       "<matplotlib.figure.Figure at 0x7f0ac9ac93c8>"
      ]
     },
     "metadata": {
      "image/png": {
       "height": 250,
       "width": 253
      }
     },
     "output_type": "display_data"
    }
   ],
   "source": [
    "%matplotlib inline\n",
    "%config InlineBackend.figure_format = 'retina'\n",
    "\n",
    "import helper\n",
    "import numpy as np\n",
    "\n",
    "# Explore the dataset\n",
    "batch_id = 1\n",
    "sample_id = 6\n",
    "helper.display_stats(cifar10_dataset_folder_path, batch_id, sample_id)"
   ]
  },
  {
   "cell_type": "markdown",
   "metadata": {},
   "source": [
    "## Implement Preprocess Functions\n",
    "### Normalize\n",
    "In the cell below, implement the `normalize` function to take in image data, `x`, and return it as a normalized Numpy array. The values should be in the range of 0 to 1, inclusive.  The return object should be the same shape as `x`."
   ]
  },
  {
   "cell_type": "code",
   "execution_count": 65,
   "metadata": {
    "collapsed": false
   },
   "outputs": [
    {
     "name": "stdout",
     "output_type": "stream",
     "text": [
      "Tests Passed\n"
     ]
    }
   ],
   "source": [
    "def normalize(x):\n",
    "    \"\"\"\n",
    "    Normalize a list of sample image data in the range of 0 to 1\n",
    "    : x: List of image data.  The image shape is (32, 32, 3)\n",
    "    : return: Numpy array of normalize data\n",
    "    \"\"\"\n",
    "    # TODO: Implement Function\n",
    "    if len(x) == 0:\n",
    "        return np.array()\n",
    "    first_image = x[0]\n",
    "    n_images = len(x)\n",
    "    height = first_image.shape[0]\n",
    "    width = first_image.shape[1]\n",
    "    deepth = first_image.shape[2]\n",
    "    images = np.zeros((n_images, height, width, deepth))\n",
    "    for index,image in enumerate(x):\n",
    "        images[index] = np.divide(np.array(image), 256)\n",
    "    return images\n",
    "\n",
    "\n",
    "\"\"\"\n",
    "DON'T MODIFY ANYTHING IN THIS CELL THAT IS BELOW THIS LINE\n",
    "\"\"\"\n",
    "tests.test_normalize(normalize)"
   ]
  },
  {
   "cell_type": "markdown",
   "metadata": {},
   "source": [
    "### One-hot encode\n",
    "Just like the previous code cell, you'll be implementing a function for preprocessing.  This time, you'll implement the `one_hot_encode` function. The input, `x`, are a list of labels.  Implement the function to return the list of labels as One-Hot encoded Numpy array.  The possible values for labels are 0 to 9. The one-hot encoding function should return the same encoding for each value between each call to `one_hot_encode`.  Make sure to save the map of encodings outside the function.\n",
    "\n",
    "Hint: Don't reinvent the wheel."
   ]
  },
  {
   "cell_type": "code",
   "execution_count": 5,
   "metadata": {
    "collapsed": false
   },
   "outputs": [
    {
     "name": "stdout",
     "output_type": "stream",
     "text": [
      "Tests Passed\n"
     ]
    }
   ],
   "source": [
    "def one_hot_encode(x):\n",
    "    \"\"\"\n",
    "    One hot encode a list of sample labels. Return a one-hot encoded vector for each label.\n",
    "    : x: List of sample Labels\n",
    "    : return: Numpy array of one-hot encoded labels\n",
    "    \"\"\"\n",
    "    return np.eye(10)[x]\n",
    "\n",
    "\"\"\"\n",
    "DON'T MODIFY ANYTHING IN THIS CELL THAT IS BELOW THIS LINE\n",
    "\"\"\"\n",
    "tests.test_one_hot_encode(one_hot_encode)"
   ]
  },
  {
   "cell_type": "markdown",
   "metadata": {},
   "source": [
    "### Randomize Data\n",
    "As you saw from exploring the data above, the order of the samples are randomized.  It doesn't hurt to randomize it again, but you don't need to for this dataset."
   ]
  },
  {
   "cell_type": "markdown",
   "metadata": {},
   "source": [
    "## Preprocess all the data and save it\n",
    "Running the code cell below will preprocess all the CIFAR-10 data and save it to file. The code below also uses 10% of the training data for validation."
   ]
  },
  {
   "cell_type": "code",
   "execution_count": 66,
   "metadata": {
    "collapsed": false
   },
   "outputs": [],
   "source": [
    "\"\"\"\n",
    "DON'T MODIFY ANYTHING IN THIS CELL\n",
    "\"\"\"\n",
    "# Preprocess Training, Validation, and Testing Data\n",
    "helper.preprocess_and_save_data(cifar10_dataset_folder_path, normalize, one_hot_encode)"
   ]
  },
  {
   "cell_type": "markdown",
   "metadata": {},
   "source": [
    "# Check Point\n",
    "This is your first checkpoint.  If you ever decide to come back to this notebook or have to restart the notebook, you can start from here.  The preprocessed data has been saved to disk."
   ]
  },
  {
   "cell_type": "code",
   "execution_count": 7,
   "metadata": {
    "collapsed": true
   },
   "outputs": [],
   "source": [
    "\"\"\"\n",
    "DON'T MODIFY ANYTHING IN THIS CELL\n",
    "\"\"\"\n",
    "import pickle\n",
    "import problem_unittests as tests\n",
    "import helper\n",
    "import numpy as np\n",
    "\n",
    "# Load the Preprocessed Validation data\n",
    "valid_features, valid_labels = pickle.load(open('preprocess_validation.p', mode='rb'))"
   ]
  },
  {
   "cell_type": "markdown",
   "metadata": {},
   "source": [
    "## Build the network\n",
    "For the neural network, you'll build each layer into a function.  Most of the code you've seen has been outside of functions. To test your code more thoroughly, we require that you put each layer in a function.  This allows us to give you better feedback and test for simple mistakes using our unittests before you submit your project.\n",
    "\n",
    ">**Note:** If you're finding it hard to dedicate enough time for this course each week, we've provided a small shortcut to this part of the project. In the next couple of problems, you'll have the option to use classes from the [TensorFlow Layers](https://www.tensorflow.org/api_docs/python/tf/layers) or [TensorFlow Layers (contrib)](https://www.tensorflow.org/api_guides/python/contrib.layers) packages to build each layer, except the layers you build in the \"Convolutional and Max Pooling Layer\" section.  TF Layers is similar to Keras's and TFLearn's abstraction to layers, so it's easy to pickup.\n",
    "\n",
    ">However, if you would like to get the most out of this course, try to solve all the problems _without_ using anything from the TF Layers packages. You **can** still use classes from other packages that happen to have the same name as ones you find in TF Layers! For example, instead of using the TF Layers version of the `conv2d` class, [tf.layers.conv2d](https://www.tensorflow.org/api_docs/python/tf/layers/conv2d), you would want to use the TF Neural Network version of `conv2d`, [tf.nn.conv2d](https://www.tensorflow.org/api_docs/python/tf/nn/conv2d). \n",
    "\n",
    "Let's begin!\n",
    "\n",
    "### Input\n",
    "The neural network needs to read the image data, one-hot encoded labels, and dropout keep probability. Implement the following functions\n",
    "* Implement `neural_net_image_input`\n",
    " * Return a [TF Placeholder](https://www.tensorflow.org/api_docs/python/tf/placeholder)\n",
    " * Set the shape using `image_shape` with batch size set to `None`.\n",
    " * Name the TensorFlow placeholder \"x\" using the TensorFlow `name` parameter in the [TF Placeholder](https://www.tensorflow.org/api_docs/python/tf/placeholder).\n",
    "* Implement `neural_net_label_input`\n",
    " * Return a [TF Placeholder](https://www.tensorflow.org/api_docs/python/tf/placeholder)\n",
    " * Set the shape using `n_classes` with batch size set to `None`.\n",
    " * Name the TensorFlow placeholder \"y\" using the TensorFlow `name` parameter in the [TF Placeholder](https://www.tensorflow.org/api_docs/python/tf/placeholder).\n",
    "* Implement `neural_net_keep_prob_input`\n",
    " * Return a [TF Placeholder](https://www.tensorflow.org/api_docs/python/tf/placeholder) for dropout keep probability.\n",
    " * Name the TensorFlow placeholder \"keep_prob\" using the TensorFlow `name` parameter in the [TF Placeholder](https://www.tensorflow.org/api_docs/python/tf/placeholder).\n",
    "\n",
    "These names will be used at the end of the project to load your saved model.\n",
    "\n",
    "Note: `None` for shapes in TensorFlow allow for a dynamic size."
   ]
  },
  {
   "cell_type": "code",
   "execution_count": 8,
   "metadata": {
    "collapsed": false
   },
   "outputs": [
    {
     "name": "stdout",
     "output_type": "stream",
     "text": [
      "Image Input Tests Passed.\n",
      "Label Input Tests Passed.\n",
      "Keep Prob Tests Passed.\n"
     ]
    }
   ],
   "source": [
    "import tensorflow as tf\n",
    "\n",
    "def neural_net_image_input(image_shape):\n",
    "    \"\"\"\n",
    "    Return a Tensor for a batch of image input\n",
    "    : image_shape: Shape of the images\n",
    "    : return: Tensor for image input.\n",
    "    \"\"\"\n",
    "    return tf.placeholder(dtype=tf.float32, shape=(None, image_shape[0], image_shape[1], image_shape[2]), name=\"x\")\n",
    "\n",
    "\n",
    "def neural_net_label_input(n_classes):\n",
    "    \"\"\"\n",
    "    Return a Tensor for a batch of label input\n",
    "    : n_classes: Number of classes\n",
    "    : return: Tensor for label input.\n",
    "    \"\"\"\n",
    "    return tf.placeholder(dtype=tf.float32, shape=(None, n_classes), name=\"y\")\n",
    "\n",
    "\n",
    "def neural_net_keep_prob_input():\n",
    "    \"\"\"\n",
    "    Return a Tensor for keep probability\n",
    "    : return: Tensor for keep probability.\n",
    "    \"\"\"\n",
    "    return tf.placeholder(dtype=tf.float32, name=\"keep_prob\")\n",
    "\n",
    "\n",
    "\"\"\"\n",
    "DON'T MODIFY ANYTHING IN THIS CELL THAT IS BELOW THIS LINE\n",
    "\"\"\"\n",
    "tf.reset_default_graph()\n",
    "tests.test_nn_image_inputs(neural_net_image_input)\n",
    "tests.test_nn_label_inputs(neural_net_label_input)\n",
    "tests.test_nn_keep_prob_inputs(neural_net_keep_prob_input)"
   ]
  },
  {
   "cell_type": "markdown",
   "metadata": {},
   "source": [
    "### Convolution and Max Pooling Layer\n",
    "Convolution layers have a lot of success with images. For this code cell, you should implement the function `conv2d_maxpool` to apply convolution then max pooling:\n",
    "* Create the weight and bias using `conv_ksize`, `conv_num_outputs` and the shape of `x_tensor`.\n",
    "* Apply a convolution to `x_tensor` using weight and `conv_strides`.\n",
    " * We recommend you use same padding, but you're welcome to use any padding.\n",
    "* Add bias\n",
    "* Add a nonlinear activation to the convolution.\n",
    "* Apply Max Pooling using `pool_ksize` and `pool_strides`.\n",
    " * We recommend you use same padding, but you're welcome to use any padding.\n",
    "\n",
    "**Note:** You **can't** use [TensorFlow Layers](https://www.tensorflow.org/api_docs/python/tf/layers) or [TensorFlow Layers (contrib)](https://www.tensorflow.org/api_guides/python/contrib.layers) for **this** layer, but you can still use TensorFlow's [Neural Network](https://www.tensorflow.org/api_docs/python/tf/nn) package. You may still use the shortcut option for all the **other** layers."
   ]
  },
  {
   "cell_type": "code",
   "execution_count": 9,
   "metadata": {
    "collapsed": false
   },
   "outputs": [
    {
     "name": "stdout",
     "output_type": "stream",
     "text": [
      "Tests Passed\n"
     ]
    }
   ],
   "source": [
    "def conv2d_maxpool(x_tensor, conv_num_outputs, conv_ksize, conv_strides, pool_ksize, pool_strides):\n",
    "    \"\"\"\n",
    "    Apply convolution then max pooling to x_tensor\n",
    "    :param x_tensor: TensorFlow Tensor\n",
    "    :param conv_num_outputs: Number of outputs for the convolutional layer\n",
    "    :param conv_ksize: kernal size 2-D Tuple for the convolutional layer\n",
    "    :param conv_strides: Stride 2-D Tuple for convolution\n",
    "    :param pool_ksize: kernal size 2-D Tuple for pool\n",
    "    :param pool_strides: Stride 2-D Tuple for pool\n",
    "    : return: A tensor that represents convolution and max pooling of x_tensor\n",
    "    \"\"\"\n",
    "    filter_size_height = conv_ksize[0]\n",
    "    filter_size_width = conv_ksize[1]\n",
    "    channels = int(x_tensor.shape[3])\n",
    "\n",
    "    weight = tf.Variable(tf.truncated_normal([filter_size_height, filter_size_width, channels, conv_num_outputs]))\n",
    "    bias = tf.Variable(tf.zeros(conv_num_outputs))\n",
    "    conv_layer = tf.nn.conv2d(x_tensor, weight, [1,conv_strides[0], conv_strides[1], 1], 'SAME')\n",
    "    conv_layer = tf.nn.bias_add(conv_layer, bias)\n",
    "    conv_layer = tf.nn.relu(conv_layer)\n",
    "    max_pooling = tf.nn.max_pool(conv_layer, [1, pool_ksize[0], pool_ksize[1], 1], [1, pool_strides[0], pool_strides[1], 1], 'SAME')\n",
    "    return max_pooling\n",
    "\n",
    "\n",
    "\"\"\"\n",
    "DON'T MODIFY ANYTHING IN THIS CELL THAT IS BELOW THIS LINE\n",
    "\"\"\"\n",
    "tf.reset_default_graph()\n",
    "tests.test_con_pool(conv2d_maxpool)"
   ]
  },
  {
   "cell_type": "markdown",
   "metadata": {},
   "source": [
    "### Flatten Layer\n",
    "Implement the `flatten` function to change the dimension of `x_tensor` from a 4-D tensor to a 2-D tensor.  The output should be the shape (*Batch Size*, *Flattened Image Size*). Shortcut option: you can use classes from the [TensorFlow Layers](https://www.tensorflow.org/api_docs/python/tf/layers) or [TensorFlow Layers (contrib)](https://www.tensorflow.org/api_guides/python/contrib.layers) packages for this layer. For more of a challenge, only use other TensorFlow packages."
   ]
  },
  {
   "cell_type": "code",
   "execution_count": 10,
   "metadata": {
    "collapsed": false
   },
   "outputs": [
    {
     "name": "stdout",
     "output_type": "stream",
     "text": [
      "Tests Passed\n"
     ]
    }
   ],
   "source": [
    "def flatten(x_tensor):\n",
    "    \"\"\"\n",
    "    Flatten x_tensor to (Batch Size, Flattened Image Size)\n",
    "    : x_tensor: A tensor of size (Batch Size, ...), where ... are the image dimensions.\n",
    "    : return: A tensor of size (Batch Size, Flattened Image Size).\n",
    "    \"\"\"\n",
    "    return tf.reshape(x_tensor, [-1, int(np.prod(x_tensor.shape[1:]))])\n",
    "\n",
    "\n",
    "\"\"\"\n",
    "DON'T MODIFY ANYTHING IN THIS CELL THAT IS BELOW THIS LINE\n",
    "\"\"\"\n",
    "tests.test_flatten(flatten)"
   ]
  },
  {
   "cell_type": "markdown",
   "metadata": {},
   "source": [
    "### Fully-Connected Layer\n",
    "Implement the `fully_conn` function to apply a fully connected layer to `x_tensor` with the shape (*Batch Size*, *num_outputs*). Shortcut option: you can use classes from the [TensorFlow Layers](https://www.tensorflow.org/api_docs/python/tf/layers) or [TensorFlow Layers (contrib)](https://www.tensorflow.org/api_guides/python/contrib.layers) packages for this layer. For more of a challenge, only use other TensorFlow packages."
   ]
  },
  {
   "cell_type": "code",
   "execution_count": 11,
   "metadata": {
    "collapsed": false
   },
   "outputs": [
    {
     "name": "stdout",
     "output_type": "stream",
     "text": [
      "Tests Passed\n"
     ]
    }
   ],
   "source": [
    "def fully_conn(x_tensor, num_outputs):\n",
    "    \"\"\"\n",
    "    Apply a fully connected layer to x_tensor using weight and bias\n",
    "    : x_tensor: A 2-D tensor where the first dimension is batch size.\n",
    "    : num_outputs: The number of output that the new tensor should be.\n",
    "    : return: A 2-D tensor where the second dimension is num_outputs.\n",
    "    \"\"\"\n",
    "    \n",
    "    return tf.contrib.layers.fully_connected(x_tensor,num_outputs)\n",
    "\n",
    "\n",
    "\"\"\"\n",
    "DON'T MODIFY ANYTHING IN THIS CELL THAT IS BELOW THIS LINE\n",
    "\"\"\"\n",
    "tests.test_fully_conn(fully_conn)"
   ]
  },
  {
   "cell_type": "markdown",
   "metadata": {},
   "source": [
    "### Output Layer\n",
    "Implement the `output` function to apply a fully connected layer to `x_tensor` with the shape (*Batch Size*, *num_outputs*). Shortcut option: you can use classes from the [TensorFlow Layers](https://www.tensorflow.org/api_docs/python/tf/layers) or [TensorFlow Layers (contrib)](https://www.tensorflow.org/api_guides/python/contrib.layers) packages for this layer. For more of a challenge, only use other TensorFlow packages.\n",
    "\n",
    "**Note:** Activation, softmax, or cross entropy should **not** be applied to this."
   ]
  },
  {
   "cell_type": "code",
   "execution_count": 12,
   "metadata": {
    "collapsed": false
   },
   "outputs": [
    {
     "name": "stdout",
     "output_type": "stream",
     "text": [
      "Tests Passed\n"
     ]
    }
   ],
   "source": [
    "def output(x_tensor, num_outputs):\n",
    "    \"\"\"\n",
    "    Apply a output layer to x_tensor using weight and bias\n",
    "    : x_tensor: A 2-D tensor where the first dimension is batch size.\n",
    "    : num_outputs: The number of output that the new tensor should be.\n",
    "    : return: A 2-D tensor where the second dimension is num_outputs.\n",
    "    \"\"\"\n",
    "#     channels = int(x_tensor.shape[1])\n",
    "#     weight = tf.Variable(tf.truncated_normal([channels, num_outputs]))\n",
    "#     bias = tf.Variable(tf.zeros(num_outputs))\n",
    "#     output = tf.matmul(x_tensor, weight) + bias\n",
    "#     output = tf.sigmoid(output)\n",
    "    return tf.layers.dense(x_tensor,num_outputs)\n",
    "\n",
    "\n",
    "\"\"\"\n",
    "DON'T MODIFY ANYTHING IN THIS CELL THAT IS BELOW THIS LINE\n",
    "\"\"\"\n",
    "tests.test_output(output)"
   ]
  },
  {
   "cell_type": "markdown",
   "metadata": {},
   "source": [
    "### Create Convolutional Model\n",
    "Implement the function `conv_net` to create a convolutional neural network model. The function takes in a batch of images, `x`, and outputs logits.  Use the layers you created above to create this model:\n",
    "\n",
    "* Apply 1, 2, or 3 Convolution and Max Pool layers\n",
    "* Apply a Flatten Layer\n",
    "* Apply 1, 2, or 3 Fully Connected Layers\n",
    "* Apply an Output Layer\n",
    "* Return the output\n",
    "* Apply [TensorFlow's Dropout](https://www.tensorflow.org/api_docs/python/tf/nn/dropout) to one or more layers in the model using `keep_prob`. "
   ]
  },
  {
   "cell_type": "code",
   "execution_count": 85,
   "metadata": {
    "collapsed": false
   },
   "outputs": [
    {
     "name": "stdout",
     "output_type": "stream",
     "text": [
      "Neural Network Built!\n"
     ]
    }
   ],
   "source": [
    "def conv_net(x, keep_prob):\n",
    "    \"\"\"\n",
    "    Create a convolutional neural network model\n",
    "    : x: Placeholder tensor that holds image data.\n",
    "    : keep_prob: Placeholder tensor that hold dropout keep probability.\n",
    "    : return: Tensor that represents logits\n",
    "    \"\"\"\n",
    "    # TODO: Apply 1, 2, or 3 Convolution and Max Pool layers\n",
    "    #    Play around with different number of outputs, kernel size and stride\n",
    "    # Function Definition from Above:\n",
    "    #    conv2d_maxpool(x_tensor, conv_num_outputs, conv_ksize, conv_strides, pool_ksize, pool_strides)\n",
    "    conv1_num_outputs = 20\n",
    "    conv1_ksize = (8, 8)\n",
    "    conv1_strides = (1, 1)\n",
    "    pool_ksize = (2, 2)\n",
    "    pool_strides = (2, 2)\n",
    "    conv_layer1 = conv2d_maxpool(x, conv1_num_outputs, conv1_ksize, conv1_strides, pool_ksize, pool_strides)\n",
    "\n",
    "\n",
    "    conv2_num_outputs = 40\n",
    "    conv2_ksize = (6, 6)\n",
    "    conv2_strides = (1, 1)\n",
    "    conv_layer2 = conv2d_maxpool(conv_layer1, conv2_num_outputs, conv2_ksize, conv2_strides, pool_ksize, pool_strides)\n",
    "\n",
    "#     conv3_num_outputs = 40\n",
    "#     conv3_ksize = (3, 3)  \n",
    "#     conv3_strides = (1, 1)\n",
    "#     pool3_ksize = (1,1)\n",
    "#     pool3_strides = (1,1)\n",
    "#     conv_layer3 = conv2d_maxpool(conv_layer2, conv3_num_outputs, conv3_ksize, conv3_strides, pool3_ksize, pool3_strides)\n",
    "    \n",
    "    # TODO: Apply a Flatten Layer\n",
    "    # Function Definition from Above:\n",
    "    #   flatten(x_tensor)\n",
    "    flatten_layer = flatten(conv_layer2)\n",
    "\n",
    "    # TODO: Apply 1, 2, or 3 Fully Connected Layers\n",
    "    #    Play around with different number of outputs\n",
    "    # Function Definition from Above:\n",
    "    #   fully_conn(x_tensor, num_outputs)\n",
    "\n",
    "    fully_num_outputs = int(flatten_layer.shape[1])\n",
    "    fully_layer = fully_conn(flatten_layer, fully_num_outputs)\n",
    "    \n",
    "    dropout_layer = tf.nn.dropout(fully_layer,keep_prob)\n",
    "    \n",
    "    # TODO: Apply an Output Layer\n",
    "    #    Set this to the number of classes\n",
    "    # Function Definition from Above:\n",
    "    #   output(x_tensor, num_outputs)\n",
    "    output_result = output(dropout_layer, 10)\n",
    "\n",
    "    # TODO: return output\n",
    "    return output_result\n",
    "\n",
    "\n",
    "\"\"\"\n",
    "DON'T MODIFY ANYTHING IN THIS CELL THAT IS BELOW THIS LINE\n",
    "\"\"\"\n",
    "\n",
    "##############################\n",
    "## Build the Neural Network ##\n",
    "##############################\n",
    "\n",
    "# Remove previous weights, bias, inputs, etc..\n",
    "tf.reset_default_graph()\n",
    "\n",
    "# Inputs\n",
    "x = neural_net_image_input((32, 32, 3))\n",
    "y = neural_net_label_input(10)\n",
    "keep_prob = neural_net_keep_prob_input()\n",
    "\n",
    "# Model\n",
    "logits = conv_net(x, keep_prob)\n",
    "\n",
    "# Name logits Tensor, so that is can be loaded from disk after training\n",
    "logits = tf.identity(logits, name='logits')\n",
    "\n",
    "# Loss and Optimizer\n",
    "cost = tf.reduce_mean(tf.nn.softmax_cross_entropy_with_logits(logits=logits, labels=y))\n",
    "optimizer = tf.train.AdamOptimizer().minimize(cost)\n",
    "\n",
    "# Accuracy\n",
    "correct_pred = tf.equal(tf.argmax(logits, 1), tf.argmax(y, 1))\n",
    "accuracy = tf.reduce_mean(tf.cast(correct_pred, tf.float32), name='accuracy')\n",
    "\n",
    "tests.test_conv_net(conv_net)"
   ]
  },
  {
   "cell_type": "markdown",
   "metadata": {},
   "source": [
    "## Train the Neural Network\n",
    "### Single Optimization\n",
    "Implement the function `train_neural_network` to do a single optimization.  The optimization should use `optimizer` to optimize in `session` with a `feed_dict` of the following:\n",
    "* `x` for image input\n",
    "* `y` for labels\n",
    "* `keep_prob` for keep probability for dropout\n",
    "\n",
    "This function will be called for each batch, so `tf.global_variables_initializer()` has already been called.\n",
    "\n",
    "Note: Nothing needs to be returned. This function is only optimizing the neural network."
   ]
  },
  {
   "cell_type": "code",
   "execution_count": 86,
   "metadata": {
    "collapsed": false
   },
   "outputs": [
    {
     "name": "stdout",
     "output_type": "stream",
     "text": [
      "Tests Passed\n"
     ]
    }
   ],
   "source": [
    "def train_neural_network(session, optimizer, keep_probability, feature_batch, label_batch):\n",
    "    \"\"\"\n",
    "    Optimize the session on a batch of images and labels\n",
    "    : session: Current TensorFlow session\n",
    "    : optimizer: TensorFlow optimizer function\n",
    "    : keep_probability: keep probability\n",
    "    : feature_batch: Batch of Numpy image data\n",
    "    : label_batch: Batch of Numpy label data\n",
    "    \"\"\"\n",
    "    session.run(optimizer,{keep_prob : keep_probability, x:feature_batch, y:label_batch})\n",
    "\n",
    "\n",
    "\"\"\"\n",
    "DON'T MODIFY ANYTHING IN THIS CELL THAT IS BELOW THIS LINE\n",
    "\"\"\"\n",
    "tests.test_train_nn(train_neural_network)"
   ]
  },
  {
   "cell_type": "markdown",
   "metadata": {},
   "source": [
    "### Show Stats\n",
    "Implement the function `print_stats` to print loss and validation accuracy.  Use the global variables `valid_features` and `valid_labels` to calculate validation accuracy.  Use a keep probability of `1.0` to calculate the loss and validation accuracy."
   ]
  },
  {
   "cell_type": "code",
   "execution_count": 76,
   "metadata": {
    "collapsed": true
   },
   "outputs": [],
   "source": [
    "def print_stats(session, feature_batch, label_batch, cost, accuracy):\n",
    "    \"\"\"\n",
    "    Print information about loss and validation accuracy\n",
    "    : session: Current TensorFlow session\n",
    "    : feature_batch: Batch of Numpy image data\n",
    "    : label_batch: Batch of Numpy label data\n",
    "    : cost: TensorFlow cost function\n",
    "    : accuracy: TensorFlow accuracy function\n",
    "    \"\"\"\n",
    "    valid_accuracy = session.run(accuracy, {x : valid_features, y : valid_labels, keep_prob : 1.0})\n",
    "    accuracy_result = session.run(accuracy, {x : feature_batch, y : label_batch, keep_prob : 1.0})\n",
    "    cost_result = session.run(cost, {x : feature_batch, y : label_batch, keep_prob : 1.0})\n",
    "    print(\"valid_accuracy : \", valid_accuracy, \", accuracy : \",accuracy_result, \", cost : \",cost_result)\n",
    "    "
   ]
  },
  {
   "cell_type": "markdown",
   "metadata": {},
   "source": [
    "### Hyperparameters\n",
    "Tune the following parameters:\n",
    "* Set `epochs` to the number of iterations until the network stops learning or start overfitting\n",
    "* Set `batch_size` to the highest number that your machine has memory for.  Most people set them to common sizes of memory:\n",
    " * 64\n",
    " * 128\n",
    " * 256\n",
    " * ...\n",
    "* Set `keep_probability` to the probability of keeping a node using dropout"
   ]
  },
  {
   "cell_type": "code",
   "execution_count": 67,
   "metadata": {
    "collapsed": true
   },
   "outputs": [],
   "source": [
    "# TODO: Tune Parameters\n",
    "epochs = 70\n",
    "batch_size = 256\n",
    "keep_probability = 0.5"
   ]
  },
  {
   "cell_type": "markdown",
   "metadata": {},
   "source": [
    "### Train on a Single CIFAR-10 Batch\n",
    "Instead of training the neural network on all the CIFAR-10 batches of data, let's use a single batch. This should save time while you iterate on the model to get a better accuracy.  Once the final validation accuracy is 50% or greater, run the model on all the data in the next section."
   ]
  },
  {
   "cell_type": "code",
   "execution_count": 87,
   "metadata": {
    "collapsed": false
   },
   "outputs": [
    {
     "name": "stdout",
     "output_type": "stream",
     "text": [
      "Checking the Training on a Single Batch...\n",
      "9216  Epoch  1, CIFAR-10 Batch 1:  valid_accuracy :  0.244 , accuracy :  0.175 , cost :  2.91484\n",
      "9216  Epoch  2, CIFAR-10 Batch 1:  valid_accuracy :  0.207 , accuracy :  0.35 , cost :  2.05967\n",
      "9216  Epoch  3, CIFAR-10 Batch 1:  valid_accuracy :  0.2596 , accuracy :  0.375 , cost :  1.9025\n",
      "9216  Epoch  4, CIFAR-10 Batch 1:  valid_accuracy :  0.2908 , accuracy :  0.45 , cost :  1.73858\n",
      "9216  Epoch  5, CIFAR-10 Batch 1:  valid_accuracy :  0.3032 , accuracy :  0.475 , cost :  1.68719\n",
      "9216  Epoch  6, CIFAR-10 Batch 1:  valid_accuracy :  0.3172 , accuracy :  0.525 , cost :  1.5713\n",
      "9216  Epoch  7, CIFAR-10 Batch 1:  valid_accuracy :  0.3474 , accuracy :  0.5 , cost :  1.60299\n",
      "9216  Epoch  8, CIFAR-10 Batch 1:  valid_accuracy :  0.3488 , accuracy :  0.625 , cost :  1.48745\n",
      "9216  Epoch  9, CIFAR-10 Batch 1:  valid_accuracy :  0.3676 , accuracy :  0.625 , cost :  1.43226\n",
      "9216  Epoch 10, CIFAR-10 Batch 1:  valid_accuracy :  0.3692 , accuracy :  0.65 , cost :  1.39146\n",
      "9216  Epoch 11, CIFAR-10 Batch 1:  valid_accuracy :  0.3876 , accuracy :  0.575 , cost :  1.31862\n",
      "9216  Epoch 12, CIFAR-10 Batch 1:  valid_accuracy :  0.3752 , accuracy :  0.625 , cost :  1.29337\n",
      "9216  Epoch 13, CIFAR-10 Batch 1:  valid_accuracy :  0.3964 , accuracy :  0.65 , cost :  1.18838\n",
      "9216  Epoch 14, CIFAR-10 Batch 1:  valid_accuracy :  0.3836 , accuracy :  0.6 , cost :  1.191\n",
      "9216  Epoch 15, CIFAR-10 Batch 1:  valid_accuracy :  0.4102 , accuracy :  0.65 , cost :  1.13029\n",
      "9216  Epoch 16, CIFAR-10 Batch 1:  valid_accuracy :  0.4112 , accuracy :  0.725 , cost :  1.09726\n",
      "9216  Epoch 17, CIFAR-10 Batch 1:  valid_accuracy :  0.41 , accuracy :  0.675 , cost :  1.07133\n",
      "9216  Epoch 18, CIFAR-10 Batch 1:  valid_accuracy :  0.4262 , accuracy :  0.675 , cost :  1.04043\n",
      "9216  Epoch 19, CIFAR-10 Batch 1:  valid_accuracy :  0.4182 , accuracy :  0.725 , cost :  0.998838\n",
      "9216  Epoch 20, CIFAR-10 Batch 1:  valid_accuracy :  0.4344 , accuracy :  0.775 , cost :  0.941557\n",
      "9216  Epoch 21, CIFAR-10 Batch 1:  valid_accuracy :  0.4372 , accuracy :  0.725 , cost :  0.907724\n",
      "9216  Epoch 22, CIFAR-10 Batch 1:  valid_accuracy :  0.43 , accuracy :  0.8 , cost :  0.910739\n",
      "9216  Epoch 23, CIFAR-10 Batch 1:  valid_accuracy :  0.439 , accuracy :  0.775 , cost :  0.85282\n",
      "9216  Epoch 24, CIFAR-10 Batch 1:  valid_accuracy :  0.4448 , accuracy :  0.85 , cost :  0.778376\n",
      "9216  Epoch 25, CIFAR-10 Batch 1:  valid_accuracy :  0.4322 , accuracy :  0.825 , cost :  0.753634\n",
      "9216  Epoch 26, CIFAR-10 Batch 1:  valid_accuracy :  0.439 , accuracy :  0.85 , cost :  0.694127\n",
      "9216  Epoch 27, CIFAR-10 Batch 1:  valid_accuracy :  0.447 , accuracy :  0.8 , cost :  0.662124\n",
      "9216  Epoch 28, CIFAR-10 Batch 1:  valid_accuracy :  0.4464 , accuracy :  0.8 , cost :  0.623443\n",
      "9216  Epoch 29, CIFAR-10 Batch 1:  valid_accuracy :  0.4488 , accuracy :  0.875 , cost :  0.615623\n",
      "9216  Epoch 30, CIFAR-10 Batch 1:  valid_accuracy :  0.4444 , accuracy :  0.875 , cost :  0.583131\n",
      "9216  Epoch 31, CIFAR-10 Batch 1:  valid_accuracy :  0.4524 , accuracy :  0.875 , cost :  0.562412\n",
      "9216  Epoch 32, CIFAR-10 Batch 1:  valid_accuracy :  0.4468 , accuracy :  0.825 , cost :  0.571597\n",
      "9216  Epoch 33, CIFAR-10 Batch 1:  valid_accuracy :  0.4482 , accuracy :  0.825 , cost :  0.574706\n",
      "9216  Epoch 34, CIFAR-10 Batch 1:  valid_accuracy :  0.437 , accuracy :  0.925 , cost :  0.468689\n",
      "9216  Epoch 35, CIFAR-10 Batch 1:  valid_accuracy :  0.4584 , accuracy :  0.925 , cost :  0.442253\n",
      "9216  Epoch 36, CIFAR-10 Batch 1:  valid_accuracy :  0.4564 , accuracy :  0.95 , cost :  0.469508\n",
      "9216  Epoch 37, CIFAR-10 Batch 1:  valid_accuracy :  0.4554 , accuracy :  0.9 , cost :  0.435145\n",
      "9216  Epoch 38, CIFAR-10 Batch 1:  valid_accuracy :  0.4578 , accuracy :  0.925 , cost :  0.462414\n",
      "9216  Epoch 39, CIFAR-10 Batch 1:  valid_accuracy :  0.4568 , accuracy :  0.875 , cost :  0.431211\n",
      "9216  Epoch 40, CIFAR-10 Batch 1:  valid_accuracy :  0.4578 , accuracy :  0.9 , cost :  0.426676\n",
      "9216  Epoch 41, CIFAR-10 Batch 1:  valid_accuracy :  0.4554 , accuracy :  0.9 , cost :  0.392085\n",
      "9216  Epoch 42, CIFAR-10 Batch 1:  valid_accuracy :  0.458 , accuracy :  0.925 , cost :  0.419812\n",
      "9216  Epoch 43, CIFAR-10 Batch 1:  valid_accuracy :  0.4618 , accuracy :  0.875 , cost :  0.377948\n",
      "9216  Epoch 44, CIFAR-10 Batch 1:  valid_accuracy :  0.4628 , accuracy :  0.9 , cost :  0.459717\n",
      "9216  Epoch 45, CIFAR-10 Batch 1:  valid_accuracy :  0.4604 , accuracy :  0.925 , cost :  0.369389\n",
      "9216  Epoch 46, CIFAR-10 Batch 1:  valid_accuracy :  0.4678 , accuracy :  0.95 , cost :  0.312467\n",
      "9216  Epoch 47, CIFAR-10 Batch 1:  valid_accuracy :  0.4804 , accuracy :  0.975 , cost :  0.286634\n",
      "9216  Epoch 48, CIFAR-10 Batch 1:  valid_accuracy :  0.4782 , accuracy :  0.925 , cost :  0.309653\n",
      "9216  Epoch 49, CIFAR-10 Batch 1:  valid_accuracy :  0.4714 , accuracy :  0.95 , cost :  0.275889\n",
      "9216  Epoch 50, CIFAR-10 Batch 1:  valid_accuracy :  0.4636 , accuracy :  0.95 , cost :  0.255613\n",
      "9216  Epoch 51, CIFAR-10 Batch 1:  valid_accuracy :  0.4764 , accuracy :  0.925 , cost :  0.249656\n",
      "9216  Epoch 52, CIFAR-10 Batch 1:  valid_accuracy :  0.4656 , accuracy :  0.975 , cost :  0.27726\n",
      "9216  Epoch 53, CIFAR-10 Batch 1:  valid_accuracy :  0.461 , accuracy :  0.925 , cost :  0.301406\n",
      "9216  Epoch 54, CIFAR-10 Batch 1:  valid_accuracy :  0.4604 , accuracy :  0.925 , cost :  0.313646\n",
      "9216  Epoch 55, CIFAR-10 Batch 1:  valid_accuracy :  0.4682 , accuracy :  0.95 , cost :  0.255336\n",
      "9216  Epoch 56, CIFAR-10 Batch 1:  valid_accuracy :  0.4678 , accuracy :  0.975 , cost :  0.254282\n",
      "9216  Epoch 57, CIFAR-10 Batch 1:  valid_accuracy :  0.4584 , accuracy :  0.925 , cost :  0.295403\n",
      "9216  Epoch 58, CIFAR-10 Batch 1:  valid_accuracy :  0.4604 , accuracy :  0.975 , cost :  0.335485\n",
      "9216  Epoch 59, CIFAR-10 Batch 1:  valid_accuracy :  0.471 , accuracy :  0.95 , cost :  0.277766\n",
      "9216  Epoch 60, CIFAR-10 Batch 1:  valid_accuracy :  0.4684 , accuracy :  0.975 , cost :  0.220339\n",
      "9216  Epoch 61, CIFAR-10 Batch 1:  valid_accuracy :  0.467 , accuracy :  0.95 , cost :  0.268078\n",
      "9216  Epoch 62, CIFAR-10 Batch 1:  valid_accuracy :  0.4764 , accuracy :  0.975 , cost :  0.22965\n",
      "9216  Epoch 63, CIFAR-10 Batch 1:  valid_accuracy :  0.481 , accuracy :  0.925 , cost :  0.229618\n",
      "9216  Epoch 64, CIFAR-10 Batch 1:  valid_accuracy :  0.4776 , accuracy :  0.975 , cost :  0.24128\n",
      "9216  Epoch 65, CIFAR-10 Batch 1:  valid_accuracy :  0.4714 , accuracy :  1.0 , cost :  0.200408\n",
      "9216  Epoch 66, CIFAR-10 Batch 1:  valid_accuracy :  0.4772 , accuracy :  0.975 , cost :  0.214825\n",
      "9216  Epoch 67, CIFAR-10 Batch 1:  valid_accuracy :  0.4704 , accuracy :  0.975 , cost :  0.223088\n",
      "9216  Epoch 68, CIFAR-10 Batch 1:  valid_accuracy :  0.4722 , accuracy :  0.975 , cost :  0.230201\n",
      "9216  Epoch 69, CIFAR-10 Batch 1:  valid_accuracy :  0.4578 , accuracy :  0.975 , cost :  0.27169\n",
      "9216  Epoch 70, CIFAR-10 Batch 1:  valid_accuracy :  0.4782 , accuracy :  0.95 , cost :  0.238392\n"
     ]
    }
   ],
   "source": [
    "\"\"\"\n",
    "DON'T MODIFY ANYTHING IN THIS CELL\n",
    "\"\"\"\n",
    "tf.reset_default_graph\n",
    "print('Checking the Training on a Single Batch...')\n",
    "with tf.Session() as sess:\n",
    "    # Initializing the variables\n",
    "    sess.run(tf.global_variables_initializer())\n",
    "    \n",
    "    # Training cycle\n",
    "    for epoch in range(epochs):\n",
    "        batch_id = 1\n",
    "        for batch_features, batch_labels in helper.load_preprocess_training_batch(batch_id, batch_size):\n",
    "            train_neural_network(sess, optimizer, keep_probability, batch_features, batch_labels)\n",
    "        print(total, ' Epoch {:>2}, CIFAR-10 Batch {}:  '.format(epoch + 1, batch_id), end='')\n",
    "        print_stats(sess, batch_features, batch_labels, cost, accuracy)"
   ]
  },
  {
   "cell_type": "markdown",
   "metadata": {},
   "source": [
    "### Fully Train the Model\n",
    "Now that you got a good accuracy with a single CIFAR-10 batch, try it with all five batches."
   ]
  },
  {
   "cell_type": "code",
   "execution_count": 88,
   "metadata": {
    "collapsed": false
   },
   "outputs": [
    {
     "name": "stdout",
     "output_type": "stream",
     "text": [
      "Training...\n",
      "Epoch  1, CIFAR-10 Batch 1:  valid_accuracy :  0.2468 , accuracy :  0.35 , cost :  2.70621\n",
      "Epoch  1, CIFAR-10 Batch 2:  valid_accuracy :  0.1874 , accuracy :  0.225 , cost :  2.48412\n",
      "Epoch  1, CIFAR-10 Batch 3:  valid_accuracy :  0.2388 , accuracy :  0.275 , cost :  2.02997\n",
      "Epoch  1, CIFAR-10 Batch 4:  valid_accuracy :  0.2496 , accuracy :  0.325 , cost :  1.92168\n",
      "Epoch  1, CIFAR-10 Batch 5:  valid_accuracy :  0.2608 , accuracy :  0.375 , cost :  2.04785\n",
      "Epoch  2, CIFAR-10 Batch 1:  valid_accuracy :  0.2796 , accuracy :  0.35 , cost :  2.09887\n",
      "Epoch  2, CIFAR-10 Batch 2:  valid_accuracy :  0.2962 , accuracy :  0.2 , cost :  2.06671\n",
      "Epoch  2, CIFAR-10 Batch 3:  valid_accuracy :  0.309 , accuracy :  0.375 , cost :  1.80824\n",
      "Epoch  2, CIFAR-10 Batch 4:  valid_accuracy :  0.3168 , accuracy :  0.35 , cost :  1.75273\n",
      "Epoch  2, CIFAR-10 Batch 5:  valid_accuracy :  0.3038 , accuracy :  0.4 , cost :  1.85117\n",
      "Epoch  3, CIFAR-10 Batch 1:  valid_accuracy :  0.3264 , accuracy :  0.25 , cost :  1.94639\n",
      "Epoch  3, CIFAR-10 Batch 2:  valid_accuracy :  0.3354 , accuracy :  0.45 , cost :  1.87697\n",
      "Epoch  3, CIFAR-10 Batch 3:  valid_accuracy :  0.3514 , accuracy :  0.35 , cost :  1.77185\n",
      "Epoch  3, CIFAR-10 Batch 4:  valid_accuracy :  0.358 , accuracy :  0.35 , cost :  1.66575\n",
      "Epoch  3, CIFAR-10 Batch 5:  valid_accuracy :  0.327 , accuracy :  0.325 , cost :  1.77468\n",
      "Epoch  4, CIFAR-10 Batch 1:  valid_accuracy :  0.3602 , accuracy :  0.375 , cost :  1.81242\n",
      "Epoch  4, CIFAR-10 Batch 2:  valid_accuracy :  0.38 , accuracy :  0.425 , cost :  1.68827\n",
      "Epoch  4, CIFAR-10 Batch 3:  valid_accuracy :  0.3834 , accuracy :  0.45 , cost :  1.54205\n",
      "Epoch  4, CIFAR-10 Batch 4:  valid_accuracy :  0.3914 , accuracy :  0.4 , cost :  1.56532\n",
      "Epoch  4, CIFAR-10 Batch 5:  valid_accuracy :  0.3944 , accuracy :  0.4 , cost :  1.64773\n",
      "Epoch  5, CIFAR-10 Batch 1:  valid_accuracy :  0.3786 , accuracy :  0.45 , cost :  1.68285\n",
      "Epoch  5, CIFAR-10 Batch 2:  valid_accuracy :  0.4084 , accuracy :  0.425 , cost :  1.5738\n",
      "Epoch  5, CIFAR-10 Batch 3:  valid_accuracy :  0.4002 , accuracy :  0.475 , cost :  1.46835\n",
      "Epoch  5, CIFAR-10 Batch 4:  valid_accuracy :  0.3884 , accuracy :  0.55 , cost :  1.48915\n",
      "Epoch  5, CIFAR-10 Batch 5:  valid_accuracy :  0.4 , accuracy :  0.375 , cost :  1.53316\n",
      "Epoch  6, CIFAR-10 Batch 1:  valid_accuracy :  0.3926 , accuracy :  0.475 , cost :  1.59168\n",
      "Epoch  6, CIFAR-10 Batch 2:  valid_accuracy :  0.4112 , accuracy :  0.45 , cost :  1.56261\n",
      "Epoch  6, CIFAR-10 Batch 3:  valid_accuracy :  0.4138 , accuracy :  0.475 , cost :  1.37526\n",
      "Epoch  6, CIFAR-10 Batch 4:  valid_accuracy :  0.4138 , accuracy :  0.575 , cost :  1.39728\n",
      "Epoch  6, CIFAR-10 Batch 5:  valid_accuracy :  0.4092 , accuracy :  0.45 , cost :  1.57203\n",
      "Epoch  7, CIFAR-10 Batch 1:  valid_accuracy :  0.4218 , accuracy :  0.45 , cost :  1.54547\n",
      "Epoch  7, CIFAR-10 Batch 2:  valid_accuracy :  0.3988 , accuracy :  0.55 , cost :  1.55982\n",
      "Epoch  7, CIFAR-10 Batch 3:  valid_accuracy :  0.4014 , accuracy :  0.475 , cost :  1.35813\n",
      "Epoch  7, CIFAR-10 Batch 4:  valid_accuracy :  0.431 , accuracy :  0.525 , cost :  1.3623\n",
      "Epoch  7, CIFAR-10 Batch 5:  valid_accuracy :  0.4192 , accuracy :  0.5 , cost :  1.44165\n",
      "Epoch  8, CIFAR-10 Batch 1:  valid_accuracy :  0.4178 , accuracy :  0.55 , cost :  1.53283\n",
      "Epoch  8, CIFAR-10 Batch 2:  valid_accuracy :  0.419 , accuracy :  0.6 , cost :  1.41621\n",
      "Epoch  8, CIFAR-10 Batch 3:  valid_accuracy :  0.4302 , accuracy :  0.625 , cost :  1.31308\n",
      "Epoch  8, CIFAR-10 Batch 4:  valid_accuracy :  0.4302 , accuracy :  0.625 , cost :  1.2634\n",
      "Epoch  8, CIFAR-10 Batch 5:  valid_accuracy :  0.3992 , accuracy :  0.475 , cost :  1.45688\n",
      "Epoch  9, CIFAR-10 Batch 1:  valid_accuracy :  0.4258 , accuracy :  0.4 , cost :  1.67131\n",
      "Epoch  9, CIFAR-10 Batch 2:  valid_accuracy :  0.4108 , accuracy :  0.625 , cost :  1.37004\n",
      "Epoch  9, CIFAR-10 Batch 3:  valid_accuracy :  0.4256 , accuracy :  0.725 , cost :  1.16831\n",
      "Epoch  9, CIFAR-10 Batch 4:  valid_accuracy :  0.4174 , accuracy :  0.5 , cost :  1.41337\n",
      "Epoch  9, CIFAR-10 Batch 5:  valid_accuracy :  0.4216 , accuracy :  0.45 , cost :  1.38934\n",
      "Epoch 10, CIFAR-10 Batch 1:  valid_accuracy :  0.4356 , accuracy :  0.55 , cost :  1.4523\n",
      "Epoch 10, CIFAR-10 Batch 2:  valid_accuracy :  0.4328 , accuracy :  0.6 , cost :  1.29382\n",
      "Epoch 10, CIFAR-10 Batch 3:  valid_accuracy :  0.444 , accuracy :  0.7 , cost :  1.1602\n",
      "Epoch 10, CIFAR-10 Batch 4:  valid_accuracy :  0.4682 , accuracy :  0.6 , cost :  1.34077\n",
      "Epoch 10, CIFAR-10 Batch 5:  valid_accuracy :  0.45 , accuracy :  0.525 , cost :  1.37375\n",
      "Epoch 11, CIFAR-10 Batch 1:  valid_accuracy :  0.4476 , accuracy :  0.65 , cost :  1.32315\n",
      "Epoch 11, CIFAR-10 Batch 2:  valid_accuracy :  0.4174 , accuracy :  0.575 , cost :  1.39224\n",
      "Epoch 11, CIFAR-10 Batch 3:  valid_accuracy :  0.4348 , accuracy :  0.625 , cost :  1.28233\n",
      "Epoch 11, CIFAR-10 Batch 4:  valid_accuracy :  0.4316 , accuracy :  0.575 , cost :  1.28946\n",
      "Epoch 11, CIFAR-10 Batch 5:  valid_accuracy :  0.4566 , accuracy :  0.6 , cost :  1.38058\n",
      "Epoch 12, CIFAR-10 Batch 1:  valid_accuracy :  0.4598 , accuracy :  0.6 , cost :  1.38809\n",
      "Epoch 12, CIFAR-10 Batch 2:  valid_accuracy :  0.4478 , accuracy :  0.625 , cost :  1.30287\n",
      "Epoch 12, CIFAR-10 Batch 3:  valid_accuracy :  0.4648 , accuracy :  0.575 , cost :  1.17859\n",
      "Epoch 12, CIFAR-10 Batch 4:  valid_accuracy :  0.4408 , accuracy :  0.625 , cost :  1.30754\n",
      "Epoch 12, CIFAR-10 Batch 5:  valid_accuracy :  0.449 , accuracy :  0.5 , cost :  1.44236\n",
      "Epoch 13, CIFAR-10 Batch 1:  valid_accuracy :  0.461 , accuracy :  0.475 , cost :  1.32238\n",
      "Epoch 13, CIFAR-10 Batch 2:  valid_accuracy :  0.4496 , accuracy :  0.675 , cost :  1.25636\n",
      "Epoch 13, CIFAR-10 Batch 3:  valid_accuracy :  0.4606 , accuracy :  0.6 , cost :  1.10376\n",
      "Epoch 13, CIFAR-10 Batch 4:  valid_accuracy :  0.4618 , accuracy :  0.575 , cost :  1.23387\n",
      "Epoch 13, CIFAR-10 Batch 5:  valid_accuracy :  0.4648 , accuracy :  0.525 , cost :  1.40307\n",
      "Epoch 14, CIFAR-10 Batch 1:  valid_accuracy :  0.4662 , accuracy :  0.475 , cost :  1.24095\n",
      "Epoch 14, CIFAR-10 Batch 2:  valid_accuracy :  0.4478 , accuracy :  0.625 , cost :  1.15832\n",
      "Epoch 14, CIFAR-10 Batch 3:  valid_accuracy :  0.2682 , accuracy :  0.325 , cost :  3.58781\n",
      "Epoch 14, CIFAR-10 Batch 4:  valid_accuracy :  0.4666 , accuracy :  0.65 , cost :  1.17853\n",
      "Epoch 14, CIFAR-10 Batch 5:  valid_accuracy :  0.4696 , accuracy :  0.6 , cost :  1.34534\n",
      "Epoch 15, CIFAR-10 Batch 1:  valid_accuracy :  0.4682 , accuracy :  0.55 , cost :  1.17168\n",
      "Epoch 15, CIFAR-10 Batch 2:  valid_accuracy :  0.4718 , accuracy :  0.65 , cost :  1.11863\n",
      "Epoch 15, CIFAR-10 Batch 3:  valid_accuracy :  0.4766 , accuracy :  0.7 , cost :  1.03998\n",
      "Epoch 15, CIFAR-10 Batch 4:  valid_accuracy :  0.4752 , accuracy :  0.65 , cost :  1.09204\n",
      "Epoch 15, CIFAR-10 Batch 5:  valid_accuracy :  0.475 , accuracy :  0.65 , cost :  1.23307\n",
      "Epoch 16, CIFAR-10 Batch 1:  valid_accuracy :  0.4812 , accuracy :  0.65 , cost :  1.17115\n",
      "Epoch 16, CIFAR-10 Batch 2:  valid_accuracy :  0.4774 , accuracy :  0.625 , cost :  1.14709\n",
      "Epoch 16, CIFAR-10 Batch 3:  valid_accuracy :  0.472 , accuracy :  0.65 , cost :  0.946487\n",
      "Epoch 16, CIFAR-10 Batch 4:  valid_accuracy :  0.4836 , accuracy :  0.725 , cost :  1.00317\n",
      "Epoch 16, CIFAR-10 Batch 5:  valid_accuracy :  0.4994 , accuracy :  0.6 , cost :  1.21745\n",
      "Epoch 17, CIFAR-10 Batch 1:  valid_accuracy :  0.4972 , accuracy :  0.6 , cost :  1.17873\n",
      "Epoch 17, CIFAR-10 Batch 2:  valid_accuracy :  0.488 , accuracy :  0.675 , cost :  1.01359\n",
      "Epoch 17, CIFAR-10 Batch 3:  valid_accuracy :  0.4878 , accuracy :  0.65 , cost :  0.870131\n",
      "Epoch 17, CIFAR-10 Batch 4:  valid_accuracy :  0.4874 , accuracy :  0.725 , cost :  1.01126\n",
      "Epoch 17, CIFAR-10 Batch 5:  valid_accuracy :  0.4934 , accuracy :  0.625 , cost :  1.18498\n",
      "Epoch 18, CIFAR-10 Batch 1:  valid_accuracy :  0.4914 , accuracy :  0.6 , cost :  1.13401\n",
      "Epoch 18, CIFAR-10 Batch 2:  valid_accuracy :  0.4886 , accuracy :  0.7 , cost :  1.0137\n",
      "Epoch 18, CIFAR-10 Batch 3:  valid_accuracy :  0.4792 , accuracy :  0.7 , cost :  0.843831\n",
      "Epoch 18, CIFAR-10 Batch 4:  valid_accuracy :  0.5076 , accuracy :  0.775 , cost :  0.910047\n",
      "Epoch 18, CIFAR-10 Batch 5:  valid_accuracy :  0.498 , accuracy :  0.725 , cost :  1.09225\n",
      "Epoch 19, CIFAR-10 Batch 1:  valid_accuracy :  0.506 , accuracy :  0.7 , cost :  1.03306\n",
      "Epoch 19, CIFAR-10 Batch 2:  valid_accuracy :  0.484 , accuracy :  0.65 , cost :  1.00509\n",
      "Epoch 19, CIFAR-10 Batch 3:  valid_accuracy :  0.4932 , accuracy :  0.7 , cost :  0.938128\n",
      "Epoch 19, CIFAR-10 Batch 4:  valid_accuracy :  0.5046 , accuracy :  0.7 , cost :  0.947177\n",
      "Epoch 19, CIFAR-10 Batch 5:  valid_accuracy :  0.5052 , accuracy :  0.675 , cost :  1.09001\n",
      "Epoch 20, CIFAR-10 Batch 1:  valid_accuracy :  0.5036 , accuracy :  0.65 , cost :  1.07944\n",
      "Epoch 20, CIFAR-10 Batch 2:  valid_accuracy :  0.4992 , accuracy :  0.7 , cost :  0.907289\n",
      "Epoch 20, CIFAR-10 Batch 3:  valid_accuracy :  0.5076 , accuracy :  0.75 , cost :  0.824903\n",
      "Epoch 20, CIFAR-10 Batch 4:  valid_accuracy :  0.5102 , accuracy :  0.7 , cost :  0.964235\n",
      "Epoch 20, CIFAR-10 Batch 5:  valid_accuracy :  0.519 , accuracy :  0.8 , cost :  0.978802\n",
      "Epoch 21, CIFAR-10 Batch 1:  valid_accuracy :  0.5112 , accuracy :  0.625 , cost :  1.04264\n",
      "Epoch 21, CIFAR-10 Batch 2:  valid_accuracy :  0.4976 , accuracy :  0.725 , cost :  0.807976\n",
      "Epoch 21, CIFAR-10 Batch 3:  valid_accuracy :  0.511 , accuracy :  0.725 , cost :  0.760562\n",
      "Epoch 21, CIFAR-10 Batch 4:  valid_accuracy :  0.5216 , accuracy :  0.725 , cost :  0.860375\n",
      "Epoch 21, CIFAR-10 Batch 5:  valid_accuracy :  0.5028 , accuracy :  0.725 , cost :  1.08635\n",
      "Epoch 22, CIFAR-10 Batch 1:  valid_accuracy :  0.5084 , accuracy :  0.675 , cost :  1.04168\n",
      "Epoch 22, CIFAR-10 Batch 2:  valid_accuracy :  0.5192 , accuracy :  0.725 , cost :  0.868044\n",
      "Epoch 22, CIFAR-10 Batch 3:  valid_accuracy :  0.4994 , accuracy :  0.775 , cost :  0.77336\n",
      "Epoch 22, CIFAR-10 Batch 4:  valid_accuracy :  0.5186 , accuracy :  0.675 , cost :  0.891498\n",
      "Epoch 22, CIFAR-10 Batch 5:  valid_accuracy :  0.5108 , accuracy :  0.7 , cost :  0.943642\n",
      "Epoch 23, CIFAR-10 Batch 1:  valid_accuracy :  0.5164 , accuracy :  0.6 , cost :  1.01724\n",
      "Epoch 23, CIFAR-10 Batch 2:  valid_accuracy :  0.5054 , accuracy :  0.75 , cost :  0.846018\n",
      "Epoch 23, CIFAR-10 Batch 3:  valid_accuracy :  0.5128 , accuracy :  0.75 , cost :  0.7357\n",
      "Epoch 23, CIFAR-10 Batch 4:  valid_accuracy :  0.5156 , accuracy :  0.7 , cost :  0.914203\n",
      "Epoch 23, CIFAR-10 Batch 5:  valid_accuracy :  0.524 , accuracy :  0.725 , cost :  0.967976\n",
      "Epoch 24, CIFAR-10 Batch 1:  valid_accuracy :  0.5218 , accuracy :  0.7 , cost :  0.909573\n",
      "Epoch 24, CIFAR-10 Batch 2:  valid_accuracy :  0.5096 , accuracy :  0.725 , cost :  0.734349\n",
      "Epoch 24, CIFAR-10 Batch 3:  valid_accuracy :  0.5114 , accuracy :  0.75 , cost :  0.722055\n",
      "Epoch 24, CIFAR-10 Batch 4:  valid_accuracy :  0.5272 , accuracy :  0.75 , cost :  0.90715\n",
      "Epoch 24, CIFAR-10 Batch 5:  valid_accuracy :  0.5348 , accuracy :  0.725 , cost :  0.886446\n",
      "Epoch 25, CIFAR-10 Batch 1:  valid_accuracy :  0.5168 , accuracy :  0.75 , cost :  0.92036\n",
      "Epoch 25, CIFAR-10 Batch 2:  valid_accuracy :  0.5232 , accuracy :  0.75 , cost :  0.714835\n",
      "Epoch 25, CIFAR-10 Batch 3:  valid_accuracy :  0.524 , accuracy :  0.825 , cost :  0.59154\n",
      "Epoch 25, CIFAR-10 Batch 4:  valid_accuracy :  0.5268 , accuracy :  0.725 , cost :  0.80025\n",
      "Epoch 25, CIFAR-10 Batch 5:  valid_accuracy :  0.5282 , accuracy :  0.75 , cost :  0.889553\n",
      "Epoch 26, CIFAR-10 Batch 1:  valid_accuracy :  0.5328 , accuracy :  0.7 , cost :  0.861977\n",
      "Epoch 26, CIFAR-10 Batch 2:  valid_accuracy :  0.5278 , accuracy :  0.8 , cost :  0.695138\n",
      "Epoch 26, CIFAR-10 Batch 3:  valid_accuracy :  0.5288 , accuracy :  0.775 , cost :  0.633592\n",
      "Epoch 26, CIFAR-10 Batch 4:  valid_accuracy :  0.537 , accuracy :  0.65 , cost :  0.772754\n",
      "Epoch 26, CIFAR-10 Batch 5:  valid_accuracy :  0.5378 , accuracy :  0.8 , cost :  0.771148\n",
      "Epoch 27, CIFAR-10 Batch 1:  valid_accuracy :  0.537 , accuracy :  0.7 , cost :  0.878861\n",
      "Epoch 27, CIFAR-10 Batch 2:  valid_accuracy :  0.528 , accuracy :  0.825 , cost :  0.583711\n",
      "Epoch 27, CIFAR-10 Batch 3:  valid_accuracy :  0.5372 , accuracy :  0.8 , cost :  0.586933\n",
      "Epoch 27, CIFAR-10 Batch 4:  valid_accuracy :  0.5324 , accuracy :  0.775 , cost :  0.768141\n",
      "Epoch 27, CIFAR-10 Batch 5:  valid_accuracy :  0.542 , accuracy :  0.75 , cost :  0.786623\n",
      "Epoch 28, CIFAR-10 Batch 1:  valid_accuracy :  0.5462 , accuracy :  0.725 , cost :  0.780425\n",
      "Epoch 28, CIFAR-10 Batch 2:  valid_accuracy :  0.5268 , accuracy :  0.775 , cost :  0.678396\n",
      "Epoch 28, CIFAR-10 Batch 3:  valid_accuracy :  0.5452 , accuracy :  0.8 , cost :  0.541866\n",
      "Epoch 28, CIFAR-10 Batch 4:  valid_accuracy :  0.547 , accuracy :  0.775 , cost :  0.740847\n",
      "Epoch 28, CIFAR-10 Batch 5:  valid_accuracy :  0.5412 , accuracy :  0.775 , cost :  0.752734\n",
      "Epoch 29, CIFAR-10 Batch 1:  valid_accuracy :  0.5418 , accuracy :  0.7 , cost :  0.753239\n",
      "Epoch 29, CIFAR-10 Batch 2:  valid_accuracy :  0.5412 , accuracy :  0.85 , cost :  0.55768\n",
      "Epoch 29, CIFAR-10 Batch 3:  valid_accuracy :  0.528 , accuracy :  0.825 , cost :  0.50769\n",
      "Epoch 29, CIFAR-10 Batch 4:  valid_accuracy :  0.5422 , accuracy :  0.8 , cost :  0.738264\n",
      "Epoch 29, CIFAR-10 Batch 5:  valid_accuracy :  0.543 , accuracy :  0.825 , cost :  0.686685\n",
      "Epoch 30, CIFAR-10 Batch 1:  valid_accuracy :  0.5468 , accuracy :  0.8 , cost :  0.742597\n",
      "Epoch 30, CIFAR-10 Batch 2:  valid_accuracy :  0.543 , accuracy :  0.775 , cost :  0.568219\n",
      "Epoch 30, CIFAR-10 Batch 3:  valid_accuracy :  0.5352 , accuracy :  0.825 , cost :  0.555171\n",
      "Epoch 30, CIFAR-10 Batch 4:  valid_accuracy :  0.5422 , accuracy :  0.75 , cost :  0.796289\n",
      "Epoch 30, CIFAR-10 Batch 5:  valid_accuracy :  0.5562 , accuracy :  0.875 , cost :  0.68844\n",
      "Epoch 31, CIFAR-10 Batch 1:  valid_accuracy :  0.5512 , accuracy :  0.775 , cost :  0.721148\n",
      "Epoch 31, CIFAR-10 Batch 2:  valid_accuracy :  0.5498 , accuracy :  0.875 , cost :  0.524533\n",
      "Epoch 31, CIFAR-10 Batch 3:  valid_accuracy :  0.5476 , accuracy :  0.825 , cost :  0.511067\n",
      "Epoch 31, CIFAR-10 Batch 4:  valid_accuracy :  0.5496 , accuracy :  0.8 , cost :  0.720017\n",
      "Epoch 31, CIFAR-10 Batch 5:  valid_accuracy :  0.5466 , accuracy :  0.8 , cost :  0.678818\n",
      "Epoch 32, CIFAR-10 Batch 1:  valid_accuracy :  0.5536 , accuracy :  0.725 , cost :  0.7565\n",
      "Epoch 32, CIFAR-10 Batch 2:  valid_accuracy :  0.5422 , accuracy :  0.8 , cost :  0.50937\n",
      "Epoch 32, CIFAR-10 Batch 3:  valid_accuracy :  0.5576 , accuracy :  0.85 , cost :  0.470656\n",
      "Epoch 32, CIFAR-10 Batch 4:  valid_accuracy :  0.5546 , accuracy :  0.8 , cost :  0.679423\n",
      "Epoch 32, CIFAR-10 Batch 5:  valid_accuracy :  0.557 , accuracy :  0.875 , cost :  0.614554\n",
      "Epoch 33, CIFAR-10 Batch 1:  valid_accuracy :  0.5526 , accuracy :  0.775 , cost :  0.705918\n",
      "Epoch 33, CIFAR-10 Batch 2:  valid_accuracy :  0.5628 , accuracy :  0.9 , cost :  0.480017\n",
      "Epoch 33, CIFAR-10 Batch 3:  valid_accuracy :  0.5418 , accuracy :  0.825 , cost :  0.489652\n",
      "Epoch 33, CIFAR-10 Batch 4:  valid_accuracy :  0.5544 , accuracy :  0.8 , cost :  0.680827\n",
      "Epoch 33, CIFAR-10 Batch 5:  valid_accuracy :  0.5528 , accuracy :  0.9 , cost :  0.516683\n",
      "Epoch 34, CIFAR-10 Batch 1:  valid_accuracy :  0.5556 , accuracy :  0.775 , cost :  0.659916\n",
      "Epoch 34, CIFAR-10 Batch 2:  valid_accuracy :  0.5484 , accuracy :  0.8 , cost :  0.465443\n",
      "Epoch 34, CIFAR-10 Batch 3:  valid_accuracy :  0.5598 , accuracy :  0.925 , cost :  0.469956\n",
      "Epoch 34, CIFAR-10 Batch 4:  valid_accuracy :  0.551 , accuracy :  0.9 , cost :  0.600025\n",
      "Epoch 34, CIFAR-10 Batch 5:  valid_accuracy :  0.5632 , accuracy :  0.85 , cost :  0.615977\n",
      "Epoch 35, CIFAR-10 Batch 1:  valid_accuracy :  0.556 , accuracy :  0.8 , cost :  0.668705\n",
      "Epoch 35, CIFAR-10 Batch 2:  valid_accuracy :  0.5554 , accuracy :  0.825 , cost :  0.442395\n",
      "Epoch 35, CIFAR-10 Batch 3:  valid_accuracy :  0.5466 , accuracy :  0.875 , cost :  0.442698\n",
      "Epoch 35, CIFAR-10 Batch 4:  valid_accuracy :  0.556 , accuracy :  0.875 , cost :  0.5411\n",
      "Epoch 35, CIFAR-10 Batch 5:  valid_accuracy :  0.564 , accuracy :  0.975 , cost :  0.534098\n",
      "Epoch 36, CIFAR-10 Batch 1:  valid_accuracy :  0.558 , accuracy :  0.75 , cost :  0.635228\n",
      "Epoch 36, CIFAR-10 Batch 2:  valid_accuracy :  0.551 , accuracy :  0.9 , cost :  0.393191\n",
      "Epoch 36, CIFAR-10 Batch 3:  valid_accuracy :  0.5552 , accuracy :  0.875 , cost :  0.440222\n",
      "Epoch 36, CIFAR-10 Batch 4:  valid_accuracy :  0.5588 , accuracy :  0.9 , cost :  0.517189\n",
      "Epoch 36, CIFAR-10 Batch 5:  valid_accuracy :  0.5544 , accuracy :  0.95 , cost :  0.53152\n",
      "Epoch 37, CIFAR-10 Batch 1:  valid_accuracy :  0.565 , accuracy :  0.85 , cost :  0.606406\n",
      "Epoch 37, CIFAR-10 Batch 2:  valid_accuracy :  0.5558 , accuracy :  0.925 , cost :  0.375859\n",
      "Epoch 37, CIFAR-10 Batch 3:  valid_accuracy :  0.5534 , accuracy :  0.9 , cost :  0.439425\n",
      "Epoch 37, CIFAR-10 Batch 4:  valid_accuracy :  0.5644 , accuracy :  0.875 , cost :  0.541636\n",
      "Epoch 37, CIFAR-10 Batch 5:  valid_accuracy :  0.5724 , accuracy :  0.975 , cost :  0.445249\n",
      "Epoch 38, CIFAR-10 Batch 1:  valid_accuracy :  0.5608 , accuracy :  0.775 , cost :  0.605375\n",
      "Epoch 38, CIFAR-10 Batch 2:  valid_accuracy :  0.5632 , accuracy :  0.925 , cost :  0.372438\n",
      "Epoch 38, CIFAR-10 Batch 3:  valid_accuracy :  0.5536 , accuracy :  0.925 , cost :  0.384887\n",
      "Epoch 38, CIFAR-10 Batch 4:  valid_accuracy :  0.5648 , accuracy :  0.925 , cost :  0.453913\n",
      "Epoch 38, CIFAR-10 Batch 5:  valid_accuracy :  0.5596 , accuracy :  0.975 , cost :  0.463764\n",
      "Epoch 39, CIFAR-10 Batch 1:  valid_accuracy :  0.5602 , accuracy :  0.8 , cost :  0.562345\n",
      "Epoch 39, CIFAR-10 Batch 2:  valid_accuracy :  0.5472 , accuracy :  0.925 , cost :  0.371158\n",
      "Epoch 39, CIFAR-10 Batch 3:  valid_accuracy :  0.5646 , accuracy :  0.95 , cost :  0.329518\n",
      "Epoch 39, CIFAR-10 Batch 4:  valid_accuracy :  0.5702 , accuracy :  0.925 , cost :  0.423318\n",
      "Epoch 39, CIFAR-10 Batch 5:  valid_accuracy :  0.5704 , accuracy :  0.975 , cost :  0.372914\n",
      "Epoch 40, CIFAR-10 Batch 1:  valid_accuracy :  0.561 , accuracy :  0.8 , cost :  0.588548\n",
      "Epoch 40, CIFAR-10 Batch 2:  valid_accuracy :  0.5354 , accuracy :  0.85 , cost :  0.362507\n",
      "Epoch 40, CIFAR-10 Batch 3:  valid_accuracy :  0.5538 , accuracy :  0.95 , cost :  0.319054\n",
      "Epoch 40, CIFAR-10 Batch 4:  valid_accuracy :  0.5706 , accuracy :  0.9 , cost :  0.431339\n",
      "Epoch 40, CIFAR-10 Batch 5:  valid_accuracy :  0.5672 , accuracy :  0.975 , cost :  0.38691\n",
      "Epoch 41, CIFAR-10 Batch 1:  valid_accuracy :  0.563 , accuracy :  0.8 , cost :  0.520155\n",
      "Epoch 41, CIFAR-10 Batch 2:  valid_accuracy :  0.5456 , accuracy :  0.85 , cost :  0.378607\n",
      "Epoch 41, CIFAR-10 Batch 3:  valid_accuracy :  0.5656 , accuracy :  0.925 , cost :  0.287849\n",
      "Epoch 41, CIFAR-10 Batch 4:  valid_accuracy :  0.5694 , accuracy :  0.9 , cost :  0.419277\n",
      "Epoch 41, CIFAR-10 Batch 5:  valid_accuracy :  0.5642 , accuracy :  0.975 , cost :  0.382574\n",
      "Epoch 42, CIFAR-10 Batch 1:  valid_accuracy :  0.5584 , accuracy :  0.825 , cost :  0.553989\n",
      "Epoch 42, CIFAR-10 Batch 2:  valid_accuracy :  0.5458 , accuracy :  0.875 , cost :  0.334478\n",
      "Epoch 42, CIFAR-10 Batch 3:  valid_accuracy :  0.5596 , accuracy :  0.975 , cost :  0.250508\n",
      "Epoch 42, CIFAR-10 Batch 4:  valid_accuracy :  0.5674 , accuracy :  1.0 , cost :  0.3396\n",
      "Epoch 42, CIFAR-10 Batch 5:  valid_accuracy :  0.5578 , accuracy :  0.975 , cost :  0.361787\n",
      "Epoch 43, CIFAR-10 Batch 1:  valid_accuracy :  0.5582 , accuracy :  0.825 , cost :  0.510699\n",
      "Epoch 43, CIFAR-10 Batch 2:  valid_accuracy :  0.5446 , accuracy :  0.875 , cost :  0.324894\n",
      "Epoch 43, CIFAR-10 Batch 3:  valid_accuracy :  0.572 , accuracy :  0.9 , cost :  0.277943\n",
      "Epoch 43, CIFAR-10 Batch 4:  valid_accuracy :  0.5656 , accuracy :  0.95 , cost :  0.338906\n",
      "Epoch 43, CIFAR-10 Batch 5:  valid_accuracy :  0.5636 , accuracy :  0.975 , cost :  0.336616\n",
      "Epoch 44, CIFAR-10 Batch 1:  valid_accuracy :  0.5652 , accuracy :  0.825 , cost :  0.493151\n",
      "Epoch 44, CIFAR-10 Batch 2:  valid_accuracy :  0.549 , accuracy :  0.9 , cost :  0.294091\n",
      "Epoch 44, CIFAR-10 Batch 3:  valid_accuracy :  0.5694 , accuracy :  0.95 , cost :  0.30778\n",
      "Epoch 44, CIFAR-10 Batch 4:  valid_accuracy :  0.552 , accuracy :  1.0 , cost :  0.286693\n",
      "Epoch 44, CIFAR-10 Batch 5:  valid_accuracy :  0.5714 , accuracy :  0.975 , cost :  0.318047\n",
      "Epoch 45, CIFAR-10 Batch 1:  valid_accuracy :  0.5614 , accuracy :  0.9 , cost :  0.431163\n",
      "Epoch 45, CIFAR-10 Batch 2:  valid_accuracy :  0.5454 , accuracy :  0.875 , cost :  0.280723\n",
      "Epoch 45, CIFAR-10 Batch 3:  valid_accuracy :  0.569 , accuracy :  0.95 , cost :  0.235383\n",
      "Epoch 45, CIFAR-10 Batch 4:  valid_accuracy :  0.5674 , accuracy :  0.975 , cost :  0.284744\n",
      "Epoch 45, CIFAR-10 Batch 5:  valid_accuracy :  0.575 , accuracy :  0.95 , cost :  0.307096\n",
      "Epoch 46, CIFAR-10 Batch 1:  valid_accuracy :  0.5664 , accuracy :  0.875 , cost :  0.398383\n",
      "Epoch 46, CIFAR-10 Batch 2:  valid_accuracy :  0.5464 , accuracy :  0.875 , cost :  0.283474\n",
      "Epoch 46, CIFAR-10 Batch 3:  valid_accuracy :  0.5692 , accuracy :  0.975 , cost :  0.225105\n",
      "Epoch 46, CIFAR-10 Batch 4:  valid_accuracy :  0.5594 , accuracy :  1.0 , cost :  0.254337\n",
      "Epoch 46, CIFAR-10 Batch 5:  valid_accuracy :  0.5654 , accuracy :  0.975 , cost :  0.275638\n",
      "Epoch 47, CIFAR-10 Batch 1:  valid_accuracy :  0.5598 , accuracy :  0.8 , cost :  0.406187\n",
      "Epoch 47, CIFAR-10 Batch 2:  valid_accuracy :  0.5422 , accuracy :  0.925 , cost :  0.244011\n",
      "Epoch 47, CIFAR-10 Batch 3:  valid_accuracy :  0.5696 , accuracy :  1.0 , cost :  0.192173\n",
      "Epoch 47, CIFAR-10 Batch 4:  valid_accuracy :  0.5486 , accuracy :  0.975 , cost :  0.27327\n",
      "Epoch 47, CIFAR-10 Batch 5:  valid_accuracy :  0.5678 , accuracy :  0.95 , cost :  0.274782\n",
      "Epoch 48, CIFAR-10 Batch 1:  valid_accuracy :  0.5536 , accuracy :  0.925 , cost :  0.353517\n",
      "Epoch 48, CIFAR-10 Batch 2:  valid_accuracy :  0.5548 , accuracy :  0.925 , cost :  0.241859\n",
      "Epoch 48, CIFAR-10 Batch 3:  valid_accuracy :  0.5644 , accuracy :  0.975 , cost :  0.19524\n",
      "Epoch 48, CIFAR-10 Batch 4:  valid_accuracy :  0.5674 , accuracy :  0.975 , cost :  0.197382\n",
      "Epoch 48, CIFAR-10 Batch 5:  valid_accuracy :  0.5696 , accuracy :  1.0 , cost :  0.214778\n",
      "Epoch 49, CIFAR-10 Batch 1:  valid_accuracy :  0.5508 , accuracy :  0.925 , cost :  0.329858\n",
      "Epoch 49, CIFAR-10 Batch 2:  valid_accuracy :  0.5592 , accuracy :  0.925 , cost :  0.219648\n",
      "Epoch 49, CIFAR-10 Batch 3:  valid_accuracy :  0.571 , accuracy :  0.975 , cost :  0.168205\n",
      "Epoch 49, CIFAR-10 Batch 4:  valid_accuracy :  0.559 , accuracy :  0.975 , cost :  0.20101\n",
      "Epoch 49, CIFAR-10 Batch 5:  valid_accuracy :  0.5778 , accuracy :  0.975 , cost :  0.207776\n",
      "Epoch 50, CIFAR-10 Batch 1:  valid_accuracy :  0.5574 , accuracy :  0.9 , cost :  0.331396\n",
      "Epoch 50, CIFAR-10 Batch 2:  valid_accuracy :  0.5566 , accuracy :  0.925 , cost :  0.258859\n",
      "Epoch 50, CIFAR-10 Batch 3:  valid_accuracy :  0.5722 , accuracy :  0.975 , cost :  0.152579\n",
      "Epoch 50, CIFAR-10 Batch 4:  valid_accuracy :  0.563 , accuracy :  0.975 , cost :  0.201737\n",
      "Epoch 50, CIFAR-10 Batch 5:  valid_accuracy :  0.569 , accuracy :  0.975 , cost :  0.190308\n",
      "Epoch 51, CIFAR-10 Batch 1:  valid_accuracy :  0.57 , accuracy :  0.95 , cost :  0.288777\n",
      "Epoch 51, CIFAR-10 Batch 2:  valid_accuracy :  0.5576 , accuracy :  0.925 , cost :  0.281712\n",
      "Epoch 51, CIFAR-10 Batch 3:  valid_accuracy :  0.5628 , accuracy :  0.95 , cost :  0.177472\n",
      "Epoch 51, CIFAR-10 Batch 4:  valid_accuracy :  0.5696 , accuracy :  1.0 , cost :  0.164866\n",
      "Epoch 51, CIFAR-10 Batch 5:  valid_accuracy :  0.572 , accuracy :  0.975 , cost :  0.18814\n",
      "Epoch 52, CIFAR-10 Batch 1:  valid_accuracy :  0.5408 , accuracy :  0.875 , cost :  0.31972\n",
      "Epoch 52, CIFAR-10 Batch 2:  valid_accuracy :  0.5596 , accuracy :  0.95 , cost :  0.2181\n",
      "Epoch 52, CIFAR-10 Batch 3:  valid_accuracy :  0.5658 , accuracy :  0.95 , cost :  0.187957\n",
      "Epoch 52, CIFAR-10 Batch 4:  valid_accuracy :  0.5686 , accuracy :  0.975 , cost :  0.149134\n",
      "Epoch 52, CIFAR-10 Batch 5:  valid_accuracy :  0.5692 , accuracy :  0.975 , cost :  0.160905\n",
      "Epoch 53, CIFAR-10 Batch 1:  valid_accuracy :  0.5596 , accuracy :  0.875 , cost :  0.290376\n",
      "Epoch 53, CIFAR-10 Batch 2:  valid_accuracy :  0.5718 , accuracy :  0.95 , cost :  0.190952\n",
      "Epoch 53, CIFAR-10 Batch 3:  valid_accuracy :  0.5682 , accuracy :  0.975 , cost :  0.132633\n",
      "Epoch 53, CIFAR-10 Batch 4:  valid_accuracy :  0.575 , accuracy :  1.0 , cost :  0.162447\n",
      "Epoch 53, CIFAR-10 Batch 5:  valid_accuracy :  0.5696 , accuracy :  0.975 , cost :  0.160953\n",
      "Epoch 54, CIFAR-10 Batch 1:  valid_accuracy :  0.5732 , accuracy :  0.975 , cost :  0.258453\n",
      "Epoch 54, CIFAR-10 Batch 2:  valid_accuracy :  0.5642 , accuracy :  0.95 , cost :  0.165199\n",
      "Epoch 54, CIFAR-10 Batch 3:  valid_accuracy :  0.559 , accuracy :  0.95 , cost :  0.198245\n",
      "Epoch 54, CIFAR-10 Batch 4:  valid_accuracy :  0.5668 , accuracy :  1.0 , cost :  0.125813\n",
      "Epoch 54, CIFAR-10 Batch 5:  valid_accuracy :  0.5666 , accuracy :  0.975 , cost :  0.148073\n",
      "Epoch 55, CIFAR-10 Batch 1:  valid_accuracy :  0.5718 , accuracy :  0.875 , cost :  0.236824\n",
      "Epoch 55, CIFAR-10 Batch 2:  valid_accuracy :  0.5632 , accuracy :  1.0 , cost :  0.147524\n",
      "Epoch 55, CIFAR-10 Batch 3:  valid_accuracy :  0.5622 , accuracy :  1.0 , cost :  0.120905\n",
      "Epoch 55, CIFAR-10 Batch 4:  valid_accuracy :  0.5708 , accuracy :  1.0 , cost :  0.134043\n",
      "Epoch 55, CIFAR-10 Batch 5:  valid_accuracy :  0.58 , accuracy :  0.975 , cost :  0.133316\n",
      "Epoch 56, CIFAR-10 Batch 1:  valid_accuracy :  0.5682 , accuracy :  0.925 , cost :  0.2491\n",
      "Epoch 56, CIFAR-10 Batch 2:  valid_accuracy :  0.575 , accuracy :  0.975 , cost :  0.148354\n",
      "Epoch 56, CIFAR-10 Batch 3:  valid_accuracy :  0.5602 , accuracy :  1.0 , cost :  0.144358\n",
      "Epoch 56, CIFAR-10 Batch 4:  valid_accuracy :  0.559 , accuracy :  1.0 , cost :  0.134112\n",
      "Epoch 56, CIFAR-10 Batch 5:  valid_accuracy :  0.571 , accuracy :  0.975 , cost :  0.121711\n",
      "Epoch 57, CIFAR-10 Batch 1:  valid_accuracy :  0.5664 , accuracy :  0.925 , cost :  0.214952\n",
      "Epoch 57, CIFAR-10 Batch 2:  valid_accuracy :  0.5748 , accuracy :  0.95 , cost :  0.127597\n",
      "Epoch 57, CIFAR-10 Batch 3:  valid_accuracy :  0.5702 , accuracy :  1.0 , cost :  0.109395\n",
      "Epoch 57, CIFAR-10 Batch 4:  valid_accuracy :  0.573 , accuracy :  1.0 , cost :  0.117732\n",
      "Epoch 57, CIFAR-10 Batch 5:  valid_accuracy :  0.5638 , accuracy :  0.975 , cost :  0.114883\n",
      "Epoch 58, CIFAR-10 Batch 1:  valid_accuracy :  0.5718 , accuracy :  0.9 , cost :  0.273371\n",
      "Epoch 58, CIFAR-10 Batch 2:  valid_accuracy :  0.5784 , accuracy :  0.975 , cost :  0.106169\n",
      "Epoch 58, CIFAR-10 Batch 3:  valid_accuracy :  0.5696 , accuracy :  1.0 , cost :  0.121513\n",
      "Epoch 58, CIFAR-10 Batch 4:  valid_accuracy :  0.5644 , accuracy :  1.0 , cost :  0.148297\n",
      "Epoch 58, CIFAR-10 Batch 5:  valid_accuracy :  0.5662 , accuracy :  0.975 , cost :  0.110584\n",
      "Epoch 59, CIFAR-10 Batch 1:  valid_accuracy :  0.5732 , accuracy :  0.925 , cost :  0.213257\n",
      "Epoch 59, CIFAR-10 Batch 2:  valid_accuracy :  0.5702 , accuracy :  0.95 , cost :  0.174082\n",
      "Epoch 59, CIFAR-10 Batch 3:  valid_accuracy :  0.57 , accuracy :  0.975 , cost :  0.103332\n",
      "Epoch 59, CIFAR-10 Batch 4:  valid_accuracy :  0.5578 , accuracy :  0.975 , cost :  0.108358\n",
      "Epoch 59, CIFAR-10 Batch 5:  valid_accuracy :  0.569 , accuracy :  0.975 , cost :  0.0854992\n",
      "Epoch 60, CIFAR-10 Batch 1:  valid_accuracy :  0.5698 , accuracy :  0.95 , cost :  0.175463\n",
      "Epoch 60, CIFAR-10 Batch 2:  valid_accuracy :  0.5634 , accuracy :  0.95 , cost :  0.125571\n",
      "Epoch 60, CIFAR-10 Batch 3:  valid_accuracy :  0.5686 , accuracy :  1.0 , cost :  0.088653\n",
      "Epoch 60, CIFAR-10 Batch 4:  valid_accuracy :  0.5676 , accuracy :  1.0 , cost :  0.098515\n",
      "Epoch 60, CIFAR-10 Batch 5:  valid_accuracy :  0.5654 , accuracy :  0.975 , cost :  0.0966176\n",
      "Epoch 61, CIFAR-10 Batch 1:  valid_accuracy :  0.5718 , accuracy :  0.95 , cost :  0.154358\n",
      "Epoch 61, CIFAR-10 Batch 2:  valid_accuracy :  0.5652 , accuracy :  1.0 , cost :  0.135647\n",
      "Epoch 61, CIFAR-10 Batch 3:  valid_accuracy :  0.5694 , accuracy :  0.975 , cost :  0.102963\n",
      "Epoch 61, CIFAR-10 Batch 4:  valid_accuracy :  0.5602 , accuracy :  0.975 , cost :  0.0933178\n",
      "Epoch 61, CIFAR-10 Batch 5:  valid_accuracy :  0.5612 , accuracy :  0.975 , cost :  0.113721\n",
      "Epoch 62, CIFAR-10 Batch 1:  valid_accuracy :  0.572 , accuracy :  1.0 , cost :  0.112784\n",
      "Epoch 62, CIFAR-10 Batch 2:  valid_accuracy :  0.56 , accuracy :  1.0 , cost :  0.109292\n",
      "Epoch 62, CIFAR-10 Batch 3:  valid_accuracy :  0.5676 , accuracy :  0.975 , cost :  0.104234\n",
      "Epoch 62, CIFAR-10 Batch 4:  valid_accuracy :  0.5632 , accuracy :  1.0 , cost :  0.0892186\n",
      "Epoch 62, CIFAR-10 Batch 5:  valid_accuracy :  0.5486 , accuracy :  0.975 , cost :  0.116497\n",
      "Epoch 63, CIFAR-10 Batch 1:  valid_accuracy :  0.5706 , accuracy :  1.0 , cost :  0.100146\n",
      "Epoch 63, CIFAR-10 Batch 2:  valid_accuracy :  0.569 , accuracy :  1.0 , cost :  0.0975967\n",
      "Epoch 63, CIFAR-10 Batch 3:  valid_accuracy :  0.5736 , accuracy :  1.0 , cost :  0.082565\n",
      "Epoch 63, CIFAR-10 Batch 4:  valid_accuracy :  0.569 , accuracy :  1.0 , cost :  0.0836249\n",
      "Epoch 63, CIFAR-10 Batch 5:  valid_accuracy :  0.5702 , accuracy :  0.975 , cost :  0.0969156\n",
      "Epoch 64, CIFAR-10 Batch 1:  valid_accuracy :  0.5716 , accuracy :  1.0 , cost :  0.0879879\n",
      "Epoch 64, CIFAR-10 Batch 2:  valid_accuracy :  0.5624 , accuracy :  1.0 , cost :  0.0999486\n",
      "Epoch 64, CIFAR-10 Batch 3:  valid_accuracy :  0.5716 , accuracy :  1.0 , cost :  0.0600339\n",
      "Epoch 64, CIFAR-10 Batch 4:  valid_accuracy :  0.5684 , accuracy :  1.0 , cost :  0.0917725\n",
      "Epoch 64, CIFAR-10 Batch 5:  valid_accuracy :  0.5764 , accuracy :  0.975 , cost :  0.0889892\n",
      "Epoch 65, CIFAR-10 Batch 1:  valid_accuracy :  0.5768 , accuracy :  1.0 , cost :  0.101018\n",
      "Epoch 65, CIFAR-10 Batch 2:  valid_accuracy :  0.57 , accuracy :  0.975 , cost :  0.0800532\n",
      "Epoch 65, CIFAR-10 Batch 3:  valid_accuracy :  0.5664 , accuracy :  1.0 , cost :  0.0613949\n",
      "Epoch 65, CIFAR-10 Batch 4:  valid_accuracy :  0.5648 , accuracy :  1.0 , cost :  0.0859352\n",
      "Epoch 65, CIFAR-10 Batch 5:  valid_accuracy :  0.5764 , accuracy :  1.0 , cost :  0.0735358\n",
      "Epoch 66, CIFAR-10 Batch 1:  valid_accuracy :  0.5744 , accuracy :  1.0 , cost :  0.094431\n",
      "Epoch 66, CIFAR-10 Batch 2:  valid_accuracy :  0.568 , accuracy :  1.0 , cost :  0.0922188\n",
      "Epoch 66, CIFAR-10 Batch 3:  valid_accuracy :  0.5748 , accuracy :  1.0 , cost :  0.0490528\n",
      "Epoch 66, CIFAR-10 Batch 4:  valid_accuracy :  0.5636 , accuracy :  1.0 , cost :  0.0648375\n",
      "Epoch 66, CIFAR-10 Batch 5:  valid_accuracy :  0.565 , accuracy :  1.0 , cost :  0.0623782\n",
      "Epoch 67, CIFAR-10 Batch 1:  valid_accuracy :  0.5702 , accuracy :  1.0 , cost :  0.0760191\n",
      "Epoch 67, CIFAR-10 Batch 2:  valid_accuracy :  0.5734 , accuracy :  1.0 , cost :  0.100556\n",
      "Epoch 67, CIFAR-10 Batch 3:  valid_accuracy :  0.5766 , accuracy :  1.0 , cost :  0.046766\n",
      "Epoch 67, CIFAR-10 Batch 4:  valid_accuracy :  0.5652 , accuracy :  1.0 , cost :  0.0717749\n",
      "Epoch 67, CIFAR-10 Batch 5:  valid_accuracy :  0.5734 , accuracy :  1.0 , cost :  0.0449078\n",
      "Epoch 68, CIFAR-10 Batch 1:  valid_accuracy :  0.577 , accuracy :  1.0 , cost :  0.0438271\n",
      "Epoch 68, CIFAR-10 Batch 2:  valid_accuracy :  0.5758 , accuracy :  1.0 , cost :  0.0787892\n",
      "Epoch 68, CIFAR-10 Batch 3:  valid_accuracy :  0.5734 , accuracy :  1.0 , cost :  0.0530878\n",
      "Epoch 68, CIFAR-10 Batch 4:  valid_accuracy :  0.5742 , accuracy :  1.0 , cost :  0.070785\n",
      "Epoch 68, CIFAR-10 Batch 5:  valid_accuracy :  0.58 , accuracy :  1.0 , cost :  0.0344163\n",
      "Epoch 69, CIFAR-10 Batch 1:  valid_accuracy :  0.5792 , accuracy :  1.0 , cost :  0.0349916\n",
      "Epoch 69, CIFAR-10 Batch 2:  valid_accuracy :  0.5814 , accuracy :  1.0 , cost :  0.0763444\n",
      "Epoch 69, CIFAR-10 Batch 3:  valid_accuracy :  0.5898 , accuracy :  1.0 , cost :  0.0284934\n",
      "Epoch 69, CIFAR-10 Batch 4:  valid_accuracy :  0.581 , accuracy :  1.0 , cost :  0.0770731\n",
      "Epoch 69, CIFAR-10 Batch 5:  valid_accuracy :  0.5798 , accuracy :  1.0 , cost :  0.0486756\n",
      "Epoch 70, CIFAR-10 Batch 1:  valid_accuracy :  0.5828 , accuracy :  1.0 , cost :  0.0295379\n",
      "Epoch 70, CIFAR-10 Batch 2:  valid_accuracy :  0.5774 , accuracy :  1.0 , cost :  0.0568261\n",
      "Epoch 70, CIFAR-10 Batch 3:  valid_accuracy :  0.5816 , accuracy :  1.0 , cost :  0.0388324\n",
      "Epoch 70, CIFAR-10 Batch 4:  valid_accuracy :  0.5764 , accuracy :  1.0 , cost :  0.0732232\n",
      "Epoch 70, CIFAR-10 Batch 5:  valid_accuracy :  0.579 , accuracy :  1.0 , cost :  0.0275006\n"
     ]
    }
   ],
   "source": [
    "\"\"\"\n",
    "DON'T MODIFY ANYTHING IN THIS CELL\n",
    "\"\"\"\n",
    "save_model_path = './image_classification'\n",
    "\n",
    "print('Training...')\n",
    "with tf.Session() as sess:\n",
    "    # Initializing the variables\n",
    "    sess.run(tf.global_variables_initializer())\n",
    "    \n",
    "    # Training cycle\n",
    "    for epoch in range(epochs):\n",
    "        # Loop over all batches\n",
    "        n_batches = 5\n",
    "        for batch_i in range(1, n_batches + 1):\n",
    "            for batch_features, batch_labels in helper.load_preprocess_training_batch(batch_i, batch_size):\n",
    "                train_neural_network(sess, optimizer, keep_probability, batch_features, batch_labels)\n",
    "            print('Epoch {:>2}, CIFAR-10 Batch {}:  '.format(epoch + 1, batch_i), end='')\n",
    "            print_stats(sess, batch_features, batch_labels, cost, accuracy)\n",
    "            \n",
    "    # Save Model\n",
    "    saver = tf.train.Saver()\n",
    "    save_path = saver.save(sess, save_model_path)"
   ]
  },
  {
   "cell_type": "markdown",
   "metadata": {},
   "source": [
    "# Checkpoint\n",
    "The model has been saved to disk.\n",
    "## Test Model\n",
    "Test your model against the test dataset.  This will be your final accuracy. You should have an accuracy greater than 50%. If you don't, keep tweaking the model architecture and parameters."
   ]
  },
  {
   "cell_type": "code",
   "execution_count": 89,
   "metadata": {
    "collapsed": false
   },
   "outputs": [
    {
     "name": "stdout",
     "output_type": "stream",
     "text": [
      "INFO:tensorflow:Restoring parameters from ./image_classification\n",
      "Testing Accuracy: 0.5806640625\n",
      "\n"
     ]
    },
    {
     "data": {
      "image/png": "[encoded data removed]",
      "text/plain": [
       "<matplotlib.figure.Figure at 0x7f0a6938bd68>"
      ]
     },
     "metadata": {
      "image/png": {
       "height": 319,
       "width": 355
      }
     },
     "output_type": "display_data"
    }
   ],
   "source": [
    "\"\"\"\n",
    "DON'T MODIFY ANYTHING IN THIS CELL\n",
    "\"\"\"\n",
    "%matplotlib inline\n",
    "%config InlineBackend.figure_format = 'retina'\n",
    "\n",
    "import tensorflow as tf\n",
    "import pickle\n",
    "import helper\n",
    "import random\n",
    "\n",
    "# Set batch size if not already set\n",
    "try:\n",
    "    if batch_size:\n",
    "        pass\n",
    "except NameError:\n",
    "    batch_size = 64\n",
    "\n",
    "save_model_path = './image_classification'\n",
    "n_samples = 4\n",
    "top_n_predictions = 3\n",
    "\n",
    "def test_model():\n",
    "    \"\"\"\n",
    "    Test the saved model against the test dataset\n",
    "    \"\"\"\n",
    "\n",
    "    test_features, test_labels = pickle.load(open('preprocess_test.p', mode='rb'))\n",
    "    loaded_graph = tf.Graph()\n",
    "\n",
    "    with tf.Session(graph=loaded_graph) as sess:\n",
    "        # Load model\n",
    "        loader = tf.train.import_meta_graph(save_model_path + '.meta')\n",
    "        loader.restore(sess, save_model_path)\n",
    "\n",
    "        # Get Tensors from loaded model\n",
    "        loaded_x = loaded_graph.get_tensor_by_name('x:0')\n",
    "        loaded_y = loaded_graph.get_tensor_by_name('y:0')\n",
    "        loaded_keep_prob = loaded_graph.get_tensor_by_name('keep_prob:0')\n",
    "        loaded_logits = loaded_graph.get_tensor_by_name('logits:0')\n",
    "        loaded_acc = loaded_graph.get_tensor_by_name('accuracy:0')\n",
    "        \n",
    "        # Get accuracy in batches for memory limitations\n",
    "        test_batch_acc_total = 0\n",
    "        test_batch_count = 0\n",
    "        \n",
    "        for test_feature_batch, test_label_batch in helper.batch_features_labels(test_features, test_labels, batch_size):\n",
    "            test_batch_acc_total += sess.run(\n",
    "                loaded_acc,\n",
    "                feed_dict={loaded_x: test_feature_batch, loaded_y: test_label_batch, loaded_keep_prob: 1.0})\n",
    "            test_batch_count += 1\n",
    "\n",
    "        print('Testing Accuracy: {}\\n'.format(test_batch_acc_total/test_batch_count))\n",
    "\n",
    "        # Print Random Samples\n",
    "        random_test_features, random_test_labels = tuple(zip(*random.sample(list(zip(test_features, test_labels)), n_samples)))\n",
    "        random_test_predictions = sess.run(\n",
    "            tf.nn.top_k(tf.nn.softmax(loaded_logits), top_n_predictions),\n",
    "            feed_dict={loaded_x: random_test_features, loaded_y: random_test_labels, loaded_keep_prob: 1.0})\n",
    "        helper.display_image_predictions(random_test_features, random_test_labels, random_test_predictions)\n",
    "\n",
    "\n",
    "test_model()"
   ]
  },
  {
   "cell_type": "markdown",
   "metadata": {},
   "source": [
    "## Why 50-80% Accuracy?\n",
    "You might be wondering why you can't get an accuracy any higher. First things first, 50% isn't bad for a simple CNN.  Pure guessing would get you 10% accuracy. However, you might notice people are getting scores [well above 80%](http://rodrigob.github.io/are_we_there_yet/build/classification_datasets_results.html#43494641522d3130).  That's because we haven't taught you all there is to know about neural networks. We still need to cover a few more techniques.\n",
    "## Submitting This Project\n",
    "When submitting this project, make sure to run all the cells before saving the notebook.  Save the notebook file as \"dlnd_image_classification.ipynb\" and save it as a HTML file under \"File\" -> \"Download as\".  Include the \"helper.py\" and \"problem_unittests.py\" files in your submission."
   ]
  }
 ],
 "metadata": {
  "kernelspec": {
   "display_name": "Python 3",
   "language": "python",
   "name": "python3"
  },
  "language_info": {
   "codemirror_mode": {
    "name": "ipython",
    "version": 3
   },
   "file_extension": ".py",
   "mimetype": "text/x-python",
   "name": "python",
   "nbconvert_exporter": "python",
   "pygments_lexer": "ipython3",
   "version": "3.5.3"
  }
 },
 "nbformat": 4,
 "nbformat_minor": 1
}
