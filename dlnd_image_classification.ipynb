{
 "cells": [
  {
   "cell_type": "markdown",
   "metadata": {
    "collapsed": true
   },
   "source": [
    "# Image Classification\n",
    "In this project, you'll classify images from the [CIFAR-10 dataset](https://www.cs.toronto.edu/~kriz/cifar.html).  The dataset consists of airplanes, dogs, cats, and other objects. You'll preprocess the images, then train a convolutional neural network on all the samples. The images need to be normalized and the labels need to be one-hot encoded.  You'll get to apply what you learned and build a convolutional, max pooling, dropout, and fully connected layers.  At the end, you'll get to see your neural network's predictions on the sample images.\n",
    "## Get the Data\n",
    "Run the following cell to download the [CIFAR-10 dataset for python](https://www.cs.toronto.edu/~kriz/cifar-10-python.tar.gz)."
   ]
  },
  {
   "cell_type": "code",
   "execution_count": 2,
   "metadata": {},
   "outputs": [
    {
     "name": "stdout",
     "output_type": "stream",
     "text": [
      "All files found!\n"
     ]
    }
   ],
   "source": [
    "\"\"\"\n",
    "DON'T MODIFY ANYTHING IN THIS CELL THAT IS BELOW THIS LINE\n",
    "\"\"\"\n",
    "from urllib.request import urlretrieve\n",
    "from os.path import isfile, isdir\n",
    "from tqdm import tqdm\n",
    "import problem_unittests as tests\n",
    "import tarfile\n",
    "\n",
    "cifar10_dataset_folder_path = 'cifar-10-batches-py'\n",
    "\n",
    "# Use Floyd's cifar-10 dataset if present\n",
    "floyd_cifar10_location = '/input/cifar-10/python.tar.gz'\n",
    "if isfile(floyd_cifar10_location):\n",
    "    tar_gz_path = floyd_cifar10_location\n",
    "else:\n",
    "    tar_gz_path = 'cifar-10-python.tar.gz'\n",
    "\n",
    "class DLProgress(tqdm):\n",
    "    last_block = 0\n",
    "\n",
    "    def hook(self, block_num=1, block_size=1, total_size=None):\n",
    "        self.total = total_size\n",
    "        self.update((block_num - self.last_block) * block_size)\n",
    "        self.last_block = block_num\n",
    "\n",
    "if not isfile(tar_gz_path):\n",
    "    with DLProgress(unit='B', unit_scale=True, miniters=1, desc='CIFAR-10 Dataset') as pbar:\n",
    "        urlretrieve(\n",
    "            'https://www.cs.toronto.edu/~kriz/cifar-10-python.tar.gz',\n",
    "            tar_gz_path,\n",
    "            pbar.hook)\n",
    "\n",
    "if not isdir(cifar10_dataset_folder_path):\n",
    "    with tarfile.open(tar_gz_path) as tar:\n",
    "        tar.extractall()\n",
    "        tar.close()\n",
    "\n",
    "\n",
    "tests.test_folder_path(cifar10_dataset_folder_path)"
   ]
  },
  {
   "cell_type": "markdown",
   "metadata": {},
   "source": [
    "## Explore the Data\n",
    "The dataset is broken into batches to prevent your machine from running out of memory.  The CIFAR-10 dataset consists of 5 batches, named `data_batch_1`, `data_batch_2`, etc.. Each batch contains the labels and images that are one of the following:\n",
    "* airplane\n",
    "* automobile\n",
    "* bird\n",
    "* cat\n",
    "* deer\n",
    "* dog\n",
    "* frog\n",
    "* horse\n",
    "* ship\n",
    "* truck\n",
    "\n",
    "Understanding a dataset is part of making predictions on the data.  Play around with the code cell below by changing the `batch_id` and `sample_id`. The `batch_id` is the id for a batch (1-5). The `sample_id` is the id for a image and label pair in the batch.\n",
    "\n",
    "Ask yourself \"What are all possible labels?\", \"What is the range of values for the image data?\", \"Are the labels in order or random?\".  Answers to questions like these will help you preprocess the data and end up with better predictions."
   ]
  },
  {
   "cell_type": "code",
   "execution_count": 3,
   "metadata": {},
   "outputs": [
    {
     "name": "stdout",
     "output_type": "stream",
     "text": [
      "\n",
      "Stats of batch 1:\n",
      "Samples: 10000\n",
      "Label Counts: {0: 1005, 1: 974, 2: 1032, 3: 1016, 4: 999, 5: 937, 6: 1030, 7: 1001, 8: 1025, 9: 981}\n",
      "First 20 Labels: [6, 9, 9, 4, 1, 1, 2, 7, 8, 3, 4, 7, 7, 2, 9, 9, 9, 3, 2, 6]\n",
      "\n",
      "Example of Image 6:\n",
      "Image - Min Value: 7 Max Value: 249\n",
      "Image - Shape: (32, 32, 3)\n",
      "Label - Label Id: 2 Name: bird\n"
     ]
    },
    {
     "data": {
      "image/png": "[encoded data removed]",
      "text/plain": [
       "<matplotlib.figure.Figure at 0x7fcc2ae473c8>"
      ]
     },
     "metadata": {
      "image/png": {
       "height": 250,
       "width": 253
      }
     },
     "output_type": "display_data"
    }
   ],
   "source": [
    "%matplotlib inline\n",
    "%config InlineBackend.figure_format = 'retina'\n",
    "\n",
    "import helper\n",
    "import numpy as np\n",
    "\n",
    "# Explore the dataset\n",
    "batch_id = 1\n",
    "sample_id = 6\n",
    "helper.display_stats(cifar10_dataset_folder_path, batch_id, sample_id)"
   ]
  },
  {
   "cell_type": "markdown",
   "metadata": {},
   "source": [
    "## Implement Preprocess Functions\n",
    "### Normalize\n",
    "In the cell below, implement the `normalize` function to take in image data, `x`, and return it as a normalized Numpy array. The values should be in the range of 0 to 1, inclusive.  The return object should be the same shape as `x`."
   ]
  },
  {
   "cell_type": "code",
   "execution_count": 4,
   "metadata": {},
   "outputs": [
    {
     "name": "stdout",
     "output_type": "stream",
     "text": [
      "Tests Passed\n"
     ]
    }
   ],
   "source": [
    "def normalize(x):\n",
    "    \"\"\"\n",
    "    Normalize a list of sample image data in the range of 0 to 1\n",
    "    : x: List of image data.  The image shape is (32, 32, 3)\n",
    "    : return: Numpy array of normalize data\n",
    "    \"\"\"\n",
    "    # TODO: Implement Function\n",
    "    if len(x) == 0:\n",
    "        return np.array()\n",
    "    first_image = x[0]\n",
    "    n_images = len(x)\n",
    "    height = first_image.shape[0]\n",
    "    width = first_image.shape[1]\n",
    "    deepth = first_image.shape[2]\n",
    "    images = np.zeros((n_images, height, width, deepth))\n",
    "    for index,image in enumerate(x):\n",
    "        images[index] = np.divide(np.array(image), 256)\n",
    "    return images\n",
    "\n",
    "\n",
    "\"\"\"\n",
    "DON'T MODIFY ANYTHING IN THIS CELL THAT IS BELOW THIS LINE\n",
    "\"\"\"\n",
    "tests.test_normalize(normalize)"
   ]
  },
  {
   "cell_type": "markdown",
   "metadata": {},
   "source": [
    "### One-hot encode\n",
    "Just like the previous code cell, you'll be implementing a function for preprocessing.  This time, you'll implement the `one_hot_encode` function. The input, `x`, are a list of labels.  Implement the function to return the list of labels as One-Hot encoded Numpy array.  The possible values for labels are 0 to 9. The one-hot encoding function should return the same encoding for each value between each call to `one_hot_encode`.  Make sure to save the map of encodings outside the function.\n",
    "\n",
    "Hint: Don't reinvent the wheel."
   ]
  },
  {
   "cell_type": "code",
   "execution_count": 5,
   "metadata": {},
   "outputs": [
    {
     "name": "stdout",
     "output_type": "stream",
     "text": [
      "Tests Passed\n"
     ]
    }
   ],
   "source": [
    "def one_hot_encode(x):\n",
    "    \"\"\"\n",
    "    One hot encode a list of sample labels. Return a one-hot encoded vector for each label.\n",
    "    : x: List of sample Labels\n",
    "    : return: Numpy array of one-hot encoded labels\n",
    "    \"\"\"\n",
    "    return np.eye(10)[x]\n",
    "\n",
    "\"\"\"\n",
    "DON'T MODIFY ANYTHING IN THIS CELL THAT IS BELOW THIS LINE\n",
    "\"\"\"\n",
    "tests.test_one_hot_encode(one_hot_encode)"
   ]
  },
  {
   "cell_type": "markdown",
   "metadata": {},
   "source": [
    "### Randomize Data\n",
    "As you saw from exploring the data above, the order of the samples are randomized.  It doesn't hurt to randomize it again, but you don't need to for this dataset."
   ]
  },
  {
   "cell_type": "markdown",
   "metadata": {},
   "source": [
    "## Preprocess all the data and save it\n",
    "Running the code cell below will preprocess all the CIFAR-10 data and save it to file. The code below also uses 10% of the training data for validation."
   ]
  },
  {
   "cell_type": "code",
   "execution_count": 6,
   "metadata": {},
   "outputs": [],
   "source": [
    "\"\"\"\n",
    "DON'T MODIFY ANYTHING IN THIS CELL\n",
    "\"\"\"\n",
    "# Preprocess Training, Validation, and Testing Data\n",
    "helper.preprocess_and_save_data(cifar10_dataset_folder_path, normalize, one_hot_encode)"
   ]
  },
  {
   "cell_type": "markdown",
   "metadata": {},
   "source": [
    "# Check Point\n",
    "This is your first checkpoint.  If you ever decide to come back to this notebook or have to restart the notebook, you can start from here.  The preprocessed data has been saved to disk."
   ]
  },
  {
   "cell_type": "code",
   "execution_count": 7,
   "metadata": {},
   "outputs": [],
   "source": [
    "\"\"\"\n",
    "DON'T MODIFY ANYTHING IN THIS CELL\n",
    "\"\"\"\n",
    "import pickle\n",
    "import problem_unittests as tests\n",
    "import helper\n",
    "import numpy as np\n",
    "\n",
    "# Load the Preprocessed Validation data\n",
    "valid_features, valid_labels = pickle.load(open('preprocess_validation.p', mode='rb'))"
   ]
  },
  {
   "cell_type": "markdown",
   "metadata": {},
   "source": [
    "## Build the network\n",
    "For the neural network, you'll build each layer into a function.  Most of the code you've seen has been outside of functions. To test your code more thoroughly, we require that you put each layer in a function.  This allows us to give you better feedback and test for simple mistakes using our unittests before you submit your project.\n",
    "\n",
    ">**Note:** If you're finding it hard to dedicate enough time for this course each week, we've provided a small shortcut to this part of the project. In the next couple of problems, you'll have the option to use classes from the [TensorFlow Layers](https://www.tensorflow.org/api_docs/python/tf/layers) or [TensorFlow Layers (contrib)](https://www.tensorflow.org/api_guides/python/contrib.layers) packages to build each layer, except the layers you build in the \"Convolutional and Max Pooling Layer\" section.  TF Layers is similar to Keras's and TFLearn's abstraction to layers, so it's easy to pickup.\n",
    "\n",
    ">However, if you would like to get the most out of this course, try to solve all the problems _without_ using anything from the TF Layers packages. You **can** still use classes from other packages that happen to have the same name as ones you find in TF Layers! For example, instead of using the TF Layers version of the `conv2d` class, [tf.layers.conv2d](https://www.tensorflow.org/api_docs/python/tf/layers/conv2d), you would want to use the TF Neural Network version of `conv2d`, [tf.nn.conv2d](https://www.tensorflow.org/api_docs/python/tf/nn/conv2d). \n",
    "\n",
    "Let's begin!\n",
    "\n",
    "### Input\n",
    "The neural network needs to read the image data, one-hot encoded labels, and dropout keep probability. Implement the following functions\n",
    "* Implement `neural_net_image_input`\n",
    " * Return a [TF Placeholder](https://www.tensorflow.org/api_docs/python/tf/placeholder)\n",
    " * Set the shape using `image_shape` with batch size set to `None`.\n",
    " * Name the TensorFlow placeholder \"x\" using the TensorFlow `name` parameter in the [TF Placeholder](https://www.tensorflow.org/api_docs/python/tf/placeholder).\n",
    "* Implement `neural_net_label_input`\n",
    " * Return a [TF Placeholder](https://www.tensorflow.org/api_docs/python/tf/placeholder)\n",
    " * Set the shape using `n_classes` with batch size set to `None`.\n",
    " * Name the TensorFlow placeholder \"y\" using the TensorFlow `name` parameter in the [TF Placeholder](https://www.tensorflow.org/api_docs/python/tf/placeholder).\n",
    "* Implement `neural_net_keep_prob_input`\n",
    " * Return a [TF Placeholder](https://www.tensorflow.org/api_docs/python/tf/placeholder) for dropout keep probability.\n",
    " * Name the TensorFlow placeholder \"keep_prob\" using the TensorFlow `name` parameter in the [TF Placeholder](https://www.tensorflow.org/api_docs/python/tf/placeholder).\n",
    "\n",
    "These names will be used at the end of the project to load your saved model.\n",
    "\n",
    "Note: `None` for shapes in TensorFlow allow for a dynamic size."
   ]
  },
  {
   "cell_type": "code",
   "execution_count": 8,
   "metadata": {},
   "outputs": [
    {
     "name": "stdout",
     "output_type": "stream",
     "text": [
      "Image Input Tests Passed.\n",
      "Label Input Tests Passed.\n",
      "Keep Prob Tests Passed.\n"
     ]
    }
   ],
   "source": [
    "import tensorflow as tf\n",
    "\n",
    "def neural_net_image_input(image_shape):\n",
    "    \"\"\"\n",
    "    Return a Tensor for a batch of image input\n",
    "    : image_shape: Shape of the images\n",
    "    : return: Tensor for image input.\n",
    "    \"\"\"\n",
    "    return tf.placeholder(dtype=tf.float32, shape=(None, image_shape[0], image_shape[1], image_shape[2]), name=\"x\")\n",
    "\n",
    "\n",
    "def neural_net_label_input(n_classes):\n",
    "    \"\"\"\n",
    "    Return a Tensor for a batch of label input\n",
    "    : n_classes: Number of classes\n",
    "    : return: Tensor for label input.\n",
    "    \"\"\"\n",
    "    return tf.placeholder(dtype=tf.float32, shape=(None, n_classes), name=\"y\")\n",
    "\n",
    "\n",
    "def neural_net_keep_prob_input():\n",
    "    \"\"\"\n",
    "    Return a Tensor for keep probability\n",
    "    : return: Tensor for keep probability.\n",
    "    \"\"\"\n",
    "    return tf.placeholder(dtype=tf.float32, name=\"keep_prob\")\n",
    "\n",
    "\n",
    "\"\"\"\n",
    "DON'T MODIFY ANYTHING IN THIS CELL THAT IS BELOW THIS LINE\n",
    "\"\"\"\n",
    "tf.reset_default_graph()\n",
    "tests.test_nn_image_inputs(neural_net_image_input)\n",
    "tests.test_nn_label_inputs(neural_net_label_input)\n",
    "tests.test_nn_keep_prob_inputs(neural_net_keep_prob_input)"
   ]
  },
  {
   "cell_type": "markdown",
   "metadata": {},
   "source": [
    "### Convolution and Max Pooling Layer\n",
    "Convolution layers have a lot of success with images. For this code cell, you should implement the function `conv2d_maxpool` to apply convolution then max pooling:\n",
    "* Create the weight and bias using `conv_ksize`, `conv_num_outputs` and the shape of `x_tensor`.\n",
    "* Apply a convolution to `x_tensor` using weight and `conv_strides`.\n",
    " * We recommend you use same padding, but you're welcome to use any padding.\n",
    "* Add bias\n",
    "* Add a nonlinear activation to the convolution.\n",
    "* Apply Max Pooling using `pool_ksize` and `pool_strides`.\n",
    " * We recommend you use same padding, but you're welcome to use any padding.\n",
    "\n",
    "**Note:** You **can't** use [TensorFlow Layers](https://www.tensorflow.org/api_docs/python/tf/layers) or [TensorFlow Layers (contrib)](https://www.tensorflow.org/api_guides/python/contrib.layers) for **this** layer, but you can still use TensorFlow's [Neural Network](https://www.tensorflow.org/api_docs/python/tf/nn) package. You may still use the shortcut option for all the **other** layers."
   ]
  },
  {
   "cell_type": "code",
   "execution_count": 9,
   "metadata": {},
   "outputs": [
    {
     "name": "stdout",
     "output_type": "stream",
     "text": [
      "Tests Passed\n"
     ]
    }
   ],
   "source": [
    "def conv2d_maxpool(x_tensor, conv_num_outputs, conv_ksize, conv_strides, pool_ksize, pool_strides):\n",
    "    \"\"\"\n",
    "    Apply convolution then max pooling to x_tensor\n",
    "    :param x_tensor: TensorFlow Tensor\n",
    "    :param conv_num_outputs: Number of outputs for the convolutional layer\n",
    "    :param conv_ksize: kernal size 2-D Tuple for the convolutional layer\n",
    "    :param conv_strides: Stride 2-D Tuple for convolution\n",
    "    :param pool_ksize: kernal size 2-D Tuple for pool\n",
    "    :param pool_strides: Stride 2-D Tuple for pool\n",
    "    : return: A tensor that represents convolution and max pooling of x_tensor\n",
    "    \"\"\"\n",
    "    filter_size_height = conv_ksize[0]\n",
    "    filter_size_width = conv_ksize[1]\n",
    "    channels = int(x_tensor.shape[3])\n",
    "\n",
    "    weight = tf.Variable(tf.truncated_normal([filter_size_height, filter_size_width, channels, conv_num_outputs]))\n",
    "    bias = tf.Variable(tf.zeros(conv_num_outputs))\n",
    "    conv_layer = tf.nn.conv2d(x_tensor, weight, [1,conv_strides[0], conv_strides[1], 1], 'SAME')\n",
    "    conv_layer = tf.nn.bias_add(conv_layer, bias)\n",
    "    conv_layer = tf.nn.relu(conv_layer)\n",
    "    max_pooling = tf.nn.max_pool(conv_layer, [1, pool_ksize[0], pool_ksize[1], 1], [1, pool_strides[0], pool_strides[1], 1], 'SAME')\n",
    "    return max_pooling\n",
    "\n",
    "\n",
    "\"\"\"\n",
    "DON'T MODIFY ANYTHING IN THIS CELL THAT IS BELOW THIS LINE\n",
    "\"\"\"\n",
    "tf.reset_default_graph()\n",
    "tests.test_con_pool(conv2d_maxpool)"
   ]
  },
  {
   "cell_type": "markdown",
   "metadata": {},
   "source": [
    "### Flatten Layer\n",
    "Implement the `flatten` function to change the dimension of `x_tensor` from a 4-D tensor to a 2-D tensor.  The output should be the shape (*Batch Size*, *Flattened Image Size*). Shortcut option: you can use classes from the [TensorFlow Layers](https://www.tensorflow.org/api_docs/python/tf/layers) or [TensorFlow Layers (contrib)](https://www.tensorflow.org/api_guides/python/contrib.layers) packages for this layer. For more of a challenge, only use other TensorFlow packages."
   ]
  },
  {
   "cell_type": "code",
   "execution_count": 10,
   "metadata": {},
   "outputs": [
    {
     "name": "stdout",
     "output_type": "stream",
     "text": [
      "Tests Passed\n"
     ]
    }
   ],
   "source": [
    "def flatten(x_tensor):\n",
    "    \"\"\"\n",
    "    Flatten x_tensor to (Batch Size, Flattened Image Size)\n",
    "    : x_tensor: A tensor of size (Batch Size, ...), where ... are the image dimensions.\n",
    "    : return: A tensor of size (Batch Size, Flattened Image Size).\n",
    "    \"\"\"\n",
    "    return tf.reshape(x_tensor, [-1, int(np.prod(x_tensor.shape[1:]))])\n",
    "\n",
    "\n",
    "\"\"\"\n",
    "DON'T MODIFY ANYTHING IN THIS CELL THAT IS BELOW THIS LINE\n",
    "\"\"\"\n",
    "tests.test_flatten(flatten)"
   ]
  },
  {
   "cell_type": "markdown",
   "metadata": {},
   "source": [
    "### Fully-Connected Layer\n",
    "Implement the `fully_conn` function to apply a fully connected layer to `x_tensor` with the shape (*Batch Size*, *num_outputs*). Shortcut option: you can use classes from the [TensorFlow Layers](https://www.tensorflow.org/api_docs/python/tf/layers) or [TensorFlow Layers (contrib)](https://www.tensorflow.org/api_guides/python/contrib.layers) packages for this layer. For more of a challenge, only use other TensorFlow packages."
   ]
  },
  {
   "cell_type": "code",
   "execution_count": 11,
   "metadata": {},
   "outputs": [
    {
     "name": "stdout",
     "output_type": "stream",
     "text": [
      "Tests Passed\n"
     ]
    }
   ],
   "source": [
    "def fully_conn(x_tensor, num_outputs):\n",
    "    \"\"\"\n",
    "    Apply a fully connected layer to x_tensor using weight and bias\n",
    "    : x_tensor: A 2-D tensor where the first dimension is batch size.\n",
    "    : num_outputs: The number of output that the new tensor should be.\n",
    "    : return: A 2-D tensor where the second dimension is num_outputs.\n",
    "    \"\"\"\n",
    "    \n",
    "    return tf.contrib.layers.fully_connected(x_tensor,num_outputs)\n",
    "\n",
    "\n",
    "\"\"\"\n",
    "DON'T MODIFY ANYTHING IN THIS CELL THAT IS BELOW THIS LINE\n",
    "\"\"\"\n",
    "tests.test_fully_conn(fully_conn)"
   ]
  },
  {
   "cell_type": "markdown",
   "metadata": {},
   "source": [
    "### Output Layer\n",
    "Implement the `output` function to apply a fully connected layer to `x_tensor` with the shape (*Batch Size*, *num_outputs*). Shortcut option: you can use classes from the [TensorFlow Layers](https://www.tensorflow.org/api_docs/python/tf/layers) or [TensorFlow Layers (contrib)](https://www.tensorflow.org/api_guides/python/contrib.layers) packages for this layer. For more of a challenge, only use other TensorFlow packages.\n",
    "\n",
    "**Note:** Activation, softmax, or cross entropy should **not** be applied to this."
   ]
  },
  {
   "cell_type": "code",
   "execution_count": 12,
   "metadata": {},
   "outputs": [
    {
     "name": "stdout",
     "output_type": "stream",
     "text": [
      "Tests Passed\n"
     ]
    }
   ],
   "source": [
    "def output(x_tensor, num_outputs):\n",
    "    \"\"\"\n",
    "    Apply a output layer to x_tensor using weight and bias\n",
    "    : x_tensor: A 2-D tensor where the first dimension is batch size.\n",
    "    : num_outputs: The number of output that the new tensor should be.\n",
    "    : return: A 2-D tensor where the second dimension is num_outputs.\n",
    "    \"\"\"\n",
    "#     channels = int(x_tensor.shape[1])\n",
    "#     weight = tf.Variable(tf.truncated_normal([channels, num_outputs]))\n",
    "#     bias = tf.Variable(tf.zeros(num_outputs))\n",
    "#     output = tf.matmul(x_tensor, weight) + bias\n",
    "#     output = tf.sigmoid(output)\n",
    "    return tf.layers.dense(x_tensor,num_outputs)\n",
    "\n",
    "\n",
    "\"\"\"\n",
    "DON'T MODIFY ANYTHING IN THIS CELL THAT IS BELOW THIS LINE\n",
    "\"\"\"\n",
    "tests.test_output(output)"
   ]
  },
  {
   "cell_type": "markdown",
   "metadata": {},
   "source": [
    "### Create Convolutional Model\n",
    "Implement the function `conv_net` to create a convolutional neural network model. The function takes in a batch of images, `x`, and outputs logits.  Use the layers you created above to create this model:\n",
    "\n",
    "* Apply 1, 2, or 3 Convolution and Max Pool layers\n",
    "* Apply a Flatten Layer\n",
    "* Apply 1, 2, or 3 Fully Connected Layers\n",
    "* Apply an Output Layer\n",
    "* Return the output\n",
    "* Apply [TensorFlow's Dropout](https://www.tensorflow.org/api_docs/python/tf/nn/dropout) to one or more layers in the model using `keep_prob`. "
   ]
  },
  {
   "cell_type": "code",
   "execution_count": 25,
   "metadata": {},
   "outputs": [
    {
     "name": "stdout",
     "output_type": "stream",
     "text": [
      "Neural Network Built!\n"
     ]
    }
   ],
   "source": [
    "def conv_net(x, keep_prob):\n",
    "    \"\"\"\n",
    "    Create a convolutional neural network model\n",
    "    : x: Placeholder tensor that holds image data.\n",
    "    : keep_prob: Placeholder tensor that hold dropout keep probability.\n",
    "    : return: Tensor that represents logits\n",
    "    \"\"\"\n",
    "    # TODO: Apply 1, 2, or 3 Convolution and Max Pool layers\n",
    "    #    Play around with different number of outputs, kernel size and stride\n",
    "    # Function Definition from Above:\n",
    "    #    conv2d_maxpool(x_tensor, conv_num_outputs, conv_ksize, conv_strides, pool_ksize, pool_strides)\n",
    "    conv1_num_outputs = 20\n",
    "    conv1_ksize = (8, 8)\n",
    "    conv1_strides = (1, 1)\n",
    "    pool_ksize = (2, 2)\n",
    "    pool_strides = (2, 2)\n",
    "    conv_layer1 = conv2d_maxpool(x, conv1_num_outputs, conv1_ksize, conv1_strides, pool_ksize, pool_strides)\n",
    "\n",
    "\n",
    "    conv2_num_outputs = 40\n",
    "    conv2_ksize = (6, 6)\n",
    "    conv2_strides = (1, 1)\n",
    "    conv_layer2 = conv2d_maxpool(conv_layer1, conv2_num_outputs, conv2_ksize, conv2_strides, pool_ksize, pool_strides)\n",
    "\n",
    "#     conv3_num_outputs = 40\n",
    "#     conv3_ksize = (3, 3)  \n",
    "#     conv3_strides = (1, 1)\n",
    "#     pool3_ksize = (1,1)\n",
    "#     pool3_strides = (1,1)\n",
    "#     conv_layer3 = conv2d_maxpool(conv_layer2, conv3_num_outputs, conv3_ksize, conv3_strides, pool3_ksize, pool3_strides)\n",
    "    \n",
    "    # TODO: Apply a Flatten Layer\n",
    "    # Function Definition from Above:\n",
    "    #   flatten(x_tensor)\n",
    "    flatten_layer = flatten(conv_layer2)\n",
    "\n",
    "    # TODO: Apply 1, 2, or 3 Fully Connected Layers\n",
    "    #    Play around with different number of outputs\n",
    "    # Function Definition from Above:\n",
    "    #   fully_conn(x_tensor, num_outputs)\n",
    "    dropout_layer = tf.nn.dropout(flatten_layer,keep_prob)\n",
    "    \n",
    "#     fully_num_outputs1 = 100\n",
    "#     fully_layer = fully_conn(dropout_layer, fully_num_outputs1)\n",
    "    \n",
    "    fully_num_outputs2 = int(dropout_layer.shape[1])\n",
    "    fully_layer2 = fully_conn(dropout_layer, fully_num_outputs2)\n",
    "\n",
    "    \n",
    "    # TODO: Apply an Output Layer\n",
    "    #    Set this to the number of classes\n",
    "    # Function Definition from Above:\n",
    "    #   output(x_tensor, num_outputs)\n",
    "    output_result = output(fully_layer2, 10)\n",
    "\n",
    "    # TODO: return output\n",
    "    return output_result\n",
    "\n",
    "\n",
    "\"\"\"\n",
    "DON'T MODIFY ANYTHING IN THIS CELL THAT IS BELOW THIS LINE\n",
    "\"\"\"\n",
    "\n",
    "##############################\n",
    "## Build the Neural Network ##\n",
    "##############################\n",
    "\n",
    "# Remove previous weights, bias, inputs, etc..\n",
    "tf.reset_default_graph()\n",
    "\n",
    "# Inputs\n",
    "x = neural_net_image_input((32, 32, 3))\n",
    "y = neural_net_label_input(10)\n",
    "keep_prob = neural_net_keep_prob_input()\n",
    "\n",
    "# Model\n",
    "logits = conv_net(x, keep_prob)\n",
    "\n",
    "# Name logits Tensor, so that is can be loaded from disk after training\n",
    "logits = tf.identity(logits, name='logits')\n",
    "\n",
    "# Loss and Optimizer\n",
    "cost = tf.reduce_mean(tf.nn.softmax_cross_entropy_with_logits(logits=logits, labels=y))\n",
    "optimizer = tf.train.AdamOptimizer().minimize(cost)\n",
    "\n",
    "# Accuracy\n",
    "correct_pred = tf.equal(tf.argmax(logits, 1), tf.argmax(y, 1))\n",
    "accuracy = tf.reduce_mean(tf.cast(correct_pred, tf.float32), name='accuracy')\n",
    "\n",
    "tests.test_conv_net(conv_net)"
   ]
  },
  {
   "cell_type": "markdown",
   "metadata": {},
   "source": [
    "## Train the Neural Network\n",
    "### Single Optimization\n",
    "Implement the function `train_neural_network` to do a single optimization.  The optimization should use `optimizer` to optimize in `session` with a `feed_dict` of the following:\n",
    "* `x` for image input\n",
    "* `y` for labels\n",
    "* `keep_prob` for keep probability for dropout\n",
    "\n",
    "This function will be called for each batch, so `tf.global_variables_initializer()` has already been called.\n",
    "\n",
    "Note: Nothing needs to be returned. This function is only optimizing the neural network."
   ]
  },
  {
   "cell_type": "code",
   "execution_count": 15,
   "metadata": {},
   "outputs": [
    {
     "name": "stdout",
     "output_type": "stream",
     "text": [
      "Tests Passed\n"
     ]
    }
   ],
   "source": [
    "def train_neural_network(session, optimizer, keep_probability, feature_batch, label_batch):\n",
    "    \"\"\"\n",
    "    Optimize the session on a batch of images and labels\n",
    "    : session: Current TensorFlow session\n",
    "    : optimizer: TensorFlow optimizer function\n",
    "    : keep_probability: keep probability\n",
    "    : feature_batch: Batch of Numpy image data\n",
    "    : label_batch: Batch of Numpy label data\n",
    "    \"\"\"\n",
    "    session.run(optimizer,{keep_prob : keep_probability, x:feature_batch, y:label_batch})\n",
    "\n",
    "\n",
    "\"\"\"\n",
    "DON'T MODIFY ANYTHING IN THIS CELL THAT IS BELOW THIS LINE\n",
    "\"\"\"\n",
    "tests.test_train_nn(train_neural_network)"
   ]
  },
  {
   "cell_type": "markdown",
   "metadata": {},
   "source": [
    "### Show Stats\n",
    "Implement the function `print_stats` to print loss and validation accuracy.  Use the global variables `valid_features` and `valid_labels` to calculate validation accuracy.  Use a keep probability of `1.0` to calculate the loss and validation accuracy."
   ]
  },
  {
   "cell_type": "code",
   "execution_count": 16,
   "metadata": {
    "collapsed": true
   },
   "outputs": [],
   "source": [
    "def print_stats(session, feature_batch, label_batch, cost, accuracy):\n",
    "    \"\"\"\n",
    "    Print information about loss and validation accuracy\n",
    "    : session: Current TensorFlow session\n",
    "    : feature_batch: Batch of Numpy image data\n",
    "    : label_batch: Batch of Numpy label data\n",
    "    : cost: TensorFlow cost function\n",
    "    : accuracy: TensorFlow accuracy function\n",
    "    \"\"\"\n",
    "    valid_accuracy = session.run(accuracy, {x : valid_features, y : valid_labels, keep_prob : 1.0})\n",
    "    accuracy_result = session.run(accuracy, {x : feature_batch, y : label_batch, keep_prob : 1.0})\n",
    "    cost_result = session.run(cost, {x : feature_batch, y : label_batch, keep_prob : 1.0})\n",
    "    print(\"valid_accuracy : \", valid_accuracy, \", accuracy : \",accuracy_result, \", cost : \",cost_result)\n",
    "    "
   ]
  },
  {
   "cell_type": "markdown",
   "metadata": {},
   "source": [
    "### Hyperparameters\n",
    "Tune the following parameters:\n",
    "* Set `epochs` to the number of iterations until the network stops learning or start overfitting\n",
    "* Set `batch_size` to the highest number that your machine has memory for.  Most people set them to common sizes of memory:\n",
    " * 64\n",
    " * 128\n",
    " * 256\n",
    " * ...\n",
    "* Set `keep_probability` to the probability of keeping a node using dropout"
   ]
  },
  {
   "cell_type": "code",
   "execution_count": 23,
   "metadata": {
    "collapsed": true
   },
   "outputs": [],
   "source": [
    "# TODO: Tune Parameters\n",
    "epochs = 50\n",
    "batch_size = 256\n",
    "keep_probability = 0.5"
   ]
  },
  {
   "cell_type": "markdown",
   "metadata": {},
   "source": [
    "### Train on a Single CIFAR-10 Batch\n",
    "Instead of training the neural network on all the CIFAR-10 batches of data, let's use a single batch. This should save time while you iterate on the model to get a better accuracy.  Once the final validation accuracy is 50% or greater, run the model on all the data in the next section."
   ]
  },
  {
   "cell_type": "code",
   "execution_count": 26,
   "metadata": {},
   "outputs": [
    {
     "name": "stdout",
     "output_type": "stream",
     "text": [
      "Checking the Training on a Single Batch...\n",
      " Epoch  1, CIFAR-10 Batch 1:  valid_accuracy :  0.1558 , accuracy :  0.1 , cost :  7.19837\n",
      " Epoch  2, CIFAR-10 Batch 1:  valid_accuracy :  0.1036 , accuracy :  0.125 , cost :  2.3025\n",
      " Epoch  3, CIFAR-10 Batch 1:  valid_accuracy :  0.1006 , accuracy :  0.125 , cost :  2.3025\n",
      " Epoch  4, CIFAR-10 Batch 1:  valid_accuracy :  0.1166 , accuracy :  0.075 , cost :  2.26225\n",
      " Epoch  5, CIFAR-10 Batch 1:  valid_accuracy :  0.1042 , accuracy :  0.125 , cost :  2.21629\n",
      " Epoch  6, CIFAR-10 Batch 1:  valid_accuracy :  0.1174 , accuracy :  0.15 , cost :  2.22113\n",
      " Epoch  7, CIFAR-10 Batch 1:  valid_accuracy :  0.151 , accuracy :  0.15 , cost :  2.21821\n",
      " Epoch  8, CIFAR-10 Batch 1:  valid_accuracy :  0.1806 , accuracy :  0.15 , cost :  2.1718\n",
      " Epoch  9, CIFAR-10 Batch 1:  valid_accuracy :  0.2254 , accuracy :  0.175 , cost :  2.13533\n",
      " Epoch 10, CIFAR-10 Batch 1:  valid_accuracy :  0.2284 , accuracy :  0.25 , cost :  2.12318\n",
      " Epoch 11, CIFAR-10 Batch 1:  valid_accuracy :  0.2348 , accuracy :  0.275 , cost :  2.04309\n",
      " Epoch 12, CIFAR-10 Batch 1:  valid_accuracy :  0.2252 , accuracy :  0.2 , cost :  2.02644\n",
      " Epoch 13, CIFAR-10 Batch 1:  valid_accuracy :  0.2464 , accuracy :  0.325 , cost :  1.97429\n",
      " Epoch 14, CIFAR-10 Batch 1:  valid_accuracy :  0.255 , accuracy :  0.275 , cost :  1.93115\n",
      " Epoch 15, CIFAR-10 Batch 1:  valid_accuracy :  0.252 , accuracy :  0.3 , cost :  1.9166\n",
      " Epoch 16, CIFAR-10 Batch 1:  valid_accuracy :  0.2816 , accuracy :  0.375 , cost :  1.87493\n",
      " Epoch 17, CIFAR-10 Batch 1:  valid_accuracy :  0.28 , accuracy :  0.325 , cost :  1.90046\n",
      " Epoch 18, CIFAR-10 Batch 1:  valid_accuracy :  0.2968 , accuracy :  0.35 , cost :  1.88585\n",
      " Epoch 19, CIFAR-10 Batch 1:  valid_accuracy :  0.3122 , accuracy :  0.4 , cost :  1.8948\n",
      " Epoch 20, CIFAR-10 Batch 1:  valid_accuracy :  0.3108 , accuracy :  0.4 , cost :  1.85776\n",
      " Epoch 21, CIFAR-10 Batch 1:  valid_accuracy :  0.3244 , accuracy :  0.35 , cost :  1.87916\n",
      " Epoch 22, CIFAR-10 Batch 1:  valid_accuracy :  0.326 , accuracy :  0.4 , cost :  1.86159\n",
      " Epoch 23, CIFAR-10 Batch 1:  valid_accuracy :  0.342 , accuracy :  0.45 , cost :  1.85321\n",
      " Epoch 24, CIFAR-10 Batch 1:  valid_accuracy :  0.339 , accuracy :  0.425 , cost :  1.7717\n",
      " Epoch 25, CIFAR-10 Batch 1:  valid_accuracy :  0.3336 , accuracy :  0.4 , cost :  1.75768\n",
      " Epoch 26, CIFAR-10 Batch 1:  valid_accuracy :  0.354 , accuracy :  0.425 , cost :  1.68387\n",
      " Epoch 27, CIFAR-10 Batch 1:  valid_accuracy :  0.3684 , accuracy :  0.45 , cost :  1.68215\n",
      " Epoch 28, CIFAR-10 Batch 1:  valid_accuracy :  0.3732 , accuracy :  0.5 , cost :  1.63042\n",
      " Epoch 29, CIFAR-10 Batch 1:  valid_accuracy :  0.371 , accuracy :  0.55 , cost :  1.56909\n",
      " Epoch 30, CIFAR-10 Batch 1:  valid_accuracy :  0.3726 , accuracy :  0.575 , cost :  1.51631\n",
      " Epoch 31, CIFAR-10 Batch 1:  valid_accuracy :  0.395 , accuracy :  0.625 , cost :  1.4682\n",
      " Epoch 32, CIFAR-10 Batch 1:  valid_accuracy :  0.4064 , accuracy :  0.675 , cost :  1.44527\n",
      " Epoch 33, CIFAR-10 Batch 1:  valid_accuracy :  0.4078 , accuracy :  0.6 , cost :  1.3995\n",
      " Epoch 34, CIFAR-10 Batch 1:  valid_accuracy :  0.419 , accuracy :  0.55 , cost :  1.3445\n",
      " Epoch 35, CIFAR-10 Batch 1:  valid_accuracy :  0.4218 , accuracy :  0.6 , cost :  1.28477\n",
      " Epoch 36, CIFAR-10 Batch 1:  valid_accuracy :  0.4214 , accuracy :  0.6 , cost :  1.3216\n",
      " Epoch 37, CIFAR-10 Batch 1:  valid_accuracy :  0.4202 , accuracy :  0.625 , cost :  1.24073\n",
      " Epoch 38, CIFAR-10 Batch 1:  valid_accuracy :  0.4166 , accuracy :  0.65 , cost :  1.21127\n",
      " Epoch 39, CIFAR-10 Batch 1:  valid_accuracy :  0.433 , accuracy :  0.7 , cost :  1.18654\n",
      " Epoch 40, CIFAR-10 Batch 1:  valid_accuracy :  0.435 , accuracy :  0.675 , cost :  1.15412\n",
      " Epoch 41, CIFAR-10 Batch 1:  valid_accuracy :  0.434 , accuracy :  0.65 , cost :  1.16997\n",
      " Epoch 42, CIFAR-10 Batch 1:  valid_accuracy :  0.4452 , accuracy :  0.675 , cost :  1.12073\n",
      " Epoch 43, CIFAR-10 Batch 1:  valid_accuracy :  0.4428 , accuracy :  0.7 , cost :  1.07889\n",
      " Epoch 44, CIFAR-10 Batch 1:  valid_accuracy :  0.4422 , accuracy :  0.7 , cost :  1.08196\n",
      " Epoch 45, CIFAR-10 Batch 1:  valid_accuracy :  0.4464 , accuracy :  0.7 , cost :  1.08388\n",
      " Epoch 46, CIFAR-10 Batch 1:  valid_accuracy :  0.4478 , accuracy :  0.7 , cost :  1.0192\n",
      " Epoch 47, CIFAR-10 Batch 1:  valid_accuracy :  0.4514 , accuracy :  0.7 , cost :  1.01427\n",
      " Epoch 48, CIFAR-10 Batch 1:  valid_accuracy :  0.4476 , accuracy :  0.7 , cost :  1.02178\n",
      " Epoch 49, CIFAR-10 Batch 1:  valid_accuracy :  0.455 , accuracy :  0.75 , cost :  0.964897\n",
      " Epoch 50, CIFAR-10 Batch 1:  valid_accuracy :  0.4528 , accuracy :  0.725 , cost :  0.948447\n"
     ]
    }
   ],
   "source": [
    "\"\"\"\n",
    "DON'T MODIFY ANYTHING IN THIS CELL\n",
    "\"\"\"\n",
    "tf.reset_default_graph\n",
    "print('Checking the Training on a Single Batch...')\n",
    "with tf.Session() as sess:\n",
    "    # Initializing the variables\n",
    "    sess.run(tf.global_variables_initializer())\n",
    "    \n",
    "    # Training cycle\n",
    "    for epoch in range(epochs):\n",
    "        batch_id = 1\n",
    "        for batch_features, batch_labels in helper.load_preprocess_training_batch(batch_id, batch_size):\n",
    "            train_neural_network(sess, optimizer, keep_probability, batch_features, batch_labels)\n",
    "        print(' Epoch {:>2}, CIFAR-10 Batch {}:  '.format(epoch + 1, batch_id), end='')\n",
    "        print_stats(sess, batch_features, batch_labels, cost, accuracy)"
   ]
  },
  {
   "cell_type": "markdown",
   "metadata": {},
   "source": [
    "### Fully Train the Model\n",
    "Now that you got a good accuracy with a single CIFAR-10 batch, try it with all five batches."
   ]
  },
  {
   "cell_type": "code",
   "execution_count": 27,
   "metadata": {},
   "outputs": [
    {
     "name": "stdout",
     "output_type": "stream",
     "text": [
      "Training...\n",
      "Epoch  1, CIFAR-10 Batch 1:  valid_accuracy :  0.1476 , accuracy :  0.15 , cost :  3.32708\n",
      "Epoch  1, CIFAR-10 Batch 2:  valid_accuracy :  0.0946 , accuracy :  0.05 , cost :  2.30234\n",
      "Epoch  1, CIFAR-10 Batch 3:  valid_accuracy :  0.0948 , accuracy :  0.05 , cost :  2.30169\n",
      "Epoch  1, CIFAR-10 Batch 4:  valid_accuracy :  0.0996 , accuracy :  0.15 , cost :  2.30269\n",
      "Epoch  1, CIFAR-10 Batch 5:  valid_accuracy :  0.1064 , accuracy :  0.125 , cost :  2.28102\n",
      "Epoch  2, CIFAR-10 Batch 1:  valid_accuracy :  0.1594 , accuracy :  0.125 , cost :  2.2113\n",
      "Epoch  2, CIFAR-10 Batch 2:  valid_accuracy :  0.1744 , accuracy :  0.275 , cost :  2.1652\n",
      "Epoch  2, CIFAR-10 Batch 3:  valid_accuracy :  0.158 , accuracy :  0.125 , cost :  2.1496\n",
      "Epoch  2, CIFAR-10 Batch 4:  valid_accuracy :  0.1618 , accuracy :  0.2 , cost :  2.13682\n",
      "Epoch  2, CIFAR-10 Batch 5:  valid_accuracy :  0.1626 , accuracy :  0.15 , cost :  2.14232\n",
      "Epoch  3, CIFAR-10 Batch 1:  valid_accuracy :  0.1586 , accuracy :  0.15 , cost :  2.20458\n",
      "Epoch  3, CIFAR-10 Batch 2:  valid_accuracy :  0.187 , accuracy :  0.3 , cost :  2.06594\n",
      "Epoch  3, CIFAR-10 Batch 3:  valid_accuracy :  0.1682 , accuracy :  0.15 , cost :  2.06454\n",
      "Epoch  3, CIFAR-10 Batch 4:  valid_accuracy :  0.188 , accuracy :  0.2 , cost :  2.10575\n",
      "Epoch  3, CIFAR-10 Batch 5:  valid_accuracy :  0.1996 , accuracy :  0.225 , cost :  2.08481\n",
      "Epoch  4, CIFAR-10 Batch 1:  valid_accuracy :  0.1968 , accuracy :  0.125 , cost :  2.19313\n",
      "Epoch  4, CIFAR-10 Batch 2:  valid_accuracy :  0.2412 , accuracy :  0.325 , cost :  1.94548\n",
      "Epoch  4, CIFAR-10 Batch 3:  valid_accuracy :  0.2124 , accuracy :  0.225 , cost :  1.89948\n",
      "Epoch  4, CIFAR-10 Batch 4:  valid_accuracy :  0.2164 , accuracy :  0.25 , cost :  1.82373\n",
      "Epoch  4, CIFAR-10 Batch 5:  valid_accuracy :  0.2498 , accuracy :  0.275 , cost :  1.94465\n",
      "Epoch  5, CIFAR-10 Batch 1:  valid_accuracy :  0.2498 , accuracy :  0.2 , cost :  2.19031\n",
      "Epoch  5, CIFAR-10 Batch 2:  valid_accuracy :  0.2704 , accuracy :  0.325 , cost :  1.8437\n",
      "Epoch  5, CIFAR-10 Batch 3:  valid_accuracy :  0.2384 , accuracy :  0.225 , cost :  1.79408\n",
      "Epoch  5, CIFAR-10 Batch 4:  valid_accuracy :  0.2616 , accuracy :  0.3 , cost :  1.83379\n",
      "Epoch  5, CIFAR-10 Batch 5:  valid_accuracy :  0.2654 , accuracy :  0.2 , cost :  1.8935\n",
      "Epoch  6, CIFAR-10 Batch 1:  valid_accuracy :  0.2818 , accuracy :  0.175 , cost :  2.1751\n",
      "Epoch  6, CIFAR-10 Batch 2:  valid_accuracy :  0.2756 , accuracy :  0.425 , cost :  1.79925\n",
      "Epoch  6, CIFAR-10 Batch 3:  valid_accuracy :  0.2538 , accuracy :  0.225 , cost :  1.72949\n",
      "Epoch  6, CIFAR-10 Batch 4:  valid_accuracy :  0.2674 , accuracy :  0.325 , cost :  1.78223\n",
      "Epoch  6, CIFAR-10 Batch 5:  valid_accuracy :  0.2732 , accuracy :  0.275 , cost :  1.82748\n",
      "Epoch  7, CIFAR-10 Batch 1:  valid_accuracy :  0.2878 , accuracy :  0.25 , cost :  2.14812\n",
      "Epoch  7, CIFAR-10 Batch 2:  valid_accuracy :  0.2862 , accuracy :  0.375 , cost :  1.7698\n",
      "Epoch  7, CIFAR-10 Batch 3:  valid_accuracy :  0.2804 , accuracy :  0.3 , cost :  1.67551\n",
      "Epoch  7, CIFAR-10 Batch 4:  valid_accuracy :  0.2788 , accuracy :  0.4 , cost :  1.72389\n",
      "Epoch  7, CIFAR-10 Batch 5:  valid_accuracy :  0.2876 , accuracy :  0.375 , cost :  1.77606\n",
      "Epoch  8, CIFAR-10 Batch 1:  valid_accuracy :  0.3076 , accuracy :  0.175 , cost :  2.06653\n",
      "Epoch  8, CIFAR-10 Batch 2:  valid_accuracy :  0.3068 , accuracy :  0.4 , cost :  1.74003\n",
      "Epoch  8, CIFAR-10 Batch 3:  valid_accuracy :  0.2884 , accuracy :  0.325 , cost :  1.6326\n",
      "Epoch  8, CIFAR-10 Batch 4:  valid_accuracy :  0.2874 , accuracy :  0.35 , cost :  1.71311\n",
      "Epoch  8, CIFAR-10 Batch 5:  valid_accuracy :  0.3048 , accuracy :  0.325 , cost :  1.77182\n",
      "Epoch  9, CIFAR-10 Batch 1:  valid_accuracy :  0.3108 , accuracy :  0.225 , cost :  2.0283\n",
      "Epoch  9, CIFAR-10 Batch 2:  valid_accuracy :  0.3092 , accuracy :  0.35 , cost :  1.72782\n",
      "Epoch  9, CIFAR-10 Batch 3:  valid_accuracy :  0.302 , accuracy :  0.375 , cost :  1.61911\n",
      "Epoch  9, CIFAR-10 Batch 4:  valid_accuracy :  0.2912 , accuracy :  0.375 , cost :  1.66067\n",
      "Epoch  9, CIFAR-10 Batch 5:  valid_accuracy :  0.3174 , accuracy :  0.35 , cost :  1.72944\n",
      "Epoch 10, CIFAR-10 Batch 1:  valid_accuracy :  0.3198 , accuracy :  0.25 , cost :  1.9615\n",
      "Epoch 10, CIFAR-10 Batch 2:  valid_accuracy :  0.3094 , accuracy :  0.3 , cost :  1.71775\n",
      "Epoch 10, CIFAR-10 Batch 3:  valid_accuracy :  0.2984 , accuracy :  0.4 , cost :  1.5673\n",
      "Epoch 10, CIFAR-10 Batch 4:  valid_accuracy :  0.3094 , accuracy :  0.4 , cost :  1.67977\n",
      "Epoch 10, CIFAR-10 Batch 5:  valid_accuracy :  0.3256 , accuracy :  0.425 , cost :  1.7019\n",
      "Epoch 11, CIFAR-10 Batch 1:  valid_accuracy :  0.3312 , accuracy :  0.275 , cost :  1.95534\n",
      "Epoch 11, CIFAR-10 Batch 2:  valid_accuracy :  0.3412 , accuracy :  0.3 , cost :  1.7406\n",
      "Epoch 11, CIFAR-10 Batch 3:  valid_accuracy :  0.3128 , accuracy :  0.425 , cost :  1.57048\n",
      "Epoch 11, CIFAR-10 Batch 4:  valid_accuracy :  0.3256 , accuracy :  0.3 , cost :  1.64276\n",
      "Epoch 11, CIFAR-10 Batch 5:  valid_accuracy :  0.333 , accuracy :  0.4 , cost :  1.67174\n",
      "Epoch 12, CIFAR-10 Batch 1:  valid_accuracy :  0.3458 , accuracy :  0.275 , cost :  1.96826\n",
      "Epoch 12, CIFAR-10 Batch 2:  valid_accuracy :  0.3236 , accuracy :  0.425 , cost :  1.65491\n",
      "Epoch 12, CIFAR-10 Batch 3:  valid_accuracy :  0.3244 , accuracy :  0.4 , cost :  1.53125\n",
      "Epoch 12, CIFAR-10 Batch 4:  valid_accuracy :  0.3186 , accuracy :  0.35 , cost :  1.67627\n",
      "Epoch 12, CIFAR-10 Batch 5:  valid_accuracy :  0.3496 , accuracy :  0.35 , cost :  1.61586\n",
      "Epoch 13, CIFAR-10 Batch 1:  valid_accuracy :  0.3424 , accuracy :  0.35 , cost :  1.84571\n",
      "Epoch 13, CIFAR-10 Batch 2:  valid_accuracy :  0.344 , accuracy :  0.425 , cost :  1.66384\n",
      "Epoch 13, CIFAR-10 Batch 3:  valid_accuracy :  0.3476 , accuracy :  0.475 , cost :  1.44944\n",
      "Epoch 13, CIFAR-10 Batch 4:  valid_accuracy :  0.3498 , accuracy :  0.275 , cost :  1.57123\n",
      "Epoch 13, CIFAR-10 Batch 5:  valid_accuracy :  0.3736 , accuracy :  0.425 , cost :  1.57204\n",
      "Epoch 14, CIFAR-10 Batch 1:  valid_accuracy :  0.3674 , accuracy :  0.3 , cost :  1.75596\n",
      "Epoch 14, CIFAR-10 Batch 2:  valid_accuracy :  0.3652 , accuracy :  0.35 , cost :  1.65807\n",
      "Epoch 14, CIFAR-10 Batch 3:  valid_accuracy :  0.367 , accuracy :  0.475 , cost :  1.43772\n",
      "Epoch 14, CIFAR-10 Batch 4:  valid_accuracy :  0.3576 , accuracy :  0.325 , cost :  1.57105\n",
      "Epoch 14, CIFAR-10 Batch 5:  valid_accuracy :  0.3742 , accuracy :  0.4 , cost :  1.5434\n",
      "Epoch 15, CIFAR-10 Batch 1:  valid_accuracy :  0.3852 , accuracy :  0.375 , cost :  1.73464\n",
      "Epoch 15, CIFAR-10 Batch 2:  valid_accuracy :  0.3848 , accuracy :  0.375 , cost :  1.63551\n",
      "Epoch 15, CIFAR-10 Batch 3:  valid_accuracy :  0.3878 , accuracy :  0.475 , cost :  1.37917\n",
      "Epoch 15, CIFAR-10 Batch 4:  valid_accuracy :  0.3818 , accuracy :  0.375 , cost :  1.51749\n",
      "Epoch 15, CIFAR-10 Batch 5:  valid_accuracy :  0.402 , accuracy :  0.45 , cost :  1.52697\n",
      "Epoch 16, CIFAR-10 Batch 1:  valid_accuracy :  0.396 , accuracy :  0.325 , cost :  1.65905\n",
      "Epoch 16, CIFAR-10 Batch 2:  valid_accuracy :  0.4038 , accuracy :  0.4 , cost :  1.60398\n",
      "Epoch 16, CIFAR-10 Batch 3:  valid_accuracy :  0.3952 , accuracy :  0.525 , cost :  1.27957\n",
      "Epoch 16, CIFAR-10 Batch 4:  valid_accuracy :  0.393 , accuracy :  0.425 , cost :  1.47706\n",
      "Epoch 16, CIFAR-10 Batch 5:  valid_accuracy :  0.4112 , accuracy :  0.475 , cost :  1.46187\n",
      "Epoch 17, CIFAR-10 Batch 1:  valid_accuracy :  0.4032 , accuracy :  0.375 , cost :  1.67016\n",
      "Epoch 17, CIFAR-10 Batch 2:  valid_accuracy :  0.406 , accuracy :  0.45 , cost :  1.49663\n",
      "Epoch 17, CIFAR-10 Batch 3:  valid_accuracy :  0.4124 , accuracy :  0.6 , cost :  1.19324\n",
      "Epoch 17, CIFAR-10 Batch 4:  valid_accuracy :  0.405 , accuracy :  0.475 , cost :  1.44162\n",
      "Epoch 17, CIFAR-10 Batch 5:  valid_accuracy :  0.4008 , accuracy :  0.45 , cost :  1.45677\n",
      "Epoch 18, CIFAR-10 Batch 1:  valid_accuracy :  0.422 , accuracy :  0.475 , cost :  1.61895\n",
      "Epoch 18, CIFAR-10 Batch 2:  valid_accuracy :  0.4242 , accuracy :  0.5 , cost :  1.39749\n",
      "Epoch 18, CIFAR-10 Batch 3:  valid_accuracy :  0.4294 , accuracy :  0.6 , cost :  1.12674\n",
      "Epoch 18, CIFAR-10 Batch 4:  valid_accuracy :  0.4206 , accuracy :  0.5 , cost :  1.38644\n",
      "Epoch 18, CIFAR-10 Batch 5:  valid_accuracy :  0.4236 , accuracy :  0.4 , cost :  1.40999\n"
     ]
    },
    {
     "name": "stdout",
     "output_type": "stream",
     "text": [
      "Epoch 19, CIFAR-10 Batch 1:  valid_accuracy :  0.4276 , accuracy :  0.45 , cost :  1.59512\n",
      "Epoch 19, CIFAR-10 Batch 2:  valid_accuracy :  0.4188 , accuracy :  0.425 , cost :  1.43922\n",
      "Epoch 19, CIFAR-10 Batch 3:  valid_accuracy :  0.441 , accuracy :  0.65 , cost :  1.09641\n",
      "Epoch 19, CIFAR-10 Batch 4:  valid_accuracy :  0.434 , accuracy :  0.4 , cost :  1.37739\n",
      "Epoch 19, CIFAR-10 Batch 5:  valid_accuracy :  0.4278 , accuracy :  0.475 , cost :  1.35853\n",
      "Epoch 20, CIFAR-10 Batch 1:  valid_accuracy :  0.4364 , accuracy :  0.475 , cost :  1.58721\n",
      "Epoch 20, CIFAR-10 Batch 2:  valid_accuracy :  0.4336 , accuracy :  0.4 , cost :  1.4207\n",
      "Epoch 20, CIFAR-10 Batch 3:  valid_accuracy :  0.4382 , accuracy :  0.625 , cost :  1.04322\n",
      "Epoch 20, CIFAR-10 Batch 4:  valid_accuracy :  0.4442 , accuracy :  0.5 , cost :  1.31884\n",
      "Epoch 20, CIFAR-10 Batch 5:  valid_accuracy :  0.4436 , accuracy :  0.5 , cost :  1.321\n",
      "Epoch 21, CIFAR-10 Batch 1:  valid_accuracy :  0.4546 , accuracy :  0.475 , cost :  1.58544\n",
      "Epoch 21, CIFAR-10 Batch 2:  valid_accuracy :  0.4388 , accuracy :  0.475 , cost :  1.39037\n",
      "Epoch 21, CIFAR-10 Batch 3:  valid_accuracy :  0.4458 , accuracy :  0.65 , cost :  1.02384\n",
      "Epoch 21, CIFAR-10 Batch 4:  valid_accuracy :  0.4604 , accuracy :  0.475 , cost :  1.30095\n",
      "Epoch 21, CIFAR-10 Batch 5:  valid_accuracy :  0.4612 , accuracy :  0.525 , cost :  1.28025\n",
      "Epoch 22, CIFAR-10 Batch 1:  valid_accuracy :  0.4638 , accuracy :  0.525 , cost :  1.51092\n",
      "Epoch 22, CIFAR-10 Batch 2:  valid_accuracy :  0.439 , accuracy :  0.5 , cost :  1.2963\n",
      "Epoch 22, CIFAR-10 Batch 3:  valid_accuracy :  0.4548 , accuracy :  0.6 , cost :  1.00618\n",
      "Epoch 22, CIFAR-10 Batch 4:  valid_accuracy :  0.4538 , accuracy :  0.475 , cost :  1.2822\n",
      "Epoch 22, CIFAR-10 Batch 5:  valid_accuracy :  0.4616 , accuracy :  0.5 , cost :  1.27841\n",
      "Epoch 23, CIFAR-10 Batch 1:  valid_accuracy :  0.4712 , accuracy :  0.575 , cost :  1.45765\n",
      "Epoch 23, CIFAR-10 Batch 2:  valid_accuracy :  0.4406 , accuracy :  0.525 , cost :  1.21483\n",
      "Epoch 23, CIFAR-10 Batch 3:  valid_accuracy :  0.4702 , accuracy :  0.65 , cost :  1.02544\n",
      "Epoch 23, CIFAR-10 Batch 4:  valid_accuracy :  0.4666 , accuracy :  0.5 , cost :  1.27538\n",
      "Epoch 23, CIFAR-10 Batch 5:  valid_accuracy :  0.473 , accuracy :  0.55 , cost :  1.22594\n",
      "Epoch 24, CIFAR-10 Batch 1:  valid_accuracy :  0.4734 , accuracy :  0.525 , cost :  1.46291\n",
      "Epoch 24, CIFAR-10 Batch 2:  valid_accuracy :  0.4706 , accuracy :  0.55 , cost :  1.20176\n",
      "Epoch 24, CIFAR-10 Batch 3:  valid_accuracy :  0.4684 , accuracy :  0.625 , cost :  1.00011\n",
      "Epoch 24, CIFAR-10 Batch 4:  valid_accuracy :  0.4742 , accuracy :  0.525 , cost :  1.23256\n",
      "Epoch 24, CIFAR-10 Batch 5:  valid_accuracy :  0.473 , accuracy :  0.575 , cost :  1.23259\n",
      "Epoch 25, CIFAR-10 Batch 1:  valid_accuracy :  0.4826 , accuracy :  0.625 , cost :  1.41934\n",
      "Epoch 25, CIFAR-10 Batch 2:  valid_accuracy :  0.4534 , accuracy :  0.6 , cost :  1.11358\n",
      "Epoch 25, CIFAR-10 Batch 3:  valid_accuracy :  0.4682 , accuracy :  0.65 , cost :  1.0172\n",
      "Epoch 25, CIFAR-10 Batch 4:  valid_accuracy :  0.482 , accuracy :  0.475 , cost :  1.22989\n",
      "Epoch 25, CIFAR-10 Batch 5:  valid_accuracy :  0.4766 , accuracy :  0.6 , cost :  1.16634\n",
      "Epoch 26, CIFAR-10 Batch 1:  valid_accuracy :  0.485 , accuracy :  0.6 , cost :  1.40821\n",
      "Epoch 26, CIFAR-10 Batch 2:  valid_accuracy :  0.4586 , accuracy :  0.575 , cost :  1.05743\n",
      "Epoch 26, CIFAR-10 Batch 3:  valid_accuracy :  0.4884 , accuracy :  0.675 , cost :  0.999423\n",
      "Epoch 26, CIFAR-10 Batch 4:  valid_accuracy :  0.4854 , accuracy :  0.55 , cost :  1.21147\n",
      "Epoch 26, CIFAR-10 Batch 5:  valid_accuracy :  0.4898 , accuracy :  0.575 , cost :  1.14413\n",
      "Epoch 27, CIFAR-10 Batch 1:  valid_accuracy :  0.4842 , accuracy :  0.575 , cost :  1.43435\n",
      "Epoch 27, CIFAR-10 Batch 2:  valid_accuracy :  0.4798 , accuracy :  0.625 , cost :  1.00367\n",
      "Epoch 27, CIFAR-10 Batch 3:  valid_accuracy :  0.4896 , accuracy :  0.65 , cost :  1.00035\n",
      "Epoch 27, CIFAR-10 Batch 4:  valid_accuracy :  0.4922 , accuracy :  0.525 , cost :  1.14746\n",
      "Epoch 27, CIFAR-10 Batch 5:  valid_accuracy :  0.4874 , accuracy :  0.575 , cost :  1.14951\n",
      "Epoch 28, CIFAR-10 Batch 1:  valid_accuracy :  0.4978 , accuracy :  0.6 , cost :  1.37592\n",
      "Epoch 28, CIFAR-10 Batch 2:  valid_accuracy :  0.4808 , accuracy :  0.575 , cost :  0.972982\n",
      "Epoch 28, CIFAR-10 Batch 3:  valid_accuracy :  0.4972 , accuracy :  0.725 , cost :  0.910116\n",
      "Epoch 28, CIFAR-10 Batch 4:  valid_accuracy :  0.5016 , accuracy :  0.5 , cost :  1.15963\n",
      "Epoch 28, CIFAR-10 Batch 5:  valid_accuracy :  0.5048 , accuracy :  0.6 , cost :  1.09904\n",
      "Epoch 29, CIFAR-10 Batch 1:  valid_accuracy :  0.5064 , accuracy :  0.6 , cost :  1.33677\n",
      "Epoch 29, CIFAR-10 Batch 2:  valid_accuracy :  0.4952 , accuracy :  0.6 , cost :  1.00854\n",
      "Epoch 29, CIFAR-10 Batch 3:  valid_accuracy :  0.498 , accuracy :  0.675 , cost :  0.948251\n",
      "Epoch 29, CIFAR-10 Batch 4:  valid_accuracy :  0.507 , accuracy :  0.6 , cost :  1.1428\n",
      "Epoch 29, CIFAR-10 Batch 5:  valid_accuracy :  0.5036 , accuracy :  0.575 , cost :  1.09984\n",
      "Epoch 30, CIFAR-10 Batch 1:  valid_accuracy :  0.5008 , accuracy :  0.625 , cost :  1.28389\n",
      "Epoch 30, CIFAR-10 Batch 2:  valid_accuracy :  0.4902 , accuracy :  0.6 , cost :  0.953561\n",
      "Epoch 30, CIFAR-10 Batch 3:  valid_accuracy :  0.5074 , accuracy :  0.725 , cost :  0.896043\n",
      "Epoch 30, CIFAR-10 Batch 4:  valid_accuracy :  0.5138 , accuracy :  0.55 , cost :  1.10623\n",
      "Epoch 30, CIFAR-10 Batch 5:  valid_accuracy :  0.5104 , accuracy :  0.575 , cost :  1.06338\n",
      "Epoch 31, CIFAR-10 Batch 1:  valid_accuracy :  0.513 , accuracy :  0.6 , cost :  1.29144\n",
      "Epoch 31, CIFAR-10 Batch 2:  valid_accuracy :  0.499 , accuracy :  0.625 , cost :  0.933035\n",
      "Epoch 31, CIFAR-10 Batch 3:  valid_accuracy :  0.507 , accuracy :  0.75 , cost :  0.909545\n",
      "Epoch 31, CIFAR-10 Batch 4:  valid_accuracy :  0.5176 , accuracy :  0.525 , cost :  1.10779\n",
      "Epoch 31, CIFAR-10 Batch 5:  valid_accuracy :  0.5142 , accuracy :  0.625 , cost :  1.05544\n",
      "Epoch 32, CIFAR-10 Batch 1:  valid_accuracy :  0.5212 , accuracy :  0.575 , cost :  1.25279\n",
      "Epoch 32, CIFAR-10 Batch 2:  valid_accuracy :  0.5108 , accuracy :  0.7 , cost :  0.837761\n",
      "Epoch 32, CIFAR-10 Batch 3:  valid_accuracy :  0.517 , accuracy :  0.7 , cost :  0.848476\n",
      "Epoch 32, CIFAR-10 Batch 4:  valid_accuracy :  0.5174 , accuracy :  0.575 , cost :  1.07152\n",
      "Epoch 32, CIFAR-10 Batch 5:  valid_accuracy :  0.521 , accuracy :  0.675 , cost :  1.01576\n",
      "Epoch 33, CIFAR-10 Batch 1:  valid_accuracy :  0.5206 , accuracy :  0.575 , cost :  1.25112\n",
      "Epoch 33, CIFAR-10 Batch 2:  valid_accuracy :  0.5222 , accuracy :  0.675 , cost :  0.875359\n",
      "Epoch 33, CIFAR-10 Batch 3:  valid_accuracy :  0.5162 , accuracy :  0.675 , cost :  0.893266\n",
      "Epoch 33, CIFAR-10 Batch 4:  valid_accuracy :  0.5276 , accuracy :  0.625 , cost :  1.06299\n",
      "Epoch 33, CIFAR-10 Batch 5:  valid_accuracy :  0.5248 , accuracy :  0.625 , cost :  0.997414\n",
      "Epoch 34, CIFAR-10 Batch 1:  valid_accuracy :  0.5378 , accuracy :  0.575 , cost :  1.20173\n",
      "Epoch 34, CIFAR-10 Batch 2:  valid_accuracy :  0.527 , accuracy :  0.675 , cost :  0.83509\n",
      "Epoch 34, CIFAR-10 Batch 3:  valid_accuracy :  0.5292 , accuracy :  0.725 , cost :  0.80935\n",
      "Epoch 34, CIFAR-10 Batch 4:  valid_accuracy :  0.5348 , accuracy :  0.575 , cost :  1.0414\n",
      "Epoch 34, CIFAR-10 Batch 5:  valid_accuracy :  0.5318 , accuracy :  0.65 , cost :  0.976642\n",
      "Epoch 35, CIFAR-10 Batch 1:  valid_accuracy :  0.5372 , accuracy :  0.575 , cost :  1.17215\n",
      "Epoch 35, CIFAR-10 Batch 2:  valid_accuracy :  0.529 , accuracy :  0.65 , cost :  0.822375\n",
      "Epoch 35, CIFAR-10 Batch 3:  valid_accuracy :  0.523 , accuracy :  0.725 , cost :  0.797207\n",
      "Epoch 35, CIFAR-10 Batch 4:  valid_accuracy :  0.5364 , accuracy :  0.625 , cost :  0.994004\n",
      "Epoch 35, CIFAR-10 Batch 5:  valid_accuracy :  0.5318 , accuracy :  0.725 , cost :  0.954735\n",
      "Epoch 36, CIFAR-10 Batch 1:  valid_accuracy :  0.5382 , accuracy :  0.6 , cost :  1.13417\n",
      "Epoch 36, CIFAR-10 Batch 2:  valid_accuracy :  0.529 , accuracy :  0.725 , cost :  0.789901\n",
      "Epoch 36, CIFAR-10 Batch 3:  valid_accuracy :  0.5308 , accuracy :  0.725 , cost :  0.756766\n",
      "Epoch 36, CIFAR-10 Batch 4:  valid_accuracy :  0.5426 , accuracy :  0.625 , cost :  0.956195\n",
      "Epoch 36, CIFAR-10 Batch 5:  valid_accuracy :  0.5452 , accuracy :  0.675 , cost :  0.893633\n"
     ]
    },
    {
     "name": "stdout",
     "output_type": "stream",
     "text": [
      "Epoch 37, CIFAR-10 Batch 1:  valid_accuracy :  0.544 , accuracy :  0.65 , cost :  1.07189\n",
      "Epoch 37, CIFAR-10 Batch 2:  valid_accuracy :  0.5388 , accuracy :  0.675 , cost :  0.766282\n",
      "Epoch 37, CIFAR-10 Batch 3:  valid_accuracy :  0.5398 , accuracy :  0.725 , cost :  0.749121\n",
      "Epoch 37, CIFAR-10 Batch 4:  valid_accuracy :  0.5468 , accuracy :  0.625 , cost :  0.945627\n",
      "Epoch 37, CIFAR-10 Batch 5:  valid_accuracy :  0.549 , accuracy :  0.75 , cost :  0.873761\n",
      "Epoch 38, CIFAR-10 Batch 1:  valid_accuracy :  0.5534 , accuracy :  0.65 , cost :  1.09644\n",
      "Epoch 38, CIFAR-10 Batch 2:  valid_accuracy :  0.545 , accuracy :  0.725 , cost :  0.727154\n",
      "Epoch 38, CIFAR-10 Batch 3:  valid_accuracy :  0.5404 , accuracy :  0.7 , cost :  0.715644\n",
      "Epoch 38, CIFAR-10 Batch 4:  valid_accuracy :  0.5526 , accuracy :  0.675 , cost :  0.930771\n",
      "Epoch 38, CIFAR-10 Batch 5:  valid_accuracy :  0.553 , accuracy :  0.775 , cost :  0.847755\n",
      "Epoch 39, CIFAR-10 Batch 1:  valid_accuracy :  0.5512 , accuracy :  0.625 , cost :  1.04515\n",
      "Epoch 39, CIFAR-10 Batch 2:  valid_accuracy :  0.5502 , accuracy :  0.725 , cost :  0.6849\n",
      "Epoch 39, CIFAR-10 Batch 3:  valid_accuracy :  0.5518 , accuracy :  0.75 , cost :  0.632608\n",
      "Epoch 39, CIFAR-10 Batch 4:  valid_accuracy :  0.5594 , accuracy :  0.725 , cost :  0.897203\n",
      "Epoch 39, CIFAR-10 Batch 5:  valid_accuracy :  0.5602 , accuracy :  0.775 , cost :  0.784751\n",
      "Epoch 40, CIFAR-10 Batch 1:  valid_accuracy :  0.5512 , accuracy :  0.7 , cost :  0.970594\n",
      "Epoch 40, CIFAR-10 Batch 2:  valid_accuracy :  0.549 , accuracy :  0.725 , cost :  0.678714\n",
      "Epoch 40, CIFAR-10 Batch 3:  valid_accuracy :  0.5482 , accuracy :  0.75 , cost :  0.577743\n",
      "Epoch 40, CIFAR-10 Batch 4:  valid_accuracy :  0.5592 , accuracy :  0.675 , cost :  0.892196\n",
      "Epoch 40, CIFAR-10 Batch 5:  valid_accuracy :  0.5588 , accuracy :  0.75 , cost :  0.772179\n",
      "Epoch 41, CIFAR-10 Batch 1:  valid_accuracy :  0.5634 , accuracy :  0.65 , cost :  0.951222\n",
      "Epoch 41, CIFAR-10 Batch 2:  valid_accuracy :  0.558 , accuracy :  0.675 , cost :  0.657706\n",
      "Epoch 41, CIFAR-10 Batch 3:  valid_accuracy :  0.5486 , accuracy :  0.8 , cost :  0.608783\n",
      "Epoch 41, CIFAR-10 Batch 4:  valid_accuracy :  0.5638 , accuracy :  0.725 , cost :  0.851706\n",
      "Epoch 41, CIFAR-10 Batch 5:  valid_accuracy :  0.5558 , accuracy :  0.8 , cost :  0.748714\n",
      "Epoch 42, CIFAR-10 Batch 1:  valid_accuracy :  0.5662 , accuracy :  0.7 , cost :  0.939678\n",
      "Epoch 42, CIFAR-10 Batch 2:  valid_accuracy :  0.5552 , accuracy :  0.7 , cost :  0.671654\n",
      "Epoch 42, CIFAR-10 Batch 3:  valid_accuracy :  0.5554 , accuracy :  0.775 , cost :  0.531347\n",
      "Epoch 42, CIFAR-10 Batch 4:  valid_accuracy :  0.5592 , accuracy :  0.725 , cost :  0.814134\n",
      "Epoch 42, CIFAR-10 Batch 5:  valid_accuracy :  0.5616 , accuracy :  0.825 , cost :  0.73247\n",
      "Epoch 43, CIFAR-10 Batch 1:  valid_accuracy :  0.5696 , accuracy :  0.725 , cost :  0.879111\n",
      "Epoch 43, CIFAR-10 Batch 2:  valid_accuracy :  0.5572 , accuracy :  0.75 , cost :  0.631278\n",
      "Epoch 43, CIFAR-10 Batch 3:  valid_accuracy :  0.5572 , accuracy :  0.8 , cost :  0.52811\n",
      "Epoch 43, CIFAR-10 Batch 4:  valid_accuracy :  0.5768 , accuracy :  0.675 , cost :  0.7881\n",
      "Epoch 43, CIFAR-10 Batch 5:  valid_accuracy :  0.563 , accuracy :  0.8 , cost :  0.704783\n",
      "Epoch 44, CIFAR-10 Batch 1:  valid_accuracy :  0.5688 , accuracy :  0.775 , cost :  0.858387\n",
      "Epoch 44, CIFAR-10 Batch 2:  valid_accuracy :  0.5688 , accuracy :  0.75 , cost :  0.617343\n",
      "Epoch 44, CIFAR-10 Batch 3:  valid_accuracy :  0.5592 , accuracy :  0.85 , cost :  0.537744\n",
      "Epoch 44, CIFAR-10 Batch 4:  valid_accuracy :  0.5746 , accuracy :  0.75 , cost :  0.72961\n",
      "Epoch 44, CIFAR-10 Batch 5:  valid_accuracy :  0.568 , accuracy :  0.825 , cost :  0.665869\n",
      "Epoch 45, CIFAR-10 Batch 1:  valid_accuracy :  0.576 , accuracy :  0.75 , cost :  0.84067\n",
      "Epoch 45, CIFAR-10 Batch 2:  valid_accuracy :  0.5758 , accuracy :  0.775 , cost :  0.577614\n",
      "Epoch 45, CIFAR-10 Batch 3:  valid_accuracy :  0.5612 , accuracy :  0.8 , cost :  0.517854\n",
      "Epoch 45, CIFAR-10 Batch 4:  valid_accuracy :  0.5762 , accuracy :  0.675 , cost :  0.754806\n",
      "Epoch 45, CIFAR-10 Batch 5:  valid_accuracy :  0.5776 , accuracy :  0.825 , cost :  0.641782\n",
      "Epoch 46, CIFAR-10 Batch 1:  valid_accuracy :  0.5824 , accuracy :  0.75 , cost :  0.813139\n",
      "Epoch 46, CIFAR-10 Batch 2:  valid_accuracy :  0.5776 , accuracy :  0.775 , cost :  0.597225\n",
      "Epoch 46, CIFAR-10 Batch 3:  valid_accuracy :  0.5602 , accuracy :  0.8 , cost :  0.497143\n",
      "Epoch 46, CIFAR-10 Batch 4:  valid_accuracy :  0.5866 , accuracy :  0.825 , cost :  0.661983\n",
      "Epoch 46, CIFAR-10 Batch 5:  valid_accuracy :  0.5814 , accuracy :  0.8 , cost :  0.577473\n",
      "Epoch 47, CIFAR-10 Batch 1:  valid_accuracy :  0.5874 , accuracy :  0.775 , cost :  0.795242\n",
      "Epoch 47, CIFAR-10 Batch 2:  valid_accuracy :  0.5764 , accuracy :  0.775 , cost :  0.578938\n",
      "Epoch 47, CIFAR-10 Batch 3:  valid_accuracy :  0.5684 , accuracy :  0.875 , cost :  0.43994\n",
      "Epoch 47, CIFAR-10 Batch 4:  valid_accuracy :  0.5894 , accuracy :  0.775 , cost :  0.621131\n",
      "Epoch 47, CIFAR-10 Batch 5:  valid_accuracy :  0.587 , accuracy :  0.85 , cost :  0.577442\n",
      "Epoch 48, CIFAR-10 Batch 1:  valid_accuracy :  0.5832 , accuracy :  0.775 , cost :  0.780361\n",
      "Epoch 48, CIFAR-10 Batch 2:  valid_accuracy :  0.5794 , accuracy :  0.8 , cost :  0.536488\n",
      "Epoch 48, CIFAR-10 Batch 3:  valid_accuracy :  0.573 , accuracy :  0.85 , cost :  0.422351\n",
      "Epoch 48, CIFAR-10 Batch 4:  valid_accuracy :  0.5946 , accuracy :  0.875 , cost :  0.520134\n",
      "Epoch 48, CIFAR-10 Batch 5:  valid_accuracy :  0.5892 , accuracy :  0.825 , cost :  0.552129\n",
      "Epoch 49, CIFAR-10 Batch 1:  valid_accuracy :  0.5912 , accuracy :  0.8 , cost :  0.762092\n",
      "Epoch 49, CIFAR-10 Batch 2:  valid_accuracy :  0.5942 , accuracy :  0.775 , cost :  0.539338\n",
      "Epoch 49, CIFAR-10 Batch 3:  valid_accuracy :  0.5726 , accuracy :  0.9 , cost :  0.402533\n",
      "Epoch 49, CIFAR-10 Batch 4:  valid_accuracy :  0.582 , accuracy :  0.85 , cost :  0.52051\n",
      "Epoch 49, CIFAR-10 Batch 5:  valid_accuracy :  0.5858 , accuracy :  0.925 , cost :  0.518415\n",
      "Epoch 50, CIFAR-10 Batch 1:  valid_accuracy :  0.5916 , accuracy :  0.8 , cost :  0.725917\n",
      "Epoch 50, CIFAR-10 Batch 2:  valid_accuracy :  0.5888 , accuracy :  0.85 , cost :  0.51857\n",
      "Epoch 50, CIFAR-10 Batch 3:  valid_accuracy :  0.5852 , accuracy :  0.9 , cost :  0.381318\n",
      "Epoch 50, CIFAR-10 Batch 4:  valid_accuracy :  0.5974 , accuracy :  0.9 , cost :  0.49088\n",
      "Epoch 50, CIFAR-10 Batch 5:  valid_accuracy :  0.5906 , accuracy :  0.85 , cost :  0.525062\n"
     ]
    }
   ],
   "source": [
    "\"\"\"\n",
    "DON'T MODIFY ANYTHING IN THIS CELL\n",
    "\"\"\"\n",
    "save_model_path = './image_classification'\n",
    "\n",
    "print('Training...')\n",
    "with tf.Session() as sess:\n",
    "    # Initializing the variables\n",
    "    sess.run(tf.global_variables_initializer())\n",
    "    \n",
    "    # Training cycle\n",
    "    for epoch in range(epochs):\n",
    "        # Loop over all batches\n",
    "        n_batches = 5\n",
    "        for batch_i in range(1, n_batches + 1):\n",
    "            for batch_features, batch_labels in helper.load_preprocess_training_batch(batch_i, batch_size):\n",
    "                train_neural_network(sess, optimizer, keep_probability, batch_features, batch_labels)\n",
    "            print('Epoch {:>2}, CIFAR-10 Batch {}:  '.format(epoch + 1, batch_i), end='')\n",
    "            print_stats(sess, batch_features, batch_labels, cost, accuracy)\n",
    "            \n",
    "    # Save Model\n",
    "    saver = tf.train.Saver()\n",
    "    save_path = saver.save(sess, save_model_path)"
   ]
  },
  {
   "cell_type": "markdown",
   "metadata": {},
   "source": [
    "# Checkpoint\n",
    "The model has been saved to disk.\n",
    "## Test Model\n",
    "Test your model against the test dataset.  This will be your final accuracy. You should have an accuracy greater than 50%. If you don't, keep tweaking the model architecture and parameters."
   ]
  },
  {
   "cell_type": "code",
   "execution_count": 28,
   "metadata": {},
   "outputs": [
    {
     "name": "stdout",
     "output_type": "stream",
     "text": [
      "INFO:tensorflow:Restoring parameters from ./image_classification\n",
      "Testing Accuracy: 0.5962890625\n",
      "\n"
     ]
    },
    {
     "data": {
      "image/png": "[encoded data removed]",
      "text/plain": [
       "<matplotlib.figure.Figure at 0x7fcc91bac278>"
      ]
     },
     "metadata": {
      "image/png": {
       "height": 319,
       "width": 355
      }
     },
     "output_type": "display_data"
    }
   ],
   "source": [
    "\"\"\"\n",
    "DON'T MODIFY ANYTHING IN THIS CELL\n",
    "\"\"\"\n",
    "%matplotlib inline\n",
    "%config InlineBackend.figure_format = 'retina'\n",
    "\n",
    "import tensorflow as tf\n",
    "import pickle\n",
    "import helper\n",
    "import random\n",
    "\n",
    "# Set batch size if not already set\n",
    "try:\n",
    "    if batch_size:\n",
    "        pass\n",
    "except NameError:\n",
    "    batch_size = 64\n",
    "\n",
    "save_model_path = './image_classification'\n",
    "n_samples = 4\n",
    "top_n_predictions = 3\n",
    "\n",
    "def test_model():\n",
    "    \"\"\"\n",
    "    Test the saved model against the test dataset\n",
    "    \"\"\"\n",
    "\n",
    "    test_features, test_labels = pickle.load(open('preprocess_test.p', mode='rb'))\n",
    "    loaded_graph = tf.Graph()\n",
    "\n",
    "    with tf.Session(graph=loaded_graph) as sess:\n",
    "        # Load model\n",
    "        loader = tf.train.import_meta_graph(save_model_path + '.meta')\n",
    "        loader.restore(sess, save_model_path)\n",
    "\n",
    "        # Get Tensors from loaded model\n",
    "        loaded_x = loaded_graph.get_tensor_by_name('x:0')\n",
    "        loaded_y = loaded_graph.get_tensor_by_name('y:0')\n",
    "        loaded_keep_prob = loaded_graph.get_tensor_by_name('keep_prob:0')\n",
    "        loaded_logits = loaded_graph.get_tensor_by_name('logits:0')\n",
    "        loaded_acc = loaded_graph.get_tensor_by_name('accuracy:0')\n",
    "        \n",
    "        # Get accuracy in batches for memory limitations\n",
    "        test_batch_acc_total = 0\n",
    "        test_batch_count = 0\n",
    "        \n",
    "        for test_feature_batch, test_label_batch in helper.batch_features_labels(test_features, test_labels, batch_size):\n",
    "            test_batch_acc_total += sess.run(\n",
    "                loaded_acc,\n",
    "                feed_dict={loaded_x: test_feature_batch, loaded_y: test_label_batch, loaded_keep_prob: 1.0})\n",
    "            test_batch_count += 1\n",
    "\n",
    "        print('Testing Accuracy: {}\\n'.format(test_batch_acc_total/test_batch_count))\n",
    "\n",
    "        # Print Random Samples\n",
    "        random_test_features, random_test_labels = tuple(zip(*random.sample(list(zip(test_features, test_labels)), n_samples)))\n",
    "        random_test_predictions = sess.run(\n",
    "            tf.nn.top_k(tf.nn.softmax(loaded_logits), top_n_predictions),\n",
    "            feed_dict={loaded_x: random_test_features, loaded_y: random_test_labels, loaded_keep_prob: 1.0})\n",
    "        helper.display_image_predictions(random_test_features, random_test_labels, random_test_predictions)\n",
    "\n",
    "\n",
    "test_model()"
   ]
  },
  {
   "cell_type": "markdown",
   "metadata": {},
   "source": [
    "## Why 50-80% Accuracy?\n",
    "You might be wondering why you can't get an accuracy any higher. First things first, 50% isn't bad for a simple CNN.  Pure guessing would get you 10% accuracy. However, you might notice people are getting scores [well above 80%](http://rodrigob.github.io/are_we_there_yet/build/classification_datasets_results.html#43494641522d3130).  That's because we haven't taught you all there is to know about neural networks. We still need to cover a few more techniques.\n",
    "## Submitting This Project\n",
    "When submitting this project, make sure to run all the cells before saving the notebook.  Save the notebook file as \"dlnd_image_classification.ipynb\" and save it as a HTML file under \"File\" -> \"Download as\".  Include the \"helper.py\" and \"problem_unittests.py\" files in your submission."
   ]
  }
 ],
 "metadata": {
  "kernelspec": {
   "display_name": "Python 3",
   "language": "python",
   "name": "python3"
  },
  "language_info": {
   "codemirror_mode": {
    "name": "ipython",
    "version": 3
   },
   "file_extension": ".py",
   "mimetype": "text/x-python",
   "name": "python",
   "nbconvert_exporter": "python",
   "pygments_lexer": "ipython3",
   "version": "3.5.3"
  }
 },
 "nbformat": 4,
 "nbformat_minor": 1
}
