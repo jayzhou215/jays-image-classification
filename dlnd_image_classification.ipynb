{
 "cells": [
  {
   "cell_type": "markdown",
   "metadata": {
    "collapsed": true
   },
   "source": [
    "# Image Classification\n",
    "In this project, you'll classify images from the [CIFAR-10 dataset](https://www.cs.toronto.edu/~kriz/cifar.html).  The dataset consists of airplanes, dogs, cats, and other objects. You'll preprocess the images, then train a convolutional neural network on all the samples. The images need to be normalized and the labels need to be one-hot encoded.  You'll get to apply what you learned and build a convolutional, max pooling, dropout, and fully connected layers.  At the end, you'll get to see your neural network's predictions on the sample images.\n",
    "## Get the Data\n",
    "Run the following cell to download the [CIFAR-10 dataset for python](https://www.cs.toronto.edu/~kriz/cifar-10-python.tar.gz)."
   ]
  },
  {
   "cell_type": "code",
   "execution_count": 1,
   "metadata": {},
   "outputs": [
    {
     "name": "stdout",
     "output_type": "stream",
     "text": [
      "All files found!\n"
     ]
    }
   ],
   "source": [
    "\"\"\"\n",
    "DON'T MODIFY ANYTHING IN THIS CELL THAT IS BELOW THIS LINE\n",
    "\"\"\"\n",
    "from urllib.request import urlretrieve\n",
    "from os.path import isfile, isdir\n",
    "from tqdm import tqdm\n",
    "import problem_unittests as tests\n",
    "import tarfile\n",
    "\n",
    "cifar10_dataset_folder_path = 'cifar-10-batches-py'\n",
    "\n",
    "# Use Floyd's cifar-10 dataset if present\n",
    "floyd_cifar10_location = '/input/cifar-10/python.tar.gz'\n",
    "if isfile(floyd_cifar10_location):\n",
    "    tar_gz_path = floyd_cifar10_location\n",
    "else:\n",
    "    tar_gz_path = 'cifar-10-python.tar.gz'\n",
    "\n",
    "class DLProgress(tqdm):\n",
    "    last_block = 0\n",
    "\n",
    "    def hook(self, block_num=1, block_size=1, total_size=None):\n",
    "        self.total = total_size\n",
    "        self.update((block_num - self.last_block) * block_size)\n",
    "        self.last_block = block_num\n",
    "\n",
    "if not isfile(tar_gz_path):\n",
    "    with DLProgress(unit='B', unit_scale=True, miniters=1, desc='CIFAR-10 Dataset') as pbar:\n",
    "        urlretrieve(\n",
    "            'https://www.cs.toronto.edu/~kriz/cifar-10-python.tar.gz',\n",
    "            tar_gz_path,\n",
    "            pbar.hook)\n",
    "\n",
    "if not isdir(cifar10_dataset_folder_path):\n",
    "    with tarfile.open(tar_gz_path) as tar:\n",
    "        tar.extractall()\n",
    "        tar.close()\n",
    "\n",
    "\n",
    "tests.test_folder_path(cifar10_dataset_folder_path)"
   ]
  },
  {
   "cell_type": "markdown",
   "metadata": {},
   "source": [
    "## Explore the Data\n",
    "The dataset is broken into batches to prevent your machine from running out of memory.  The CIFAR-10 dataset consists of 5 batches, named `data_batch_1`, `data_batch_2`, etc.. Each batch contains the labels and images that are one of the following:\n",
    "* airplane\n",
    "* automobile\n",
    "* bird\n",
    "* cat\n",
    "* deer\n",
    "* dog\n",
    "* frog\n",
    "* horse\n",
    "* ship\n",
    "* truck\n",
    "\n",
    "Understanding a dataset is part of making predictions on the data.  Play around with the code cell below by changing the `batch_id` and `sample_id`. The `batch_id` is the id for a batch (1-5). The `sample_id` is the id for a image and label pair in the batch.\n",
    "\n",
    "Ask yourself \"What are all possible labels?\", \"What is the range of values for the image data?\", \"Are the labels in order or random?\".  Answers to questions like these will help you preprocess the data and end up with better predictions."
   ]
  },
  {
   "cell_type": "code",
   "execution_count": 2,
   "metadata": {},
   "outputs": [
    {
     "name": "stdout",
     "output_type": "stream",
     "text": [
      "\n",
      "Stats of batch 1:\n",
      "Samples: 10000\n",
      "Label Counts: {0: 1005, 1: 974, 2: 1032, 3: 1016, 4: 999, 5: 937, 6: 1030, 7: 1001, 8: 1025, 9: 981}\n",
      "First 20 Labels: [6, 9, 9, 4, 1, 1, 2, 7, 8, 3, 4, 7, 7, 2, 9, 9, 9, 3, 2, 6]\n",
      "\n",
      "Example of Image 6:\n",
      "Image - Min Value: 7 Max Value: 249\n",
      "Image - Shape: (32, 32, 3)\n",
      "Label - Label Id: 2 Name: bird\n"
     ]
    },
    {
     "data": {
      "image/png": "[encoded data removed]",
      "text/plain": [
       "<matplotlib.figure.Figure at 0x7f906dc7eb70>"
      ]
     },
     "metadata": {
      "image/png": {
       "height": 250,
       "width": 253
      }
     },
     "output_type": "display_data"
    }
   ],
   "source": [
    "%matplotlib inline\n",
    "%config InlineBackend.figure_format = 'retina'\n",
    "\n",
    "import helper\n",
    "import numpy as np\n",
    "\n",
    "# Explore the dataset\n",
    "batch_id = 1\n",
    "sample_id = 6\n",
    "helper.display_stats(cifar10_dataset_folder_path, batch_id, sample_id)"
   ]
  },
  {
   "cell_type": "markdown",
   "metadata": {},
   "source": [
    "## Implement Preprocess Functions\n",
    "### Normalize\n",
    "In the cell below, implement the `normalize` function to take in image data, `x`, and return it as a normalized Numpy array. The values should be in the range of 0 to 1, inclusive.  The return object should be the same shape as `x`."
   ]
  },
  {
   "cell_type": "code",
   "execution_count": 3,
   "metadata": {},
   "outputs": [
    {
     "name": "stdout",
     "output_type": "stream",
     "text": [
      "Tests Passed\n"
     ]
    }
   ],
   "source": [
    "def normalize(x):\n",
    "    \"\"\"\n",
    "    Normalize a list of sample image data in the range of 0 to 1\n",
    "    : x: List of image data.  The image shape is (32, 32, 3)\n",
    "    : return: Numpy array of normalize data\n",
    "    \"\"\"\n",
    "    # TODO: Implement Function\n",
    "    if len(x) == 0:\n",
    "        return np.array()\n",
    "    first_image = x[0]\n",
    "    n_images = len(x)\n",
    "    height = first_image.shape[0]\n",
    "    width = first_image.shape[1]\n",
    "    deepth = first_image.shape[2]\n",
    "    images = np.zeros((n_images, height, width, deepth))\n",
    "    for index,image in enumerate(x):\n",
    "        images[index] = np.divide(np.array(image), 256)\n",
    "    return images\n",
    "\n",
    "\n",
    "\"\"\"\n",
    "DON'T MODIFY ANYTHING IN THIS CELL THAT IS BELOW THIS LINE\n",
    "\"\"\"\n",
    "tests.test_normalize(normalize)"
   ]
  },
  {
   "cell_type": "markdown",
   "metadata": {},
   "source": [
    "### One-hot encode\n",
    "Just like the previous code cell, you'll be implementing a function for preprocessing.  This time, you'll implement the `one_hot_encode` function. The input, `x`, are a list of labels.  Implement the function to return the list of labels as One-Hot encoded Numpy array.  The possible values for labels are 0 to 9. The one-hot encoding function should return the same encoding for each value between each call to `one_hot_encode`.  Make sure to save the map of encodings outside the function.\n",
    "\n",
    "Hint: Don't reinvent the wheel."
   ]
  },
  {
   "cell_type": "code",
   "execution_count": 4,
   "metadata": {},
   "outputs": [
    {
     "name": "stdout",
     "output_type": "stream",
     "text": [
      "Tests Passed\n"
     ]
    }
   ],
   "source": [
    "def one_hot_encode(x):\n",
    "    \"\"\"\n",
    "    One hot encode a list of sample labels. Return a one-hot encoded vector for each label.\n",
    "    : x: List of sample Labels\n",
    "    : return: Numpy array of one-hot encoded labels\n",
    "    \"\"\"\n",
    "    return np.eye(10)[x]\n",
    "\n",
    "\"\"\"\n",
    "DON'T MODIFY ANYTHING IN THIS CELL THAT IS BELOW THIS LINE\n",
    "\"\"\"\n",
    "tests.test_one_hot_encode(one_hot_encode)"
   ]
  },
  {
   "cell_type": "markdown",
   "metadata": {},
   "source": [
    "### Randomize Data\n",
    "As you saw from exploring the data above, the order of the samples are randomized.  It doesn't hurt to randomize it again, but you don't need to for this dataset."
   ]
  },
  {
   "cell_type": "markdown",
   "metadata": {},
   "source": [
    "## Preprocess all the data and save it\n",
    "Running the code cell below will preprocess all the CIFAR-10 data and save it to file. The code below also uses 10% of the training data for validation."
   ]
  },
  {
   "cell_type": "code",
   "execution_count": 5,
   "metadata": {
    "collapsed": true
   },
   "outputs": [],
   "source": [
    "\"\"\"\n",
    "DON'T MODIFY ANYTHING IN THIS CELL\n",
    "\"\"\"\n",
    "# Preprocess Training, Validation, and Testing Data\n",
    "helper.preprocess_and_save_data(cifar10_dataset_folder_path, normalize, one_hot_encode)"
   ]
  },
  {
   "cell_type": "markdown",
   "metadata": {},
   "source": [
    "# Check Point\n",
    "This is your first checkpoint.  If you ever decide to come back to this notebook or have to restart the notebook, you can start from here.  The preprocessed data has been saved to disk."
   ]
  },
  {
   "cell_type": "code",
   "execution_count": 1,
   "metadata": {},
   "outputs": [],
   "source": [
    "\"\"\"\n",
    "DON'T MODIFY ANYTHING IN THIS CELL\n",
    "\"\"\"\n",
    "import pickle\n",
    "import problem_unittests as tests\n",
    "import helper\n",
    "import numpy as np\n",
    "\n",
    "# Load the Preprocessed Validation data\n",
    "valid_features, valid_labels = pickle.load(open('preprocess_validation.p', mode='rb'))"
   ]
  },
  {
   "cell_type": "markdown",
   "metadata": {},
   "source": [
    "## Build the network\n",
    "For the neural network, you'll build each layer into a function.  Most of the code you've seen has been outside of functions. To test your code more thoroughly, we require that you put each layer in a function.  This allows us to give you better feedback and test for simple mistakes using our unittests before you submit your project.\n",
    "\n",
    ">**Note:** If you're finding it hard to dedicate enough time for this course each week, we've provided a small shortcut to this part of the project. In the next couple of problems, you'll have the option to use classes from the [TensorFlow Layers](https://www.tensorflow.org/api_docs/python/tf/layers) or [TensorFlow Layers (contrib)](https://www.tensorflow.org/api_guides/python/contrib.layers) packages to build each layer, except the layers you build in the \"Convolutional and Max Pooling Layer\" section.  TF Layers is similar to Keras's and TFLearn's abstraction to layers, so it's easy to pickup.\n",
    "\n",
    ">However, if you would like to get the most out of this course, try to solve all the problems _without_ using anything from the TF Layers packages. You **can** still use classes from other packages that happen to have the same name as ones you find in TF Layers! For example, instead of using the TF Layers version of the `conv2d` class, [tf.layers.conv2d](https://www.tensorflow.org/api_docs/python/tf/layers/conv2d), you would want to use the TF Neural Network version of `conv2d`, [tf.nn.conv2d](https://www.tensorflow.org/api_docs/python/tf/nn/conv2d). \n",
    "\n",
    "Let's begin!\n",
    "\n",
    "### Input\n",
    "The neural network needs to read the image data, one-hot encoded labels, and dropout keep probability. Implement the following functions\n",
    "* Implement `neural_net_image_input`\n",
    " * Return a [TF Placeholder](https://www.tensorflow.org/api_docs/python/tf/placeholder)\n",
    " * Set the shape using `image_shape` with batch size set to `None`.\n",
    " * Name the TensorFlow placeholder \"x\" using the TensorFlow `name` parameter in the [TF Placeholder](https://www.tensorflow.org/api_docs/python/tf/placeholder).\n",
    "* Implement `neural_net_label_input`\n",
    " * Return a [TF Placeholder](https://www.tensorflow.org/api_docs/python/tf/placeholder)\n",
    " * Set the shape using `n_classes` with batch size set to `None`.\n",
    " * Name the TensorFlow placeholder \"y\" using the TensorFlow `name` parameter in the [TF Placeholder](https://www.tensorflow.org/api_docs/python/tf/placeholder).\n",
    "* Implement `neural_net_keep_prob_input`\n",
    " * Return a [TF Placeholder](https://www.tensorflow.org/api_docs/python/tf/placeholder) for dropout keep probability.\n",
    " * Name the TensorFlow placeholder \"keep_prob\" using the TensorFlow `name` parameter in the [TF Placeholder](https://www.tensorflow.org/api_docs/python/tf/placeholder).\n",
    "\n",
    "These names will be used at the end of the project to load your saved model.\n",
    "\n",
    "Note: `None` for shapes in TensorFlow allow for a dynamic size."
   ]
  },
  {
   "cell_type": "code",
   "execution_count": 2,
   "metadata": {},
   "outputs": [
    {
     "name": "stdout",
     "output_type": "stream",
     "text": [
      "Image Input Tests Passed.\n",
      "Label Input Tests Passed.\n",
      "Keep Prob Tests Passed.\n"
     ]
    }
   ],
   "source": [
    "import tensorflow as tf\n",
    "\n",
    "def neural_net_image_input(image_shape):\n",
    "    \"\"\"\n",
    "    Return a Tensor for a batch of image input\n",
    "    : image_shape: Shape of the images\n",
    "    : return: Tensor for image input.\n",
    "    \"\"\"\n",
    "    return tf.placeholder(dtype=tf.float32, shape=(None, image_shape[0], image_shape[1], image_shape[2]), name=\"x\")\n",
    "\n",
    "\n",
    "def neural_net_label_input(n_classes):\n",
    "    \"\"\"\n",
    "    Return a Tensor for a batch of label input\n",
    "    : n_classes: Number of classes\n",
    "    : return: Tensor for label input.\n",
    "    \"\"\"\n",
    "    return tf.placeholder(dtype=tf.float32, shape=(None, n_classes), name=\"y\")\n",
    "\n",
    "\n",
    "def neural_net_keep_prob_input():\n",
    "    \"\"\"\n",
    "    Return a Tensor for keep probability\n",
    "    : return: Tensor for keep probability.\n",
    "    \"\"\"\n",
    "    return tf.placeholder(dtype=tf.float32, name=\"keep_prob\")\n",
    "\n",
    "\n",
    "\"\"\"\n",
    "DON'T MODIFY ANYTHING IN THIS CELL THAT IS BELOW THIS LINE\n",
    "\"\"\"\n",
    "tf.reset_default_graph()\n",
    "tests.test_nn_image_inputs(neural_net_image_input)\n",
    "tests.test_nn_label_inputs(neural_net_label_input)\n",
    "tests.test_nn_keep_prob_inputs(neural_net_keep_prob_input)"
   ]
  },
  {
   "cell_type": "markdown",
   "metadata": {},
   "source": [
    "### Convolution and Max Pooling Layer\n",
    "Convolution layers have a lot of success with images. For this code cell, you should implement the function `conv2d_maxpool` to apply convolution then max pooling:\n",
    "* Create the weight and bias using `conv_ksize`, `conv_num_outputs` and the shape of `x_tensor`.\n",
    "* Apply a convolution to `x_tensor` using weight and `conv_strides`.\n",
    " * We recommend you use same padding, but you're welcome to use any padding.\n",
    "* Add bias\n",
    "* Add a nonlinear activation to the convolution.\n",
    "* Apply Max Pooling using `pool_ksize` and `pool_strides`.\n",
    " * We recommend you use same padding, but you're welcome to use any padding.\n",
    "\n",
    "**Note:** You **can't** use [TensorFlow Layers](https://www.tensorflow.org/api_docs/python/tf/layers) or [TensorFlow Layers (contrib)](https://www.tensorflow.org/api_guides/python/contrib.layers) for **this** layer, but you can still use TensorFlow's [Neural Network](https://www.tensorflow.org/api_docs/python/tf/nn) package. You may still use the shortcut option for all the **other** layers."
   ]
  },
  {
   "cell_type": "code",
   "execution_count": 3,
   "metadata": {},
   "outputs": [
    {
     "name": "stdout",
     "output_type": "stream",
     "text": [
      "Tests Passed\n"
     ]
    }
   ],
   "source": [
    "def conv2d_maxpool(x_tensor, conv_num_outputs, conv_ksize, conv_strides, pool_ksize, pool_strides):\n",
    "    \"\"\"\n",
    "    Apply convolution then max pooling to x_tensor\n",
    "    :param x_tensor: TensorFlow Tensor\n",
    "    :param conv_num_outputs: Number of outputs for the convolutional layer\n",
    "    :param conv_ksize: kernal size 2-D Tuple for the convolutional layer\n",
    "    :param conv_strides: Stride 2-D Tuple for convolution\n",
    "    :param pool_ksize: kernal size 2-D Tuple for pool\n",
    "    :param pool_strides: Stride 2-D Tuple for pool\n",
    "    : return: A tensor that represents convolution and max pooling of x_tensor\n",
    "    \"\"\"\n",
    "    filter_size_height = conv_ksize[0]\n",
    "    filter_size_width = conv_ksize[1]\n",
    "    channels = int(x_tensor.shape[3])\n",
    "\n",
    "    weight = tf.Variable(tf.truncated_normal([filter_size_height, filter_size_width, channels, conv_num_outputs]))\n",
    "    bias = tf.Variable(tf.zeros(conv_num_outputs))\n",
    "    conv_layer = tf.nn.conv2d(x_tensor, weight, [1,conv_strides[0], conv_strides[1], 1], 'SAME')\n",
    "    conv_layer = tf.nn.bias_add(conv_layer, bias)\n",
    "    conv_layer = tf.nn.relu(conv_layer)\n",
    "    max_pooling = tf.nn.max_pool(conv_layer, [1, pool_ksize[0], pool_ksize[1], 1], [1, pool_strides[0], pool_strides[1], 1], 'SAME')\n",
    "    return max_pooling\n",
    "\n",
    "\n",
    "\"\"\"\n",
    "DON'T MODIFY ANYTHING IN THIS CELL THAT IS BELOW THIS LINE\n",
    "\"\"\"\n",
    "tf.reset_default_graph()\n",
    "tests.test_con_pool(conv2d_maxpool)"
   ]
  },
  {
   "cell_type": "markdown",
   "metadata": {},
   "source": [
    "### Flatten Layer\n",
    "Implement the `flatten` function to change the dimension of `x_tensor` from a 4-D tensor to a 2-D tensor.  The output should be the shape (*Batch Size*, *Flattened Image Size*). Shortcut option: you can use classes from the [TensorFlow Layers](https://www.tensorflow.org/api_docs/python/tf/layers) or [TensorFlow Layers (contrib)](https://www.tensorflow.org/api_guides/python/contrib.layers) packages for this layer. For more of a challenge, only use other TensorFlow packages."
   ]
  },
  {
   "cell_type": "code",
   "execution_count": 4,
   "metadata": {},
   "outputs": [
    {
     "name": "stdout",
     "output_type": "stream",
     "text": [
      "Tests Passed\n"
     ]
    }
   ],
   "source": [
    "def flatten(x_tensor):\n",
    "    \"\"\"\n",
    "    Flatten x_tensor to (Batch Size, Flattened Image Size)\n",
    "    : x_tensor: A tensor of size (Batch Size, ...), where ... are the image dimensions.\n",
    "    : return: A tensor of size (Batch Size, Flattened Image Size).\n",
    "    \"\"\"\n",
    "    return tf.reshape(x_tensor, [-1, int(np.prod(x_tensor.shape[1:]))])\n",
    "\n",
    "\n",
    "\"\"\"\n",
    "DON'T MODIFY ANYTHING IN THIS CELL THAT IS BELOW THIS LINE\n",
    "\"\"\"\n",
    "tests.test_flatten(flatten)"
   ]
  },
  {
   "cell_type": "markdown",
   "metadata": {},
   "source": [
    "### Fully-Connected Layer\n",
    "Implement the `fully_conn` function to apply a fully connected layer to `x_tensor` with the shape (*Batch Size*, *num_outputs*). Shortcut option: you can use classes from the [TensorFlow Layers](https://www.tensorflow.org/api_docs/python/tf/layers) or [TensorFlow Layers (contrib)](https://www.tensorflow.org/api_guides/python/contrib.layers) packages for this layer. For more of a challenge, only use other TensorFlow packages."
   ]
  },
  {
   "cell_type": "code",
   "execution_count": 5,
   "metadata": {},
   "outputs": [
    {
     "name": "stdout",
     "output_type": "stream",
     "text": [
      "Tests Passed\n"
     ]
    }
   ],
   "source": [
    "def fully_conn(x_tensor, num_outputs):\n",
    "    \"\"\"\n",
    "    Apply a fully connected layer to x_tensor using weight and bias\n",
    "    : x_tensor: A 2-D tensor where the first dimension is batch size.\n",
    "    : num_outputs: The number of output that the new tensor should be.\n",
    "    : return: A 2-D tensor where the second dimension is num_outputs.\n",
    "    \"\"\"\n",
    "    \n",
    "    return tf.contrib.layers.fully_connected(x_tensor,num_outputs)\n",
    "\n",
    "\n",
    "\"\"\"\n",
    "DON'T MODIFY ANYTHING IN THIS CELL THAT IS BELOW THIS LINE\n",
    "\"\"\"\n",
    "tests.test_fully_conn(fully_conn)"
   ]
  },
  {
   "cell_type": "markdown",
   "metadata": {},
   "source": [
    "### Output Layer\n",
    "Implement the `output` function to apply a fully connected layer to `x_tensor` with the shape (*Batch Size*, *num_outputs*). Shortcut option: you can use classes from the [TensorFlow Layers](https://www.tensorflow.org/api_docs/python/tf/layers) or [TensorFlow Layers (contrib)](https://www.tensorflow.org/api_guides/python/contrib.layers) packages for this layer. For more of a challenge, only use other TensorFlow packages.\n",
    "\n",
    "**Note:** Activation, softmax, or cross entropy should **not** be applied to this."
   ]
  },
  {
   "cell_type": "code",
   "execution_count": 6,
   "metadata": {},
   "outputs": [
    {
     "name": "stdout",
     "output_type": "stream",
     "text": [
      "Tests Passed\n"
     ]
    }
   ],
   "source": [
    "def output(x_tensor, num_outputs):\n",
    "    \"\"\"\n",
    "    Apply a output layer to x_tensor using weight and bias\n",
    "    : x_tensor: A 2-D tensor where the first dimension is batch size.\n",
    "    : num_outputs: The number of output that the new tensor should be.\n",
    "    : return: A 2-D tensor where the second dimension is num_outputs.\n",
    "    \"\"\"\n",
    "#     channels = int(x_tensor.shape[1])\n",
    "#     weight = tf.Variable(tf.truncated_normal([channels, num_outputs]))\n",
    "#     bias = tf.Variable(tf.zeros(num_outputs))\n",
    "#     output = tf.matmul(x_tensor, weight) + bias\n",
    "#     output = tf.sigmoid(output)\n",
    "    return tf.layers.dense(x_tensor,num_outputs)\n",
    "\n",
    "\n",
    "\"\"\"\n",
    "DON'T MODIFY ANYTHING IN THIS CELL THAT IS BELOW THIS LINE\n",
    "\"\"\"\n",
    "tests.test_output(output)"
   ]
  },
  {
   "cell_type": "markdown",
   "metadata": {},
   "source": [
    "### Create Convolutional Model\n",
    "Implement the function `conv_net` to create a convolutional neural network model. The function takes in a batch of images, `x`, and outputs logits.  Use the layers you created above to create this model:\n",
    "\n",
    "* Apply 1, 2, or 3 Convolution and Max Pool layers\n",
    "* Apply a Flatten Layer\n",
    "* Apply 1, 2, or 3 Fully Connected Layers\n",
    "* Apply an Output Layer\n",
    "* Return the output\n",
    "* Apply [TensorFlow's Dropout](https://www.tensorflow.org/api_docs/python/tf/nn/dropout) to one or more layers in the model using `keep_prob`. "
   ]
  },
  {
   "cell_type": "code",
   "execution_count": 7,
   "metadata": {},
   "outputs": [
    {
     "name": "stdout",
     "output_type": "stream",
     "text": [
      "Neural Network Built!\n"
     ]
    }
   ],
   "source": [
    "def conv_net(x, keep_prob):\n",
    "    \"\"\"\n",
    "    Create a convolutional neural network model\n",
    "    : x: Placeholder tensor that holds image data.\n",
    "    : keep_prob: Placeholder tensor that hold dropout keep probability.\n",
    "    : return: Tensor that represents logits\n",
    "    \"\"\"\n",
    "    # TODO: Apply 1, 2, or 3 Convolution and Max Pool layers\n",
    "    #    Play around with different number of outputs, kernel size and stride\n",
    "    # Function Definition from Above:\n",
    "    #    conv2d_maxpool(x_tensor, conv_num_outputs, conv_ksize, conv_strides, pool_ksize, pool_strides)\n",
    "    conv1_num_outputs = 32\n",
    "    conv1_ksize = (3, 3)\n",
    "    conv1_strides = (1, 1)\n",
    "    pool_ksize = (2, 2)\n",
    "    pool_strides = (2, 2)\n",
    "    conv_layer1 = conv2d_maxpool(x, conv1_num_outputs, conv1_ksize, conv1_strides, pool_ksize, pool_strides)\n",
    "\n",
    "\n",
    "    conv2_num_outputs = 64\n",
    "    conv2_ksize = (3, 3)\n",
    "    conv2_strides = (1, 1)\n",
    "    conv_layer2 = conv2d_maxpool(conv_layer1, conv2_num_outputs, conv2_ksize, conv2_strides, pool_ksize, pool_strides)\n",
    "\n",
    "#     conv3_num_outputs = 256\n",
    "#     conv3_ksize = (3, 3)  \n",
    "#     conv3_strides = (1, 1)\n",
    "#     pool3_ksize = (1,1)\n",
    "#     pool3_strides = (1,1)\n",
    "#     conv_layer3 = conv2d_maxpool(conv_layer2, conv3_num_outputs, conv3_ksize, conv3_strides, pool_ksize, pool_strides)\n",
    "    \n",
    "    # TODO: Apply a Flatten Layer\n",
    "    # Function Definition from Above:\n",
    "    #   flatten(x_tensor)\n",
    "    flatten_layer = flatten(conv_layer2)\n",
    "\n",
    "    # TODO: Apply 1, 2, or 3 Fully Connected Layers\n",
    "    #    Play around with different number of outputs\n",
    "    # Function Definition from Above:\n",
    "    #   fully_conn(x_tensor, num_outputs)\n",
    "    dropout_layer = tf.nn.dropout(flatten_layer,keep_prob)\n",
    "    \n",
    "#     fully_num_outputs1 = 100\n",
    "#     fully_layer = fully_conn(dropout_layer, fully_num_outputs1)\n",
    "    \n",
    "    fully_num_outputs2 = int(dropout_layer.shape[1])\n",
    "    fully_layer2 = fully_conn(dropout_layer, fully_num_outputs2)\n",
    "\n",
    "    \n",
    "    # TODO: Apply an Output Layer\n",
    "    #    Set this to the number of classes\n",
    "    # Function Definition from Above:\n",
    "    #   output(x_tensor, num_outputs)\n",
    "    output_result = output(fully_layer2, 10)\n",
    "\n",
    "    # TODO: return output\n",
    "    return output_result\n",
    "\n",
    "\n",
    "\"\"\"\n",
    "DON'T MODIFY ANYTHING IN THIS CELL THAT IS BELOW THIS LINE\n",
    "\"\"\"\n",
    "\n",
    "##############################\n",
    "## Build the Neural Network ##\n",
    "##############################\n",
    "\n",
    "# Remove previous weights, bias, inputs, etc..\n",
    "tf.reset_default_graph()\n",
    "\n",
    "# Inputs\n",
    "x = neural_net_image_input((32, 32, 3))\n",
    "y = neural_net_label_input(10)\n",
    "keep_prob = neural_net_keep_prob_input()\n",
    "\n",
    "# Model\n",
    "logits = conv_net(x, keep_prob)\n",
    "\n",
    "# Name logits Tensor, so that is can be loaded from disk after training\n",
    "logits = tf.identity(logits, name='logits')\n",
    "\n",
    "# Loss and Optimizer\n",
    "cost = tf.reduce_mean(tf.nn.softmax_cross_entropy_with_logits(logits=logits, labels=y))\n",
    "optimizer = tf.train.AdamOptimizer().minimize(cost)\n",
    "\n",
    "# Accuracy\n",
    "correct_pred = tf.equal(tf.argmax(logits, 1), tf.argmax(y, 1))\n",
    "accuracy = tf.reduce_mean(tf.cast(correct_pred, tf.float32), name='accuracy')\n",
    "\n",
    "tests.test_conv_net(conv_net)"
   ]
  },
  {
   "cell_type": "markdown",
   "metadata": {},
   "source": [
    "## Train the Neural Network\n",
    "### Single Optimization\n",
    "Implement the function `train_neural_network` to do a single optimization.  The optimization should use `optimizer` to optimize in `session` with a `feed_dict` of the following:\n",
    "* `x` for image input\n",
    "* `y` for labels\n",
    "* `keep_prob` for keep probability for dropout\n",
    "\n",
    "This function will be called for each batch, so `tf.global_variables_initializer()` has already been called.\n",
    "\n",
    "Note: Nothing needs to be returned. This function is only optimizing the neural network."
   ]
  },
  {
   "cell_type": "code",
   "execution_count": 8,
   "metadata": {},
   "outputs": [
    {
     "name": "stdout",
     "output_type": "stream",
     "text": [
      "Tests Passed\n"
     ]
    }
   ],
   "source": [
    "def train_neural_network(session, optimizer, keep_probability, feature_batch, label_batch):\n",
    "    \"\"\"\n",
    "    Optimize the session on a batch of images and labels\n",
    "    : session: Current TensorFlow session\n",
    "    : optimizer: TensorFlow optimizer function\n",
    "    : keep_probability: keep probability\n",
    "    : feature_batch: Batch of Numpy image data\n",
    "    : label_batch: Batch of Numpy label data\n",
    "    \"\"\"\n",
    "    session.run(optimizer,{keep_prob : keep_probability, x:feature_batch, y:label_batch})\n",
    "\n",
    "\n",
    "\"\"\"\n",
    "DON'T MODIFY ANYTHING IN THIS CELL THAT IS BELOW THIS LINE\n",
    "\"\"\"\n",
    "tests.test_train_nn(train_neural_network)"
   ]
  },
  {
   "cell_type": "markdown",
   "metadata": {},
   "source": [
    "### Show Stats\n",
    "Implement the function `print_stats` to print loss and validation accuracy.  Use the global variables `valid_features` and `valid_labels` to calculate validation accuracy.  Use a keep probability of `1.0` to calculate the loss and validation accuracy."
   ]
  },
  {
   "cell_type": "code",
   "execution_count": 9,
   "metadata": {
    "collapsed": true
   },
   "outputs": [],
   "source": [
    "def print_stats(session, feature_batch, label_batch, cost, accuracy):\n",
    "    \"\"\"\n",
    "    Print information about loss and validation accuracy\n",
    "    : session: Current TensorFlow session\n",
    "    : feature_batch: Batch of Numpy image data\n",
    "    : label_batch: Batch of Numpy label data\n",
    "    : cost: TensorFlow cost function\n",
    "    : accuracy: TensorFlow accuracy function\n",
    "    \"\"\"\n",
    "    valid_accuracy = session.run(accuracy, {x : valid_features, y : valid_labels, keep_prob : 1.0})\n",
    "    accuracy_result = session.run(accuracy, {x : feature_batch, y : label_batch, keep_prob : 1.0})\n",
    "    cost_result = session.run(cost, {x : feature_batch, y : label_batch, keep_prob : 1.0})\n",
    "    print(\"valid_accuracy : \", valid_accuracy, \", accuracy : \",accuracy_result, \", cost : \",cost_result)\n",
    "    "
   ]
  },
  {
   "cell_type": "markdown",
   "metadata": {},
   "source": [
    "### Hyperparameters\n",
    "Tune the following parameters:\n",
    "* Set `epochs` to the number of iterations until the network stops learning or start overfitting\n",
    "* Set `batch_size` to the highest number that your machine has memory for.  Most people set them to common sizes of memory:\n",
    " * 64\n",
    " * 128\n",
    " * 256\n",
    " * ...\n",
    "* Set `keep_probability` to the probability of keeping a node using dropout"
   ]
  },
  {
   "cell_type": "code",
   "execution_count": 10,
   "metadata": {
    "collapsed": true
   },
   "outputs": [],
   "source": [
    "# TODO: Tune Parameters\n",
    "epochs = 50\n",
    "batch_size = 256\n",
    "keep_probability = 0.5"
   ]
  },
  {
   "cell_type": "markdown",
   "metadata": {},
   "source": [
    "### Train on a Single CIFAR-10 Batch\n",
    "Instead of training the neural network on all the CIFAR-10 batches of data, let's use a single batch. This should save time while you iterate on the model to get a better accuracy.  Once the final validation accuracy is 50% or greater, run the model on all the data in the next section."
   ]
  },
  {
   "cell_type": "code",
   "execution_count": 11,
   "metadata": {},
   "outputs": [
    {
     "name": "stdout",
     "output_type": "stream",
     "text": [
      "Checking the Training on a Single Batch...\n",
      " Epoch  1, CIFAR-10 Batch 1:  valid_accuracy :  0.1466 , accuracy :  0.125 , cost :  2.4936\n",
      " Epoch  2, CIFAR-10 Batch 1:  valid_accuracy :  0.1754 , accuracy :  0.175 , cost :  2.19939\n",
      " Epoch  3, CIFAR-10 Batch 1:  valid_accuracy :  0.2556 , accuracy :  0.225 , cost :  2.12902\n",
      " Epoch  4, CIFAR-10 Batch 1:  valid_accuracy :  0.297 , accuracy :  0.225 , cost :  2.07082\n",
      " Epoch  5, CIFAR-10 Batch 1:  valid_accuracy :  0.3092 , accuracy :  0.375 , cost :  1.97844\n",
      " Epoch  6, CIFAR-10 Batch 1:  valid_accuracy :  0.3398 , accuracy :  0.375 , cost :  1.87957\n",
      " Epoch  7, CIFAR-10 Batch 1:  valid_accuracy :  0.3598 , accuracy :  0.425 , cost :  1.81516\n",
      " Epoch  8, CIFAR-10 Batch 1:  valid_accuracy :  0.3698 , accuracy :  0.45 , cost :  1.7314\n",
      " Epoch  9, CIFAR-10 Batch 1:  valid_accuracy :  0.4134 , accuracy :  0.5 , cost :  1.62718\n",
      " Epoch 10, CIFAR-10 Batch 1:  valid_accuracy :  0.416 , accuracy :  0.475 , cost :  1.56652\n",
      " Epoch 11, CIFAR-10 Batch 1:  valid_accuracy :  0.404 , accuracy :  0.575 , cost :  1.45585\n",
      " Epoch 12, CIFAR-10 Batch 1:  valid_accuracy :  0.447 , accuracy :  0.625 , cost :  1.37882\n",
      " Epoch 13, CIFAR-10 Batch 1:  valid_accuracy :  0.4528 , accuracy :  0.55 , cost :  1.32874\n",
      " Epoch 14, CIFAR-10 Batch 1:  valid_accuracy :  0.4498 , accuracy :  0.6 , cost :  1.25453\n",
      " Epoch 15, CIFAR-10 Batch 1:  valid_accuracy :  0.4718 , accuracy :  0.6 , cost :  1.19395\n",
      " Epoch 16, CIFAR-10 Batch 1:  valid_accuracy :  0.4606 , accuracy :  0.65 , cost :  1.1554\n",
      " Epoch 17, CIFAR-10 Batch 1:  valid_accuracy :  0.472 , accuracy :  0.7 , cost :  1.08904\n",
      " Epoch 18, CIFAR-10 Batch 1:  valid_accuracy :  0.5008 , accuracy :  0.65 , cost :  1.0485\n",
      " Epoch 19, CIFAR-10 Batch 1:  valid_accuracy :  0.493 , accuracy :  0.725 , cost :  1.0308\n",
      " Epoch 20, CIFAR-10 Batch 1:  valid_accuracy :  0.4956 , accuracy :  0.7 , cost :  0.9704\n",
      " Epoch 21, CIFAR-10 Batch 1:  valid_accuracy :  0.4942 , accuracy :  0.7 , cost :  0.935054\n",
      " Epoch 22, CIFAR-10 Batch 1:  valid_accuracy :  0.5052 , accuracy :  0.725 , cost :  0.854523\n",
      " Epoch 23, CIFAR-10 Batch 1:  valid_accuracy :  0.5076 , accuracy :  0.725 , cost :  0.808949\n",
      " Epoch 24, CIFAR-10 Batch 1:  valid_accuracy :  0.5162 , accuracy :  0.75 , cost :  0.793723\n",
      " Epoch 25, CIFAR-10 Batch 1:  valid_accuracy :  0.5134 , accuracy :  0.75 , cost :  0.75067\n",
      " Epoch 26, CIFAR-10 Batch 1:  valid_accuracy :  0.512 , accuracy :  0.8 , cost :  0.689322\n",
      " Epoch 27, CIFAR-10 Batch 1:  valid_accuracy :  0.512 , accuracy :  0.775 , cost :  0.669018\n",
      " Epoch 28, CIFAR-10 Batch 1:  valid_accuracy :  0.5172 , accuracy :  0.85 , cost :  0.683081\n",
      " Epoch 29, CIFAR-10 Batch 1:  valid_accuracy :  0.5268 , accuracy :  0.775 , cost :  0.630874\n",
      " Epoch 30, CIFAR-10 Batch 1:  valid_accuracy :  0.5226 , accuracy :  0.8 , cost :  0.613498\n",
      " Epoch 31, CIFAR-10 Batch 1:  valid_accuracy :  0.5256 , accuracy :  0.825 , cost :  0.594838\n",
      " Epoch 32, CIFAR-10 Batch 1:  valid_accuracy :  0.5008 , accuracy :  0.9 , cost :  0.556311\n",
      " Epoch 33, CIFAR-10 Batch 1:  valid_accuracy :  0.5 , accuracy :  0.85 , cost :  0.520404\n",
      " Epoch 34, CIFAR-10 Batch 1:  valid_accuracy :  0.524 , accuracy :  0.825 , cost :  0.514129\n",
      " Epoch 35, CIFAR-10 Batch 1:  valid_accuracy :  0.5104 , accuracy :  0.925 , cost :  0.50306\n",
      " Epoch 36, CIFAR-10 Batch 1:  valid_accuracy :  0.5158 , accuracy :  0.875 , cost :  0.501233\n",
      " Epoch 37, CIFAR-10 Batch 1:  valid_accuracy :  0.5272 , accuracy :  0.9 , cost :  0.453151\n",
      " Epoch 38, CIFAR-10 Batch 1:  valid_accuracy :  0.5302 , accuracy :  0.875 , cost :  0.448874\n",
      " Epoch 39, CIFAR-10 Batch 1:  valid_accuracy :  0.5252 , accuracy :  0.875 , cost :  0.437357\n",
      " Epoch 40, CIFAR-10 Batch 1:  valid_accuracy :  0.5254 , accuracy :  0.9 , cost :  0.41307\n",
      " Epoch 41, CIFAR-10 Batch 1:  valid_accuracy :  0.505 , accuracy :  0.9 , cost :  0.404928\n",
      " Epoch 42, CIFAR-10 Batch 1:  valid_accuracy :  0.5308 , accuracy :  0.9 , cost :  0.38959\n",
      " Epoch 43, CIFAR-10 Batch 1:  valid_accuracy :  0.5176 , accuracy :  0.9 , cost :  0.368682\n",
      " Epoch 44, CIFAR-10 Batch 1:  valid_accuracy :  0.5266 , accuracy :  0.9 , cost :  0.338857\n",
      " Epoch 45, CIFAR-10 Batch 1:  valid_accuracy :  0.5156 , accuracy :  0.925 , cost :  0.323647\n",
      " Epoch 46, CIFAR-10 Batch 1:  valid_accuracy :  0.539 , accuracy :  0.95 , cost :  0.317271\n",
      " Epoch 47, CIFAR-10 Batch 1:  valid_accuracy :  0.5316 , accuracy :  0.975 , cost :  0.272575\n",
      " Epoch 48, CIFAR-10 Batch 1:  valid_accuracy :  0.5302 , accuracy :  0.925 , cost :  0.277638\n",
      " Epoch 49, CIFAR-10 Batch 1:  valid_accuracy :  0.5258 , accuracy :  0.95 , cost :  0.277753\n",
      " Epoch 50, CIFAR-10 Batch 1:  valid_accuracy :  0.5296 , accuracy :  0.975 , cost :  0.233845\n"
     ]
    }
   ],
   "source": [
    "\"\"\"\n",
    "DON'T MODIFY ANYTHING IN THIS CELL\n",
    "\"\"\"\n",
    "tf.reset_default_graph\n",
    "print('Checking the Training on a Single Batch...')\n",
    "with tf.Session() as sess:\n",
    "    # Initializing the variables\n",
    "    sess.run(tf.global_variables_initializer())\n",
    "    \n",
    "    # Training cycle\n",
    "    for epoch in range(epochs):\n",
    "        batch_id = 1\n",
    "        for batch_features, batch_labels in helper.load_preprocess_training_batch(batch_id, batch_size):\n",
    "            train_neural_network(sess, optimizer, keep_probability, batch_features, batch_labels)\n",
    "        print(' Epoch {:>2}, CIFAR-10 Batch {}:  '.format(epoch + 1, batch_id), end='')\n",
    "        print_stats(sess, batch_features, batch_labels, cost, accuracy)"
   ]
  },
  {
   "cell_type": "markdown",
   "metadata": {},
   "source": [
    "### Fully Train the Model\n",
    "Now that you got a good accuracy with a single CIFAR-10 batch, try it with all five batches."
   ]
  },
  {
   "cell_type": "code",
   "execution_count": 12,
   "metadata": {},
   "outputs": [
    {
     "name": "stdout",
     "output_type": "stream",
     "text": [
      "Training...\n",
      "Epoch  1, CIFAR-10 Batch 1:  valid_accuracy :  0.1006 , accuracy :  0.125 , cost :  2.29389\n",
      "Epoch  1, CIFAR-10 Batch 2:  valid_accuracy :  0.2376 , accuracy :  0.225 , cost :  2.18398\n",
      "Epoch  1, CIFAR-10 Batch 3:  valid_accuracy :  0.2762 , accuracy :  0.325 , cost :  1.81216\n",
      "Epoch  1, CIFAR-10 Batch 4:  valid_accuracy :  0.2688 , accuracy :  0.3 , cost :  1.8043\n",
      "Epoch  1, CIFAR-10 Batch 5:  valid_accuracy :  0.3446 , accuracy :  0.3 , cost :  1.76073\n",
      "Epoch  2, CIFAR-10 Batch 1:  valid_accuracy :  0.3734 , accuracy :  0.2 , cost :  2.13203\n",
      "Epoch  2, CIFAR-10 Batch 2:  valid_accuracy :  0.3814 , accuracy :  0.425 , cost :  1.67161\n",
      "Epoch  2, CIFAR-10 Batch 3:  valid_accuracy :  0.3866 , accuracy :  0.45 , cost :  1.4962\n",
      "Epoch  2, CIFAR-10 Batch 4:  valid_accuracy :  0.3966 , accuracy :  0.425 , cost :  1.61861\n",
      "Epoch  2, CIFAR-10 Batch 5:  valid_accuracy :  0.4 , accuracy :  0.575 , cost :  1.54137\n",
      "Epoch  3, CIFAR-10 Batch 1:  valid_accuracy :  0.4124 , accuracy :  0.375 , cost :  1.93971\n",
      "Epoch  3, CIFAR-10 Batch 2:  valid_accuracy :  0.4164 , accuracy :  0.525 , cost :  1.43308\n",
      "Epoch  3, CIFAR-10 Batch 3:  valid_accuracy :  0.4224 , accuracy :  0.45 , cost :  1.32617\n",
      "Epoch  3, CIFAR-10 Batch 4:  valid_accuracy :  0.4398 , accuracy :  0.5 , cost :  1.48777\n",
      "Epoch  3, CIFAR-10 Batch 5:  valid_accuracy :  0.4516 , accuracy :  0.55 , cost :  1.39426\n",
      "Epoch  4, CIFAR-10 Batch 1:  valid_accuracy :  0.4568 , accuracy :  0.4 , cost :  1.75685\n",
      "Epoch  4, CIFAR-10 Batch 2:  valid_accuracy :  0.445 , accuracy :  0.525 , cost :  1.31318\n",
      "Epoch  4, CIFAR-10 Batch 3:  valid_accuracy :  0.4684 , accuracy :  0.6 , cost :  1.21168\n",
      "Epoch  4, CIFAR-10 Batch 4:  valid_accuracy :  0.478 , accuracy :  0.525 , cost :  1.39423\n",
      "Epoch  4, CIFAR-10 Batch 5:  valid_accuracy :  0.4824 , accuracy :  0.675 , cost :  1.257\n",
      "Epoch  5, CIFAR-10 Batch 1:  valid_accuracy :  0.4926 , accuracy :  0.475 , cost :  1.59331\n",
      "Epoch  5, CIFAR-10 Batch 2:  valid_accuracy :  0.4808 , accuracy :  0.525 , cost :  1.22235\n",
      "Epoch  5, CIFAR-10 Batch 3:  valid_accuracy :  0.4934 , accuracy :  0.675 , cost :  1.0858\n",
      "Epoch  5, CIFAR-10 Batch 4:  valid_accuracy :  0.515 , accuracy :  0.525 , cost :  1.29855\n",
      "Epoch  5, CIFAR-10 Batch 5:  valid_accuracy :  0.5056 , accuracy :  0.625 , cost :  1.16729\n",
      "Epoch  6, CIFAR-10 Batch 1:  valid_accuracy :  0.5192 , accuracy :  0.475 , cost :  1.50169\n",
      "Epoch  6, CIFAR-10 Batch 2:  valid_accuracy :  0.5128 , accuracy :  0.65 , cost :  1.11775\n",
      "Epoch  6, CIFAR-10 Batch 3:  valid_accuracy :  0.5196 , accuracy :  0.6 , cost :  1.02766\n",
      "Epoch  6, CIFAR-10 Batch 4:  valid_accuracy :  0.5248 , accuracy :  0.6 , cost :  1.19875\n",
      "Epoch  6, CIFAR-10 Batch 5:  valid_accuracy :  0.5182 , accuracy :  0.65 , cost :  1.09253\n",
      "Epoch  7, CIFAR-10 Batch 1:  valid_accuracy :  0.5306 , accuracy :  0.575 , cost :  1.38334\n",
      "Epoch  7, CIFAR-10 Batch 2:  valid_accuracy :  0.532 , accuracy :  0.6 , cost :  1.03819\n",
      "Epoch  7, CIFAR-10 Batch 3:  valid_accuracy :  0.535 , accuracy :  0.675 , cost :  0.96333\n",
      "Epoch  7, CIFAR-10 Batch 4:  valid_accuracy :  0.5414 , accuracy :  0.65 , cost :  1.05487\n",
      "Epoch  7, CIFAR-10 Batch 5:  valid_accuracy :  0.5156 , accuracy :  0.6 , cost :  1.0837\n",
      "Epoch  8, CIFAR-10 Batch 1:  valid_accuracy :  0.5508 , accuracy :  0.6 , cost :  1.34298\n",
      "Epoch  8, CIFAR-10 Batch 2:  valid_accuracy :  0.5466 , accuracy :  0.7 , cost :  0.977297\n",
      "Epoch  8, CIFAR-10 Batch 3:  valid_accuracy :  0.543 , accuracy :  0.65 , cost :  0.920222\n",
      "Epoch  8, CIFAR-10 Batch 4:  valid_accuracy :  0.5438 , accuracy :  0.725 , cost :  1.01409\n",
      "Epoch  8, CIFAR-10 Batch 5:  valid_accuracy :  0.5452 , accuracy :  0.675 , cost :  1.02292\n",
      "Epoch  9, CIFAR-10 Batch 1:  valid_accuracy :  0.554 , accuracy :  0.65 , cost :  1.29358\n",
      "Epoch  9, CIFAR-10 Batch 2:  valid_accuracy :  0.5452 , accuracy :  0.7 , cost :  0.913764\n",
      "Epoch  9, CIFAR-10 Batch 3:  valid_accuracy :  0.5532 , accuracy :  0.675 , cost :  0.867588\n",
      "Epoch  9, CIFAR-10 Batch 4:  valid_accuracy :  0.5586 , accuracy :  0.625 , cost :  0.993935\n",
      "Epoch  9, CIFAR-10 Batch 5:  valid_accuracy :  0.5376 , accuracy :  0.65 , cost :  0.984738\n",
      "Epoch 10, CIFAR-10 Batch 1:  valid_accuracy :  0.5512 , accuracy :  0.6 , cost :  1.2357\n",
      "Epoch 10, CIFAR-10 Batch 2:  valid_accuracy :  0.5622 , accuracy :  0.725 , cost :  0.849598\n",
      "Epoch 10, CIFAR-10 Batch 3:  valid_accuracy :  0.564 , accuracy :  0.7 , cost :  0.811069\n",
      "Epoch 10, CIFAR-10 Batch 4:  valid_accuracy :  0.5716 , accuracy :  0.7 , cost :  0.949144\n",
      "Epoch 10, CIFAR-10 Batch 5:  valid_accuracy :  0.5536 , accuracy :  0.675 , cost :  0.956574\n",
      "Epoch 11, CIFAR-10 Batch 1:  valid_accuracy :  0.5692 , accuracy :  0.65 , cost :  1.19762\n",
      "Epoch 11, CIFAR-10 Batch 2:  valid_accuracy :  0.5848 , accuracy :  0.7 , cost :  0.834485\n",
      "Epoch 11, CIFAR-10 Batch 3:  valid_accuracy :  0.5704 , accuracy :  0.725 , cost :  0.725417\n",
      "Epoch 11, CIFAR-10 Batch 4:  valid_accuracy :  0.5866 , accuracy :  0.75 , cost :  0.895913\n",
      "Epoch 11, CIFAR-10 Batch 5:  valid_accuracy :  0.5798 , accuracy :  0.7 , cost :  0.886374\n",
      "Epoch 12, CIFAR-10 Batch 1:  valid_accuracy :  0.5768 , accuracy :  0.65 , cost :  1.14485\n",
      "Epoch 12, CIFAR-10 Batch 2:  valid_accuracy :  0.5794 , accuracy :  0.7 , cost :  0.80303\n",
      "Epoch 12, CIFAR-10 Batch 3:  valid_accuracy :  0.5806 , accuracy :  0.775 , cost :  0.723494\n",
      "Epoch 12, CIFAR-10 Batch 4:  valid_accuracy :  0.5896 , accuracy :  0.725 , cost :  0.863806\n",
      "Epoch 12, CIFAR-10 Batch 5:  valid_accuracy :  0.5764 , accuracy :  0.675 , cost :  0.861466\n",
      "Epoch 13, CIFAR-10 Batch 1:  valid_accuracy :  0.5844 , accuracy :  0.675 , cost :  1.14301\n",
      "Epoch 13, CIFAR-10 Batch 2:  valid_accuracy :  0.5872 , accuracy :  0.7 , cost :  0.760517\n",
      "Epoch 13, CIFAR-10 Batch 3:  valid_accuracy :  0.5874 , accuracy :  0.725 , cost :  0.654006\n",
      "Epoch 13, CIFAR-10 Batch 4:  valid_accuracy :  0.592 , accuracy :  0.75 , cost :  0.81367\n",
      "Epoch 13, CIFAR-10 Batch 5:  valid_accuracy :  0.593 , accuracy :  0.825 , cost :  0.797659\n",
      "Epoch 14, CIFAR-10 Batch 1:  valid_accuracy :  0.5914 , accuracy :  0.675 , cost :  1.04444\n",
      "Epoch 14, CIFAR-10 Batch 2:  valid_accuracy :  0.5996 , accuracy :  0.725 , cost :  0.711016\n",
      "Epoch 14, CIFAR-10 Batch 3:  valid_accuracy :  0.584 , accuracy :  0.75 , cost :  0.644284\n",
      "Epoch 14, CIFAR-10 Batch 4:  valid_accuracy :  0.6022 , accuracy :  0.7 , cost :  0.820051\n",
      "Epoch 14, CIFAR-10 Batch 5:  valid_accuracy :  0.5904 , accuracy :  0.725 , cost :  0.805574\n",
      "Epoch 15, CIFAR-10 Batch 1:  valid_accuracy :  0.5936 , accuracy :  0.725 , cost :  1.05015\n",
      "Epoch 15, CIFAR-10 Batch 2:  valid_accuracy :  0.5984 , accuracy :  0.7 , cost :  0.729203\n",
      "Epoch 15, CIFAR-10 Batch 3:  valid_accuracy :  0.5968 , accuracy :  0.775 , cost :  0.590021\n",
      "Epoch 15, CIFAR-10 Batch 4:  valid_accuracy :  0.595 , accuracy :  0.725 , cost :  0.815256\n",
      "Epoch 15, CIFAR-10 Batch 5:  valid_accuracy :  0.5998 , accuracy :  0.775 , cost :  0.742405\n",
      "Epoch 16, CIFAR-10 Batch 1:  valid_accuracy :  0.5974 , accuracy :  0.675 , cost :  1.01721\n",
      "Epoch 16, CIFAR-10 Batch 2:  valid_accuracy :  0.606 , accuracy :  0.75 , cost :  0.669379\n",
      "Epoch 16, CIFAR-10 Batch 3:  valid_accuracy :  0.5998 , accuracy :  0.775 , cost :  0.567583\n",
      "Epoch 16, CIFAR-10 Batch 4:  valid_accuracy :  0.6072 , accuracy :  0.675 , cost :  0.769788\n",
      "Epoch 16, CIFAR-10 Batch 5:  valid_accuracy :  0.5992 , accuracy :  0.8 , cost :  0.686842\n",
      "Epoch 17, CIFAR-10 Batch 1:  valid_accuracy :  0.602 , accuracy :  0.75 , cost :  0.976365\n",
      "Epoch 17, CIFAR-10 Batch 2:  valid_accuracy :  0.6102 , accuracy :  0.725 , cost :  0.640887\n",
      "Epoch 17, CIFAR-10 Batch 3:  valid_accuracy :  0.5998 , accuracy :  0.825 , cost :  0.516672\n",
      "Epoch 17, CIFAR-10 Batch 4:  valid_accuracy :  0.6136 , accuracy :  0.75 , cost :  0.698231\n",
      "Epoch 17, CIFAR-10 Batch 5:  valid_accuracy :  0.617 , accuracy :  0.875 , cost :  0.643256\n",
      "Epoch 18, CIFAR-10 Batch 1:  valid_accuracy :  0.606 , accuracy :  0.75 , cost :  0.917585\n",
      "Epoch 18, CIFAR-10 Batch 2:  valid_accuracy :  0.6174 , accuracy :  0.75 , cost :  0.629769\n",
      "Epoch 18, CIFAR-10 Batch 3:  valid_accuracy :  0.6018 , accuracy :  0.8 , cost :  0.52251\n",
      "Epoch 18, CIFAR-10 Batch 4:  valid_accuracy :  0.6246 , accuracy :  0.775 , cost :  0.694408\n",
      "Epoch 18, CIFAR-10 Batch 5:  valid_accuracy :  0.6154 , accuracy :  0.85 , cost :  0.598694\n"
     ]
    },
    {
     "name": "stdout",
     "output_type": "stream",
     "text": [
      "Epoch 19, CIFAR-10 Batch 1:  valid_accuracy :  0.6176 , accuracy :  0.725 , cost :  0.890682\n",
      "Epoch 19, CIFAR-10 Batch 2:  valid_accuracy :  0.622 , accuracy :  0.75 , cost :  0.615862\n",
      "Epoch 19, CIFAR-10 Batch 3:  valid_accuracy :  0.5898 , accuracy :  0.9 , cost :  0.483551\n",
      "Epoch 19, CIFAR-10 Batch 4:  valid_accuracy :  0.6282 , accuracy :  0.775 , cost :  0.639062\n",
      "Epoch 19, CIFAR-10 Batch 5:  valid_accuracy :  0.618 , accuracy :  0.85 , cost :  0.566635\n",
      "Epoch 20, CIFAR-10 Batch 1:  valid_accuracy :  0.6232 , accuracy :  0.75 , cost :  0.850944\n",
      "Epoch 20, CIFAR-10 Batch 2:  valid_accuracy :  0.6272 , accuracy :  0.775 , cost :  0.565065\n",
      "Epoch 20, CIFAR-10 Batch 3:  valid_accuracy :  0.6118 , accuracy :  0.875 , cost :  0.462536\n",
      "Epoch 20, CIFAR-10 Batch 4:  valid_accuracy :  0.631 , accuracy :  0.8 , cost :  0.667268\n",
      "Epoch 20, CIFAR-10 Batch 5:  valid_accuracy :  0.6296 , accuracy :  0.875 , cost :  0.514519\n",
      "Epoch 21, CIFAR-10 Batch 1:  valid_accuracy :  0.6278 , accuracy :  0.8 , cost :  0.777546\n",
      "Epoch 21, CIFAR-10 Batch 2:  valid_accuracy :  0.6386 , accuracy :  0.85 , cost :  0.516692\n",
      "Epoch 21, CIFAR-10 Batch 3:  valid_accuracy :  0.6266 , accuracy :  0.85 , cost :  0.436905\n",
      "Epoch 21, CIFAR-10 Batch 4:  valid_accuracy :  0.6338 , accuracy :  0.825 , cost :  0.606685\n",
      "Epoch 21, CIFAR-10 Batch 5:  valid_accuracy :  0.6362 , accuracy :  0.925 , cost :  0.494845\n",
      "Epoch 22, CIFAR-10 Batch 1:  valid_accuracy :  0.6306 , accuracy :  0.8 , cost :  0.75142\n",
      "Epoch 22, CIFAR-10 Batch 2:  valid_accuracy :  0.627 , accuracy :  0.825 , cost :  0.496795\n",
      "Epoch 22, CIFAR-10 Batch 3:  valid_accuracy :  0.6214 , accuracy :  0.925 , cost :  0.430511\n",
      "Epoch 22, CIFAR-10 Batch 4:  valid_accuracy :  0.6348 , accuracy :  0.825 , cost :  0.580956\n",
      "Epoch 22, CIFAR-10 Batch 5:  valid_accuracy :  0.6314 , accuracy :  0.875 , cost :  0.49055\n",
      "Epoch 23, CIFAR-10 Batch 1:  valid_accuracy :  0.6374 , accuracy :  0.75 , cost :  0.718085\n",
      "Epoch 23, CIFAR-10 Batch 2:  valid_accuracy :  0.6378 , accuracy :  0.825 , cost :  0.476685\n",
      "Epoch 23, CIFAR-10 Batch 3:  valid_accuracy :  0.6264 , accuracy :  0.9 , cost :  0.391811\n",
      "Epoch 23, CIFAR-10 Batch 4:  valid_accuracy :  0.64 , accuracy :  0.875 , cost :  0.50953\n",
      "Epoch 23, CIFAR-10 Batch 5:  valid_accuracy :  0.6376 , accuracy :  0.9 , cost :  0.478842\n",
      "Epoch 24, CIFAR-10 Batch 1:  valid_accuracy :  0.6362 , accuracy :  0.8 , cost :  0.685204\n",
      "Epoch 24, CIFAR-10 Batch 2:  valid_accuracy :  0.635 , accuracy :  0.825 , cost :  0.432399\n",
      "Epoch 24, CIFAR-10 Batch 3:  valid_accuracy :  0.6398 , accuracy :  0.925 , cost :  0.333715\n",
      "Epoch 24, CIFAR-10 Batch 4:  valid_accuracy :  0.635 , accuracy :  0.825 , cost :  0.519199\n",
      "Epoch 24, CIFAR-10 Batch 5:  valid_accuracy :  0.6382 , accuracy :  0.9 , cost :  0.435395\n",
      "Epoch 25, CIFAR-10 Batch 1:  valid_accuracy :  0.6352 , accuracy :  0.8 , cost :  0.663555\n",
      "Epoch 25, CIFAR-10 Batch 2:  valid_accuracy :  0.6344 , accuracy :  0.825 , cost :  0.401418\n",
      "Epoch 25, CIFAR-10 Batch 3:  valid_accuracy :  0.64 , accuracy :  0.9 , cost :  0.325936\n",
      "Epoch 25, CIFAR-10 Batch 4:  valid_accuracy :  0.6408 , accuracy :  0.875 , cost :  0.472237\n",
      "Epoch 25, CIFAR-10 Batch 5:  valid_accuracy :  0.6466 , accuracy :  0.925 , cost :  0.399891\n",
      "Epoch 26, CIFAR-10 Batch 1:  valid_accuracy :  0.6414 , accuracy :  0.8 , cost :  0.617896\n",
      "Epoch 26, CIFAR-10 Batch 2:  valid_accuracy :  0.6468 , accuracy :  0.9 , cost :  0.373322\n",
      "Epoch 26, CIFAR-10 Batch 3:  valid_accuracy :  0.6452 , accuracy :  1.0 , cost :  0.287565\n",
      "Epoch 26, CIFAR-10 Batch 4:  valid_accuracy :  0.6474 , accuracy :  0.9 , cost :  0.408574\n",
      "Epoch 26, CIFAR-10 Batch 5:  valid_accuracy :  0.648 , accuracy :  0.925 , cost :  0.386684\n",
      "Epoch 27, CIFAR-10 Batch 1:  valid_accuracy :  0.6456 , accuracy :  0.825 , cost :  0.56557\n",
      "Epoch 27, CIFAR-10 Batch 2:  valid_accuracy :  0.6482 , accuracy :  0.9 , cost :  0.359615\n",
      "Epoch 27, CIFAR-10 Batch 3:  valid_accuracy :  0.6542 , accuracy :  0.95 , cost :  0.276285\n",
      "Epoch 27, CIFAR-10 Batch 4:  valid_accuracy :  0.6482 , accuracy :  0.9 , cost :  0.363731\n",
      "Epoch 27, CIFAR-10 Batch 5:  valid_accuracy :  0.6488 , accuracy :  0.925 , cost :  0.376709\n",
      "Epoch 28, CIFAR-10 Batch 1:  valid_accuracy :  0.647 , accuracy :  0.85 , cost :  0.508877\n",
      "Epoch 28, CIFAR-10 Batch 2:  valid_accuracy :  0.6492 , accuracy :  0.9 , cost :  0.303375\n",
      "Epoch 28, CIFAR-10 Batch 3:  valid_accuracy :  0.65 , accuracy :  1.0 , cost :  0.229044\n",
      "Epoch 28, CIFAR-10 Batch 4:  valid_accuracy :  0.6526 , accuracy :  0.9 , cost :  0.364302\n",
      "Epoch 28, CIFAR-10 Batch 5:  valid_accuracy :  0.6552 , accuracy :  0.95 , cost :  0.326288\n",
      "Epoch 29, CIFAR-10 Batch 1:  valid_accuracy :  0.6518 , accuracy :  0.825 , cost :  0.497131\n",
      "Epoch 29, CIFAR-10 Batch 2:  valid_accuracy :  0.636 , accuracy :  0.9 , cost :  0.296277\n",
      "Epoch 29, CIFAR-10 Batch 3:  valid_accuracy :  0.6472 , accuracy :  0.95 , cost :  0.231379\n",
      "Epoch 29, CIFAR-10 Batch 4:  valid_accuracy :  0.6496 , accuracy :  0.975 , cost :  0.326138\n",
      "Epoch 29, CIFAR-10 Batch 5:  valid_accuracy :  0.6536 , accuracy :  0.925 , cost :  0.305195\n",
      "Epoch 30, CIFAR-10 Batch 1:  valid_accuracy :  0.6546 , accuracy :  0.85 , cost :  0.457592\n",
      "Epoch 30, CIFAR-10 Batch 2:  valid_accuracy :  0.6392 , accuracy :  0.925 , cost :  0.267734\n",
      "Epoch 30, CIFAR-10 Batch 3:  valid_accuracy :  0.6534 , accuracy :  0.95 , cost :  0.20786\n",
      "Epoch 30, CIFAR-10 Batch 4:  valid_accuracy :  0.6558 , accuracy :  0.975 , cost :  0.281342\n",
      "Epoch 30, CIFAR-10 Batch 5:  valid_accuracy :  0.6594 , accuracy :  0.975 , cost :  0.277037\n",
      "Epoch 31, CIFAR-10 Batch 1:  valid_accuracy :  0.6664 , accuracy :  0.85 , cost :  0.458459\n",
      "Epoch 31, CIFAR-10 Batch 2:  valid_accuracy :  0.6488 , accuracy :  0.95 , cost :  0.248248\n",
      "Epoch 31, CIFAR-10 Batch 3:  valid_accuracy :  0.6592 , accuracy :  0.975 , cost :  0.198423\n",
      "Epoch 31, CIFAR-10 Batch 4:  valid_accuracy :  0.6588 , accuracy :  0.975 , cost :  0.270724\n",
      "Epoch 31, CIFAR-10 Batch 5:  valid_accuracy :  0.6606 , accuracy :  0.975 , cost :  0.218406\n",
      "Epoch 32, CIFAR-10 Batch 1:  valid_accuracy :  0.6678 , accuracy :  0.9 , cost :  0.364628\n",
      "Epoch 32, CIFAR-10 Batch 2:  valid_accuracy :  0.6488 , accuracy :  0.95 , cost :  0.213877\n",
      "Epoch 32, CIFAR-10 Batch 3:  valid_accuracy :  0.6668 , accuracy :  1.0 , cost :  0.15122\n",
      "Epoch 32, CIFAR-10 Batch 4:  valid_accuracy :  0.6592 , accuracy :  0.975 , cost :  0.242561\n",
      "Epoch 32, CIFAR-10 Batch 5:  valid_accuracy :  0.666 , accuracy :  0.95 , cost :  0.21176\n",
      "Epoch 33, CIFAR-10 Batch 1:  valid_accuracy :  0.6634 , accuracy :  0.875 , cost :  0.337213\n",
      "Epoch 33, CIFAR-10 Batch 2:  valid_accuracy :  0.6468 , accuracy :  0.95 , cost :  0.20802\n",
      "Epoch 33, CIFAR-10 Batch 3:  valid_accuracy :  0.6576 , accuracy :  1.0 , cost :  0.14309\n",
      "Epoch 33, CIFAR-10 Batch 4:  valid_accuracy :  0.6612 , accuracy :  0.975 , cost :  0.219629\n",
      "Epoch 33, CIFAR-10 Batch 5:  valid_accuracy :  0.6636 , accuracy :  0.975 , cost :  0.175655\n",
      "Epoch 34, CIFAR-10 Batch 1:  valid_accuracy :  0.6646 , accuracy :  0.9 , cost :  0.290189\n",
      "Epoch 34, CIFAR-10 Batch 2:  valid_accuracy :  0.66 , accuracy :  0.975 , cost :  0.143859\n",
      "Epoch 34, CIFAR-10 Batch 3:  valid_accuracy :  0.6612 , accuracy :  1.0 , cost :  0.123644\n",
      "Epoch 34, CIFAR-10 Batch 4:  valid_accuracy :  0.6602 , accuracy :  0.975 , cost :  0.179294\n",
      "Epoch 34, CIFAR-10 Batch 5:  valid_accuracy :  0.6678 , accuracy :  0.975 , cost :  0.175267\n",
      "Epoch 35, CIFAR-10 Batch 1:  valid_accuracy :  0.6564 , accuracy :  0.9 , cost :  0.279031\n",
      "Epoch 35, CIFAR-10 Batch 2:  valid_accuracy :  0.6532 , accuracy :  1.0 , cost :  0.13151\n",
      "Epoch 35, CIFAR-10 Batch 3:  valid_accuracy :  0.654 , accuracy :  1.0 , cost :  0.126896\n",
      "Epoch 35, CIFAR-10 Batch 4:  valid_accuracy :  0.6722 , accuracy :  0.95 , cost :  0.177945\n",
      "Epoch 35, CIFAR-10 Batch 5:  valid_accuracy :  0.6704 , accuracy :  0.975 , cost :  0.171498\n",
      "Epoch 36, CIFAR-10 Batch 1:  valid_accuracy :  0.6656 , accuracy :  0.925 , cost :  0.234399\n",
      "Epoch 36, CIFAR-10 Batch 2:  valid_accuracy :  0.6534 , accuracy :  0.975 , cost :  0.124142\n",
      "Epoch 36, CIFAR-10 Batch 3:  valid_accuracy :  0.6666 , accuracy :  1.0 , cost :  0.0956212\n",
      "Epoch 36, CIFAR-10 Batch 4:  valid_accuracy :  0.6676 , accuracy :  0.95 , cost :  0.184395\n"
     ]
    },
    {
     "name": "stdout",
     "output_type": "stream",
     "text": [
      "Epoch 36, CIFAR-10 Batch 5:  valid_accuracy :  0.6744 , accuracy :  0.975 , cost :  0.132585\n",
      "Epoch 37, CIFAR-10 Batch 1:  valid_accuracy :  0.6638 , accuracy :  0.925 , cost :  0.202276\n",
      "Epoch 37, CIFAR-10 Batch 2:  valid_accuracy :  0.6448 , accuracy :  0.975 , cost :  0.0864583\n",
      "Epoch 37, CIFAR-10 Batch 3:  valid_accuracy :  0.6682 , accuracy :  1.0 , cost :  0.0807176\n",
      "Epoch 37, CIFAR-10 Batch 4:  valid_accuracy :  0.6694 , accuracy :  0.95 , cost :  0.160322\n",
      "Epoch 37, CIFAR-10 Batch 5:  valid_accuracy :  0.6724 , accuracy :  0.975 , cost :  0.132296\n",
      "Epoch 38, CIFAR-10 Batch 1:  valid_accuracy :  0.672 , accuracy :  0.975 , cost :  0.170721\n",
      "Epoch 38, CIFAR-10 Batch 2:  valid_accuracy :  0.66 , accuracy :  0.975 , cost :  0.0734268\n",
      "Epoch 38, CIFAR-10 Batch 3:  valid_accuracy :  0.6636 , accuracy :  1.0 , cost :  0.0746578\n",
      "Epoch 38, CIFAR-10 Batch 4:  valid_accuracy :  0.6722 , accuracy :  0.975 , cost :  0.148505\n",
      "Epoch 38, CIFAR-10 Batch 5:  valid_accuracy :  0.6744 , accuracy :  0.975 , cost :  0.107064\n",
      "Epoch 39, CIFAR-10 Batch 1:  valid_accuracy :  0.6718 , accuracy :  0.975 , cost :  0.140251\n",
      "Epoch 39, CIFAR-10 Batch 2:  valid_accuracy :  0.6672 , accuracy :  0.975 , cost :  0.068593\n",
      "Epoch 39, CIFAR-10 Batch 3:  valid_accuracy :  0.6686 , accuracy :  1.0 , cost :  0.0644627\n",
      "Epoch 39, CIFAR-10 Batch 4:  valid_accuracy :  0.6682 , accuracy :  0.975 , cost :  0.107647\n",
      "Epoch 39, CIFAR-10 Batch 5:  valid_accuracy :  0.6746 , accuracy :  1.0 , cost :  0.0832851\n",
      "Epoch 40, CIFAR-10 Batch 1:  valid_accuracy :  0.671 , accuracy :  0.975 , cost :  0.11319\n",
      "Epoch 40, CIFAR-10 Batch 2:  valid_accuracy :  0.655 , accuracy :  0.975 , cost :  0.0846911\n",
      "Epoch 40, CIFAR-10 Batch 3:  valid_accuracy :  0.6724 , accuracy :  1.0 , cost :  0.0533158\n",
      "Epoch 40, CIFAR-10 Batch 4:  valid_accuracy :  0.6658 , accuracy :  0.975 , cost :  0.100403\n",
      "Epoch 40, CIFAR-10 Batch 5:  valid_accuracy :  0.679 , accuracy :  0.975 , cost :  0.0767272\n",
      "Epoch 41, CIFAR-10 Batch 1:  valid_accuracy :  0.6766 , accuracy :  0.975 , cost :  0.093325\n",
      "Epoch 41, CIFAR-10 Batch 2:  valid_accuracy :  0.666 , accuracy :  0.975 , cost :  0.0629183\n",
      "Epoch 41, CIFAR-10 Batch 3:  valid_accuracy :  0.6696 , accuracy :  1.0 , cost :  0.0370266\n",
      "Epoch 41, CIFAR-10 Batch 4:  valid_accuracy :  0.6718 , accuracy :  1.0 , cost :  0.083333\n",
      "Epoch 41, CIFAR-10 Batch 5:  valid_accuracy :  0.674 , accuracy :  1.0 , cost :  0.0650858\n",
      "Epoch 42, CIFAR-10 Batch 1:  valid_accuracy :  0.678 , accuracy :  0.975 , cost :  0.091191\n",
      "Epoch 42, CIFAR-10 Batch 2:  valid_accuracy :  0.6684 , accuracy :  0.975 , cost :  0.0636284\n",
      "Epoch 42, CIFAR-10 Batch 3:  valid_accuracy :  0.6742 , accuracy :  1.0 , cost :  0.0354882\n",
      "Epoch 42, CIFAR-10 Batch 4:  valid_accuracy :  0.6796 , accuracy :  1.0 , cost :  0.055508\n",
      "Epoch 42, CIFAR-10 Batch 5:  valid_accuracy :  0.6788 , accuracy :  1.0 , cost :  0.0490661\n",
      "Epoch 43, CIFAR-10 Batch 1:  valid_accuracy :  0.6728 , accuracy :  0.975 , cost :  0.0746913\n",
      "Epoch 43, CIFAR-10 Batch 2:  valid_accuracy :  0.6668 , accuracy :  1.0 , cost :  0.0430123\n",
      "Epoch 43, CIFAR-10 Batch 3:  valid_accuracy :  0.6774 , accuracy :  1.0 , cost :  0.020988\n",
      "Epoch 43, CIFAR-10 Batch 4:  valid_accuracy :  0.671 , accuracy :  1.0 , cost :  0.0407745\n",
      "Epoch 43, CIFAR-10 Batch 5:  valid_accuracy :  0.6804 , accuracy :  1.0 , cost :  0.0437047\n",
      "Epoch 44, CIFAR-10 Batch 1:  valid_accuracy :  0.674 , accuracy :  1.0 , cost :  0.0518042\n",
      "Epoch 44, CIFAR-10 Batch 2:  valid_accuracy :  0.6748 , accuracy :  1.0 , cost :  0.0253509\n",
      "Epoch 44, CIFAR-10 Batch 3:  valid_accuracy :  0.667 , accuracy :  1.0 , cost :  0.021343\n",
      "Epoch 44, CIFAR-10 Batch 4:  valid_accuracy :  0.6808 , accuracy :  1.0 , cost :  0.0328507\n",
      "Epoch 44, CIFAR-10 Batch 5:  valid_accuracy :  0.6796 , accuracy :  1.0 , cost :  0.0338744\n",
      "Epoch 45, CIFAR-10 Batch 1:  valid_accuracy :  0.675 , accuracy :  1.0 , cost :  0.0552506\n",
      "Epoch 45, CIFAR-10 Batch 2:  valid_accuracy :  0.676 , accuracy :  1.0 , cost :  0.0344639\n",
      "Epoch 45, CIFAR-10 Batch 3:  valid_accuracy :  0.6664 , accuracy :  1.0 , cost :  0.0157612\n",
      "Epoch 45, CIFAR-10 Batch 4:  valid_accuracy :  0.6794 , accuracy :  1.0 , cost :  0.023946\n",
      "Epoch 45, CIFAR-10 Batch 5:  valid_accuracy :  0.6804 , accuracy :  1.0 , cost :  0.0247532\n",
      "Epoch 46, CIFAR-10 Batch 1:  valid_accuracy :  0.679 , accuracy :  1.0 , cost :  0.0284\n",
      "Epoch 46, CIFAR-10 Batch 2:  valid_accuracy :  0.6756 , accuracy :  1.0 , cost :  0.016657\n",
      "Epoch 46, CIFAR-10 Batch 3:  valid_accuracy :  0.6682 , accuracy :  1.0 , cost :  0.0193029\n",
      "Epoch 46, CIFAR-10 Batch 4:  valid_accuracy :  0.674 , accuracy :  1.0 , cost :  0.0220813\n",
      "Epoch 46, CIFAR-10 Batch 5:  valid_accuracy :  0.677 , accuracy :  1.0 , cost :  0.0300299\n",
      "Epoch 47, CIFAR-10 Batch 1:  valid_accuracy :  0.6844 , accuracy :  1.0 , cost :  0.0169425\n",
      "Epoch 47, CIFAR-10 Batch 2:  valid_accuracy :  0.6718 , accuracy :  1.0 , cost :  0.0109022\n",
      "Epoch 47, CIFAR-10 Batch 3:  valid_accuracy :  0.6752 , accuracy :  1.0 , cost :  0.0116276\n",
      "Epoch 47, CIFAR-10 Batch 4:  valid_accuracy :  0.683 , accuracy :  1.0 , cost :  0.021338\n",
      "Epoch 47, CIFAR-10 Batch 5:  valid_accuracy :  0.6868 , accuracy :  1.0 , cost :  0.0182097\n",
      "Epoch 48, CIFAR-10 Batch 1:  valid_accuracy :  0.6898 , accuracy :  1.0 , cost :  0.0227072\n",
      "Epoch 48, CIFAR-10 Batch 2:  valid_accuracy :  0.677 , accuracy :  1.0 , cost :  0.0142431\n",
      "Epoch 48, CIFAR-10 Batch 3:  valid_accuracy :  0.6714 , accuracy :  1.0 , cost :  0.0111394\n",
      "Epoch 48, CIFAR-10 Batch 4:  valid_accuracy :  0.6766 , accuracy :  1.0 , cost :  0.0237291\n",
      "Epoch 48, CIFAR-10 Batch 5:  valid_accuracy :  0.6808 , accuracy :  1.0 , cost :  0.0261353\n",
      "Epoch 49, CIFAR-10 Batch 1:  valid_accuracy :  0.6836 , accuracy :  1.0 , cost :  0.0214978\n",
      "Epoch 49, CIFAR-10 Batch 2:  valid_accuracy :  0.68 , accuracy :  1.0 , cost :  0.0112031\n",
      "Epoch 49, CIFAR-10 Batch 3:  valid_accuracy :  0.68 , accuracy :  1.0 , cost :  0.00766824\n",
      "Epoch 49, CIFAR-10 Batch 4:  valid_accuracy :  0.6788 , accuracy :  1.0 , cost :  0.0116063\n",
      "Epoch 49, CIFAR-10 Batch 5:  valid_accuracy :  0.6808 , accuracy :  1.0 , cost :  0.016918\n",
      "Epoch 50, CIFAR-10 Batch 1:  valid_accuracy :  0.6818 , accuracy :  1.0 , cost :  0.0208267\n",
      "Epoch 50, CIFAR-10 Batch 2:  valid_accuracy :  0.6792 , accuracy :  1.0 , cost :  0.0096294\n",
      "Epoch 50, CIFAR-10 Batch 3:  valid_accuracy :  0.6766 , accuracy :  1.0 , cost :  0.0101226\n",
      "Epoch 50, CIFAR-10 Batch 4:  valid_accuracy :  0.6772 , accuracy :  1.0 , cost :  0.0135313\n",
      "Epoch 50, CIFAR-10 Batch 5:  valid_accuracy :  0.6806 , accuracy :  1.0 , cost :  0.00857106\n"
     ]
    }
   ],
   "source": [
    "\"\"\"\n",
    "DON'T MODIFY ANYTHING IN THIS CELL\n",
    "\"\"\"\n",
    "save_model_path = './image_classification'\n",
    "\n",
    "print('Training...')\n",
    "with tf.Session() as sess:\n",
    "    # Initializing the variables\n",
    "    sess.run(tf.global_variables_initializer())\n",
    "    \n",
    "    # Training cycle\n",
    "    for epoch in range(epochs):\n",
    "        # Loop over all batches\n",
    "        n_batches = 5\n",
    "        for batch_i in range(1, n_batches + 1):\n",
    "            for batch_features, batch_labels in helper.load_preprocess_training_batch(batch_i, batch_size):\n",
    "                train_neural_network(sess, optimizer, keep_probability, batch_features, batch_labels)\n",
    "            print('Epoch {:>2}, CIFAR-10 Batch {}:  '.format(epoch + 1, batch_i), end='')\n",
    "            print_stats(sess, batch_features, batch_labels, cost, accuracy)\n",
    "            \n",
    "    # Save Model\n",
    "    saver = tf.train.Saver()\n",
    "    save_path = saver.save(sess, save_model_path)"
   ]
  },
  {
   "cell_type": "markdown",
   "metadata": {},
   "source": [
    "# Checkpoint\n",
    "The model has been saved to disk.\n",
    "## Test Model\n",
    "Test your model against the test dataset.  This will be your final accuracy. You should have an accuracy greater than 50%. If you don't, keep tweaking the model architecture and parameters."
   ]
  },
  {
   "cell_type": "code",
   "execution_count": 13,
   "metadata": {},
   "outputs": [
    {
     "name": "stdout",
     "output_type": "stream",
     "text": [
      "INFO:tensorflow:Restoring parameters from ./image_classification\n",
      "Testing Accuracy: 0.683203125\n",
      "\n"
     ]
    },
    {
     "data": {
      "image/png": "[encoded data removed]",
      "text/plain": [
       "<matplotlib.figure.Figure at 0x7f48aa4dbfd0>"
      ]
     },
     "metadata": {
      "image/png": {
       "height": 319,
       "width": 355
      }
     },
     "output_type": "display_data"
    }
   ],
   "source": [
    "\"\"\"\n",
    "DON'T MODIFY ANYTHING IN THIS CELL\n",
    "\"\"\"\n",
    "%matplotlib inline\n",
    "%config InlineBackend.figure_format = 'retina'\n",
    "\n",
    "import tensorflow as tf\n",
    "import pickle\n",
    "import helper\n",
    "import random\n",
    "\n",
    "# Set batch size if not already set\n",
    "try:\n",
    "    if batch_size:\n",
    "        pass\n",
    "except NameError:\n",
    "    batch_size = 64\n",
    "\n",
    "save_model_path = './image_classification'\n",
    "n_samples = 4\n",
    "top_n_predictions = 3\n",
    "\n",
    "def test_model():\n",
    "    \"\"\"\n",
    "    Test the saved model against the test dataset\n",
    "    \"\"\"\n",
    "\n",
    "    test_features, test_labels = pickle.load(open('preprocess_test.p', mode='rb'))\n",
    "    loaded_graph = tf.Graph()\n",
    "\n",
    "    with tf.Session(graph=loaded_graph) as sess:\n",
    "        # Load model\n",
    "        loader = tf.train.import_meta_graph(save_model_path + '.meta')\n",
    "        loader.restore(sess, save_model_path)\n",
    "\n",
    "        # Get Tensors from loaded model\n",
    "        loaded_x = loaded_graph.get_tensor_by_name('x:0')\n",
    "        loaded_y = loaded_graph.get_tensor_by_name('y:0')\n",
    "        loaded_keep_prob = loaded_graph.get_tensor_by_name('keep_prob:0')\n",
    "        loaded_logits = loaded_graph.get_tensor_by_name('logits:0')\n",
    "        loaded_acc = loaded_graph.get_tensor_by_name('accuracy:0')\n",
    "        \n",
    "        # Get accuracy in batches for memory limitations\n",
    "        test_batch_acc_total = 0\n",
    "        test_batch_count = 0\n",
    "        \n",
    "        for test_feature_batch, test_label_batch in helper.batch_features_labels(test_features, test_labels, batch_size):\n",
    "            test_batch_acc_total += sess.run(\n",
    "                loaded_acc,\n",
    "                feed_dict={loaded_x: test_feature_batch, loaded_y: test_label_batch, loaded_keep_prob: 1.0})\n",
    "            test_batch_count += 1\n",
    "\n",
    "        print('Testing Accuracy: {}\\n'.format(test_batch_acc_total/test_batch_count))\n",
    "\n",
    "        # Print Random Samples\n",
    "        random_test_features, random_test_labels = tuple(zip(*random.sample(list(zip(test_features, test_labels)), n_samples)))\n",
    "        random_test_predictions = sess.run(\n",
    "            tf.nn.top_k(tf.nn.softmax(loaded_logits), top_n_predictions),\n",
    "            feed_dict={loaded_x: random_test_features, loaded_y: random_test_labels, loaded_keep_prob: 1.0})\n",
    "        helper.display_image_predictions(random_test_features, random_test_labels, random_test_predictions)\n",
    "\n",
    "\n",
    "test_model()"
   ]
  },
  {
   "cell_type": "markdown",
   "metadata": {},
   "source": [
    "## Why 50-80% Accuracy?\n",
    "You might be wondering why you can't get an accuracy any higher. First things first, 50% isn't bad for a simple CNN.  Pure guessing would get you 10% accuracy. However, you might notice people are getting scores [well above 80%](http://rodrigob.github.io/are_we_there_yet/build/classification_datasets_results.html#43494641522d3130).  That's because we haven't taught you all there is to know about neural networks. We still need to cover a few more techniques.\n",
    "## Submitting This Project\n",
    "When submitting this project, make sure to run all the cells before saving the notebook.  Save the notebook file as \"dlnd_image_classification.ipynb\" and save it as a HTML file under \"File\" -> \"Download as\".  Include the \"helper.py\" and \"problem_unittests.py\" files in your submission."
   ]
  }
 ],
 "metadata": {
  "kernelspec": {
   "display_name": "Python 3",
   "language": "python",
   "name": "python3"
  },
  "language_info": {
   "codemirror_mode": {
    "name": "ipython",
    "version": 3
   },
   "file_extension": ".py",
   "mimetype": "text/x-python",
   "name": "python",
   "nbconvert_exporter": "python",
   "pygments_lexer": "ipython3",
   "version": "3.5.3"
  }
 },
 "nbformat": 4,
 "nbformat_minor": 1
}
